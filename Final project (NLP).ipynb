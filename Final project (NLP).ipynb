{
 "cells": [
  {
   "cell_type": "markdown",
   "metadata": {
    "collapsed": true
   },
   "source": [
    "# Two Different Approaches in Text Mining\n",
    "<br>\n",
    "## Abstract\n",
    "\n",
    "We will implement binary-class classification (positive sentiment vs. negative sentiment) based on text data on Yelp’s review dataset with two different approaches. The first approach is the standard __TF-IDF (Term Frequency - Inverse Document Frequency) matrix__ approach; We normalize text via case conversions, expanding contractions, removing special characters, removing stopwords etc. Then we construct a TF-IDF sparse matrix with true-labeled column and run supervised machine learning algorithms for binary-class classification. Another approach is a __Parsimonious Rule-Based Model for Sentiment Analysis__. We use an empirically constructed/validated gold-standard list of lexical features with their associated sentiment intensity measures. These features are combined with five general rules that embody grammatical and syntactical conventions, i.e., punctuation, capitalization, degree modifier, conjunction, and negation. We score each text/review with continuous polarity scores in range of [-1,1], where -1 represents extreme negative sentiment and 1 represents extreme positive sentiment. We investigate the performance of these two different approaches on different types of datasets, e.g., __Yelp review dataset (restaurant businesses only) vs. game review dataset__. By analyzing different performance results of two approaches on different topics of data, we reason advantages/disadvantages and limitations of each approach."
   ]
  },
  {
   "cell_type": "code",
   "execution_count": 1,
   "metadata": {},
   "outputs": [],
   "source": [
    "# packages needed\n",
    "import numpy as np\n",
    "import pandas as pd\n",
    "import random\n",
    "import json\n",
    "import re\n",
    "import matplotlib.pyplot as plt\n",
    "import pylab as plt\n",
    "import pickle\n",
    "import nltk"
   ]
  },
  {
   "cell_type": "markdown",
   "metadata": {},
   "source": [
    "## Yelp Review Dataset for Sentiment Analysis\n",
    "### Data Collection\n",
    "Conveniently, __Yelp__ has an open dataset @ https://www.yelp.com/dataset. One can simply one-click download *json* format review dataset. The dataset is called *review.json*, and it's saved in a local environment. We read this file and manipulate the dataset into pandas dataframe so that we can easily further manipulate/process/analyze.\n",
    "<br>\n",
    "<br>\n",
    "Note: The variable *data* is a type of *list*, and the elements inside *data* consist of *bytes* and *dictionary*. We take this dictionary's keys as column vector and take its values as row vectors."
   ]
  },
  {
   "cell_type": "code",
   "execution_count": 2,
   "metadata": {},
   "outputs": [],
   "source": [
    "# Yelp Review Dataset\n",
    "with open('review.json', 'rb') as f:\n",
    "    review_data = f.readlines()\n",
    "\n",
    "columns = list(json.loads(review_data[0]).keys())\n",
    "rows = []\n",
    "for i in range(0,len(review_data)):\n",
    "    rows.append(list(json.loads(review_data[i]).values()))\n",
    "\n",
    "review_data = pd.DataFrame(rows, columns=columns)\n",
    "\n",
    "# Yelp Business Dataset\n",
    "with open('business.json', 'rb') as f:\n",
    "    business_data = f.readlines()\n",
    "\n",
    "columns = list(json.loads(business_data[0]).keys())\n",
    "rows = []\n",
    "for i in range(0,len(business_data)):\n",
    "    rows.append(list(json.loads(business_data[i]).values()))\n",
    "\n",
    "business_data = pd.DataFrame(rows, columns=columns)"
   ]
  },
  {
   "cell_type": "markdown",
   "metadata": {},
   "source": [
    "We check how many businesses are still open and operating."
   ]
  },
  {
   "cell_type": "code",
   "execution_count": 3,
   "metadata": {},
   "outputs": [
    {
     "data": {
      "text/plain": [
       "0.8403764743622792"
      ]
     },
     "execution_count": 3,
     "metadata": {},
     "output_type": "execute_result"
    }
   ],
   "source": [
    "# proportion of open businesses\n",
    "np.sum(business_data['is_open']) / len(business_data)"
   ]
  },
  {
   "cell_type": "markdown",
   "metadata": {},
   "source": [
    "About 84% of businesses in the dataset are still operating. We truncate our data to the ones that are currently operating."
   ]
  },
  {
   "cell_type": "code",
   "execution_count": 4,
   "metadata": {},
   "outputs": [],
   "source": [
    "business_data = business_data[business_data.is_open == 1]"
   ]
  },
  {
   "cell_type": "markdown",
   "metadata": {},
   "source": [
    "Now we merge two datasets above into one *Yelp_review*. We will analyze this *Yelp_review* for text mining. We truncate it to only include restaurant businesses. Also, we remove rows with null values and all columns we do not need."
   ]
  },
  {
   "cell_type": "markdown",
   "metadata": {},
   "source": [
    "We drop rows with null values, non-restaurant businesses, non-US/Canada/UK businesses."
   ]
  },
  {
   "cell_type": "code",
   "execution_count": 5,
   "metadata": {},
   "outputs": [
    {
     "data": {
      "text/html": [
       "<div>\n",
       "<style scoped>\n",
       "    .dataframe tbody tr th:only-of-type {\n",
       "        vertical-align: middle;\n",
       "    }\n",
       "\n",
       "    .dataframe tbody tr th {\n",
       "        vertical-align: top;\n",
       "    }\n",
       "\n",
       "    .dataframe thead th {\n",
       "        text-align: right;\n",
       "    }\n",
       "</style>\n",
       "<table border=\"1\" class=\"dataframe\">\n",
       "  <thead>\n",
       "    <tr style=\"text-align: right;\">\n",
       "      <th></th>\n",
       "      <th>review</th>\n",
       "      <th>rating</th>\n",
       "    </tr>\n",
       "  </thead>\n",
       "  <tbody>\n",
       "    <tr>\n",
       "      <th>0</th>\n",
       "      <td>I've always enjoyed my time at brick house foo...</td>\n",
       "      <td>4</td>\n",
       "    </tr>\n",
       "    <tr>\n",
       "      <th>1</th>\n",
       "      <td>1st time here. Came w my Unc bc Louies was clo...</td>\n",
       "      <td>2</td>\n",
       "    </tr>\n",
       "    <tr>\n",
       "      <th>2</th>\n",
       "      <td>Worse service ever andI use to be a server so ...</td>\n",
       "      <td>1</td>\n",
       "    </tr>\n",
       "    <tr>\n",
       "      <th>3</th>\n",
       "      <td>I am updating my review to 5-stars because I t...</td>\n",
       "      <td>5</td>\n",
       "    </tr>\n",
       "    <tr>\n",
       "      <th>4</th>\n",
       "      <td>I enjoyed this place.  I went the night the Bu...</td>\n",
       "      <td>4</td>\n",
       "    </tr>\n",
       "  </tbody>\n",
       "</table>\n",
       "</div>"
      ],
      "text/plain": [
       "                                              review  rating\n",
       "0  I've always enjoyed my time at brick house foo...       4\n",
       "1  1st time here. Came w my Unc bc Louies was clo...       2\n",
       "2  Worse service ever andI use to be a server so ...       1\n",
       "3  I am updating my review to 5-stars because I t...       5\n",
       "4  I enjoyed this place.  I went the night the Bu...       4"
      ]
     },
     "execution_count": 5,
     "metadata": {},
     "output_type": "execute_result"
    }
   ],
   "source": [
    "Yelp_review = pd.merge(business_data, review_data, how='outer', on='business_id')\n",
    "\n",
    "Yelp_review = Yelp_review[Yelp_review['name'].notnull()]\n",
    "Yelp_review = Yelp_review[Yelp_review['categories'].notnull()]\n",
    "\n",
    "def filter_restaurants(x):\n",
    "    if 'Restaurants' in x:\n",
    "        x = 1\n",
    "    else:\n",
    "        x = 0\n",
    "    return x\n",
    "Yelp_review['categories'] = np.vectorize(filter_restaurants)(Yelp_review['categories'])\n",
    "\n",
    "Yelp_review = Yelp_review[Yelp_review['categories'] == 1]\n",
    "\n",
    "Yelp_review = Yelp_review[(Yelp_review['state'] != '01') & (Yelp_review['state'] != '3') & (Yelp_review['state'] != '30')\n",
    "           & (Yelp_review['state'] != '6') & (Yelp_review['state'] != 'B') & (Yelp_review['state'] != 'BW')\n",
    "           & (Yelp_review['state'] != 'BY') & (Yelp_review['state'] != 'C') & (Yelp_review['state'] != 'HU')\n",
    "           & (Yelp_review['state'] != 'NI') & (Yelp_review['state'] != 'VS')]\n",
    "\n",
    "Yelp_review = Yelp_review[['text','stars_y']]\n",
    "Yelp_review = Yelp_review.rename(columns={'text': 'review', 'stars_y': 'rating'})\n",
    "Yelp_review = Yelp_review.reset_index(drop=True)\n",
    "Yelp_review.head()"
   ]
  },
  {
   "cell_type": "markdown",
   "metadata": {},
   "source": [
    "First of all, let's check the distribution of rating."
   ]
  },
  {
   "cell_type": "code",
   "execution_count": 6,
   "metadata": {},
   "outputs": [
    {
     "data": {
      "image/png": "[encoded data removed]",
      "text/plain": [
       "<matplotlib.figure.Figure at 0x1a76a30fd0>"
      ]
     },
     "metadata": {},
     "output_type": "display_data"
    }
   ],
   "source": [
    "n, bins, patches = plt.hist(Yelp_review['rating'], align='left',\n",
    "                            range=[0.5, 5.5], facecolor='blue', alpha=0.8)\n",
    "\n",
    "plt.xlabel('rating')\n",
    "plt.ylabel('frequency')\n",
    "plt.title('Yelp Review Rate Distribution')\n",
    "plt.grid(True)\n",
    "\n",
    "plt.show()"
   ]
  },
  {
   "cell_type": "markdown",
   "metadata": {},
   "source": [
    "We will remove 3-star rated reviews, because we don't think that 3-star reviews are a good represententative for negative or positive sentiment. More often than not, 3-star reviews show slightly more negative sentiments, but this highly depends on individual. For example, some give 3-stars thinking 3-stars are pretty bad, while others give 3-stars thinking 3-stars are slightly better than average. This is not representative and could be problematic. Furthermore, the proportion of 3-star rated reviews are relatively small, so it would not affect our training too much."
   ]
  },
  {
   "cell_type": "code",
   "execution_count": 7,
   "metadata": {},
   "outputs": [],
   "source": [
    "Yelp_review = Yelp_review[Yelp_review['rating'] != 3]"
   ]
  },
  {
   "cell_type": "markdown",
   "metadata": {},
   "source": [
    "We define a *sentiment_classifier* function to create a new column *sentiment*. __1__ represents 'positive sentiment', and __0__ represents 'negative sentiment'."
   ]
  },
  {
   "cell_type": "code",
   "execution_count": 8,
   "metadata": {},
   "outputs": [
    {
     "data": {
      "text/html": [
       "<div>\n",
       "<style scoped>\n",
       "    .dataframe tbody tr th:only-of-type {\n",
       "        vertical-align: middle;\n",
       "    }\n",
       "\n",
       "    .dataframe tbody tr th {\n",
       "        vertical-align: top;\n",
       "    }\n",
       "\n",
       "    .dataframe thead th {\n",
       "        text-align: right;\n",
       "    }\n",
       "</style>\n",
       "<table border=\"1\" class=\"dataframe\">\n",
       "  <thead>\n",
       "    <tr style=\"text-align: right;\">\n",
       "      <th></th>\n",
       "      <th>review</th>\n",
       "      <th>rating</th>\n",
       "      <th>sentiment</th>\n",
       "    </tr>\n",
       "  </thead>\n",
       "  <tbody>\n",
       "    <tr>\n",
       "      <th>0</th>\n",
       "      <td>I've always enjoyed my time at brick house foo...</td>\n",
       "      <td>4</td>\n",
       "      <td>1</td>\n",
       "    </tr>\n",
       "    <tr>\n",
       "      <th>1</th>\n",
       "      <td>1st time here. Came w my Unc bc Louies was clo...</td>\n",
       "      <td>2</td>\n",
       "      <td>0</td>\n",
       "    </tr>\n",
       "    <tr>\n",
       "      <th>2</th>\n",
       "      <td>Worse service ever andI use to be a server so ...</td>\n",
       "      <td>1</td>\n",
       "      <td>0</td>\n",
       "    </tr>\n",
       "    <tr>\n",
       "      <th>3</th>\n",
       "      <td>I am updating my review to 5-stars because I t...</td>\n",
       "      <td>5</td>\n",
       "      <td>1</td>\n",
       "    </tr>\n",
       "    <tr>\n",
       "      <th>4</th>\n",
       "      <td>I enjoyed this place.  I went the night the Bu...</td>\n",
       "      <td>4</td>\n",
       "      <td>1</td>\n",
       "    </tr>\n",
       "  </tbody>\n",
       "</table>\n",
       "</div>"
      ],
      "text/plain": [
       "                                              review  rating  sentiment\n",
       "0  I've always enjoyed my time at brick house foo...       4          1\n",
       "1  1st time here. Came w my Unc bc Louies was clo...       2          0\n",
       "2  Worse service ever andI use to be a server so ...       1          0\n",
       "3  I am updating my review to 5-stars because I t...       5          1\n",
       "4  I enjoyed this place.  I went the night the Bu...       4          1"
      ]
     },
     "execution_count": 8,
     "metadata": {},
     "output_type": "execute_result"
    }
   ],
   "source": [
    "def sentiment_classifier(x):\n",
    "    if (x == 5) or (x == 4):\n",
    "        y = 1\n",
    "    else:\n",
    "        y = 0\n",
    "    return y\n",
    "Yelp_review['sentiment'] = np.vectorize(sentiment_classifier)(Yelp_review['rating'])\n",
    "Yelp_review.head()"
   ]
  },
  {
   "cell_type": "markdown",
   "metadata": {},
   "source": [
    "Now we are good to go."
   ]
  },
  {
   "cell_type": "markdown",
   "metadata": {},
   "source": [
    "### 1. TF_IDF Matrix Approach\n",
    "In general, text data are highly unstructured with little-to-no numeric values. This means that, with the current format, it is hard to apply most of machine learning algorithms, which typically require numerical inputs. In the __TF-IDF (Term Frequency - Inverse Document Frequency) matrix__, we clean and pre-process text column by case-conversion, expanding contractions, removing special characters, removing stopwords etc. Note that this part is probably the most time-consuming and also most important part of text mining. Even though we have a big dataset of over 2 million observations to train, without appropriate pre-processing, the results we get will likely be \"bad\".\n",
    "<br>\n",
    "<br>\n",
    "Before we begin pre-processing, let's make a copy of the original data."
   ]
  },
  {
   "cell_type": "code",
   "execution_count": 9,
   "metadata": {},
   "outputs": [],
   "source": [
    "Yelp_review_original = Yelp_review.copy()"
   ]
  },
  {
   "cell_type": "markdown",
   "metadata": {},
   "source": [
    "Again, we start with the distribution of sentiment distribution."
   ]
  },
  {
   "cell_type": "code",
   "execution_count": 10,
   "metadata": {},
   "outputs": [
    {
     "data": {
      "image/png": "[encoded data removed]",
      "text/plain": [
       "<matplotlib.figure.Figure at 0x1a77069940>"
      ]
     },
     "metadata": {},
     "output_type": "display_data"
    }
   ],
   "source": [
    "x = [1,2]\n",
    "y = [Yelp_review[(Yelp_review['sentiment'] == 0)].count()[0],\n",
    "     (len(Yelp_review)-Yelp_review[(Yelp_review['sentiment'] == 0)].count()[0])]\n",
    "\n",
    "labels = list(np.unique(Yelp_review['sentiment']))\n",
    "\n",
    "plt.bar(x, y, align='center')\n",
    "plt.xticks(x, labels)\n",
    "plt.xlabel('sentiment')\n",
    "plt.ylabel('frequency')\n",
    "plt.title('Yelp Review Sentiment Distribution')\n",
    "plt.grid(True)\n",
    "plt.show()"
   ]
  },
  {
   "cell_type": "markdown",
   "metadata": {},
   "source": [
    "Data is a bit imbalanced. We will remedy this by randomly undersampling from the majority class (positive sentiment) without replacement. By doing this, we will lose some of potentially useful information, but that's a compromise we choose to make, considering we have big data."
   ]
  },
  {
   "cell_type": "code",
   "execution_count": 11,
   "metadata": {},
   "outputs": [
    {
     "data": {
      "image/png": "[encoded data removed]",
      "text/plain": [
       "<matplotlib.figure.Figure at 0x1a712ac9b0>"
      ]
     },
     "metadata": {},
     "output_type": "display_data"
    }
   ],
   "source": [
    "Yelp_review_pos = Yelp_review[Yelp_review['sentiment'] == 1]\n",
    "Yelp_review_neg = Yelp_review[Yelp_review['sentiment'] == 0]\n",
    "\n",
    "np.random.seed(1)\n",
    "Yelp_review = pd.concat([Yelp_review_pos.sample(round(len(Yelp_review_pos)*0.5)), Yelp_review_neg])\n",
    "Yelp_review = Yelp_review.reset_index(drop=True)\n",
    "\n",
    "x = [1,2]\n",
    "y = [Yelp_review[(Yelp_review['sentiment'] == 0)].count()[0],\n",
    "     (len(Yelp_review)-Yelp_review[(Yelp_review['sentiment'] == 0)].count()[0])]\n",
    "\n",
    "labels = list(np.unique(Yelp_review['sentiment']))\n",
    "\n",
    "plt.bar(x, y, align='center')\n",
    "plt.xticks(x, labels)\n",
    "plt.xlabel('sentiment')\n",
    "plt.ylabel('frequency')\n",
    "plt.title('Yelp Review Sentiment Distribution')\n",
    "plt.grid(True)\n",
    "plt.show()"
   ]
  },
  {
   "cell_type": "markdown",
   "metadata": {},
   "source": [
    "Data look more or less balanced now.\n",
    "<br>\n",
    "<br>\n",
    "Since we can't get new data with the same format, we will put aside *test dataset*. After pre-processing and training on the rest dataset, i.e. *train dataset*, we will test our model on the *test dataset* in the end, and that will be our performance metric. We choose to put aside 20% of data as a test dataset."
   ]
  },
  {
   "cell_type": "code",
   "execution_count": 12,
   "metadata": {},
   "outputs": [],
   "source": [
    "# train / test set split\n",
    "np.random.seed(1)\n",
    "indices = Yelp_review.index.tolist()\n",
    "np.random.shuffle(indices)\n",
    "\n",
    "train_indices = indices[:int(len(Yelp_review)*0.8)]\n",
    "test_indices = indices[int(len(Yelp_review)*0.8):]\n",
    "\n",
    "Yelp_review_train = Yelp_review.iloc[train_indices,:].reset_index(drop=True)\n",
    "Yelp_review_test = Yelp_review.iloc[test_indices,:].reset_index(drop=True)"
   ]
  },
  {
   "cell_type": "markdown",
   "metadata": {},
   "source": [
    "### Pre-processing\n",
    "\n",
    "#### 1) Case conversion\n",
    "Our first pre-processing task is converting every character to lower case. We assume that there is no significant difference between uppercase words and lowercase words, i.e., the word *__Her__* does not have a significant difference in meaning whether it's used as *\"__Her__ dog was sick\"* or as *\"I like __her__ dog\"*. With this assumption, there's no reason for us to consider *Her* and *her* as two different unique words."
   ]
  },
  {
   "cell_type": "code",
   "execution_count": 13,
   "metadata": {},
   "outputs": [
    {
     "data": {
      "text/html": [
       "<div>\n",
       "<style scoped>\n",
       "    .dataframe tbody tr th:only-of-type {\n",
       "        vertical-align: middle;\n",
       "    }\n",
       "\n",
       "    .dataframe tbody tr th {\n",
       "        vertical-align: top;\n",
       "    }\n",
       "\n",
       "    .dataframe thead th {\n",
       "        text-align: right;\n",
       "    }\n",
       "</style>\n",
       "<table border=\"1\" class=\"dataframe\">\n",
       "  <thead>\n",
       "    <tr style=\"text-align: right;\">\n",
       "      <th></th>\n",
       "      <th>review</th>\n",
       "      <th>rating</th>\n",
       "      <th>sentiment</th>\n",
       "      <th>converted_review</th>\n",
       "    </tr>\n",
       "  </thead>\n",
       "  <tbody>\n",
       "    <tr>\n",
       "      <th>0</th>\n",
       "      <td>Me and my Wife wanted to try this place once, ...</td>\n",
       "      <td>2</td>\n",
       "      <td>0</td>\n",
       "      <td>me and my wife wanted to try this place once, ...</td>\n",
       "    </tr>\n",
       "    <tr>\n",
       "      <th>1</th>\n",
       "      <td>Best Mexican food ever! Has a very comforting ...</td>\n",
       "      <td>5</td>\n",
       "      <td>1</td>\n",
       "      <td>best mexican food ever! has a very comforting ...</td>\n",
       "    </tr>\n",
       "    <tr>\n",
       "      <th>2</th>\n",
       "      <td>Want to thank Hong for her great customer serv...</td>\n",
       "      <td>5</td>\n",
       "      <td>1</td>\n",
       "      <td>want to thank hong for her great customer serv...</td>\n",
       "    </tr>\n",
       "    <tr>\n",
       "      <th>3</th>\n",
       "      <td>Absolutely delicious!\\nI am a big fan of afgha...</td>\n",
       "      <td>4</td>\n",
       "      <td>1</td>\n",
       "      <td>absolutely delicious!\\ni am a big fan of afgha...</td>\n",
       "    </tr>\n",
       "    <tr>\n",
       "      <th>4</th>\n",
       "      <td>Fast service, big portions, clean restaurant. ...</td>\n",
       "      <td>5</td>\n",
       "      <td>1</td>\n",
       "      <td>fast service, big portions, clean restaurant. ...</td>\n",
       "    </tr>\n",
       "  </tbody>\n",
       "</table>\n",
       "</div>"
      ],
      "text/plain": [
       "                                              review  rating  sentiment  \\\n",
       "0  Me and my Wife wanted to try this place once, ...       2          0   \n",
       "1  Best Mexican food ever! Has a very comforting ...       5          1   \n",
       "2  Want to thank Hong for her great customer serv...       5          1   \n",
       "3  Absolutely delicious!\\nI am a big fan of afgha...       4          1   \n",
       "4  Fast service, big portions, clean restaurant. ...       5          1   \n",
       "\n",
       "                                    converted_review  \n",
       "0  me and my wife wanted to try this place once, ...  \n",
       "1  best mexican food ever! has a very comforting ...  \n",
       "2  want to thank hong for her great customer serv...  \n",
       "3  absolutely delicious!\\ni am a big fan of afgha...  \n",
       "4  fast service, big portions, clean restaurant. ...  "
      ]
     },
     "execution_count": 13,
     "metadata": {},
     "output_type": "execute_result"
    }
   ],
   "source": [
    "#Yelp_review_train['converted_review'] = Yelp_review_train['review'].str.lower()\n",
    "#converted_review = list(Yelp_review_train['converted_review'])\n",
    "#Yelp_review_train.head()"
   ]
  },
  {
   "cell_type": "markdown",
   "metadata": {},
   "source": [
    "#### 2) Expanding contractions\n",
    "<br>\n",
    "Contractions such as *\"I'm\"*, *\"you're\"*, *\"they're\"* will be expanded to the formal form of *\"I am\"*, *\"you are\"*, *\"they are\"*. The reason we do this is that there is no difference at all between *\"I am\"* and *\"I'm\"* semantically, but when we tokenize them, they will be separated as different tokens, which is not a meaningful separation.\n",
    "<br>\n",
    "<br>\n",
    "Ambiguous contractions can be a problem here, though. There are some contractions that can have multiple meanings, which means that, without context, it will be hard to determine which means which. For example, *\"he'd\"* could be either *\"he would\"* or *\"he had\"*. Also, *\"ain't\"* could be either *\"am not\"* or *\"are not\"*. But if we think about it, this ambiguity does not play a major role for our purpose, sentiment analysis. Because these examples show little to no information about one's opinions. What matters is *\"not\"* and a verb that follows. And in case of *\"he'll\"* => *\"he will\"* or *\"he shall\"*, we simply choose *\"he will\"* since *\"he shall\"* is a rare expression, and we will remove a certain percentage of the least frequent tokens later anyway."
   ]
  },
  {
   "cell_type": "code",
   "execution_count": 13,
   "metadata": {},
   "outputs": [],
   "source": [
    "#contraction_dict = { \n",
    "#\"ain't\": \"am not\", \"aren't\": \"are not\", \"can't\": \"cannot\", \"'cause\": \"because\", \"could've\": \"could have\",\n",
    "#\"couldn't\": \"could not\", \"didn't\": \"did not\", \"doesn't\": \"does not\", \"don't\": \"do not\", \"hadn't\": \"had not\",\n",
    "#\"hasn't\": \"has not\", \"haven't\": \"have not\", \"he'd\": \"he would\", \"he'll\": \"he will\", \"he's\": \"he is\", \"how'd\": \"how did\",\n",
    "#\"how'll\": \"how will\", \"how's\": \"how is\", \"i'd\": \"i would\", \"i'll\": \"i will\", \"i'm\": \"i am\", \"i've\": \"i have\",\n",
    "#\"isn't\": \"is not\", \"it'd\": \"it would\", \"it'll\": \"it will\", \"it's\": \"it is\", \"let's\": \"let us\", \"might've\": \"might have\",\n",
    "#\"mightn't\": \"might not\", \"must've\": \"must have\", \"mustn't\": \"must not\", \"needn't\": \"need not\", \"oughtn't\": \"ought not\",\n",
    "#\"shan't\": \"shall not\", \"she'd\": \"she would\", \"she'll\": \"she will\", \"she's\": \"she is\", \"should've\": \"should have\",\n",
    "#\"shouldn't\": \"should not\", \"that'd\": \"that would\", \"that's\": \"that is\", \"there'd\": \"there would\", \"there's\": \"there is\",\n",
    "#\"they'd\": \"they would\", \"they'll\": \"they will\", \"they're\": \"they are\", \"they've\": \"they have\", \"wasn't\": \"was not\",\n",
    "#\"we'd\": \"we would\", \"we'll\": \"we will\", \"we're\": \"we are\", \"we've\": \"we have\", \"weren't\": \"were not\", \"what'll\": \"what will\",\n",
    "#\"what're\": \"what are\", \"what's\": \"what is\", \"what've\": \"what have\", \"when's\": \"when is\", \"when've\": \"when have\",\n",
    "#\"where'd\": \"where did\", \"where's\": \"where is\", \"where've\": \"where have\", \"who'll\": \"who will\", \"who's\": \"who is\",\n",
    "#\"who've\": \"who have\", \"why's\": \"why is\", \"why've\": \"why have\", \"will've\": \"will have\", \"won't\": \"will not\",\n",
    "#\"would've\": \"would have\", \"wouldn't\": \"would not\", \"y'all\": \"you all\", \"you'd\": \"you would\", \"you'll\": \"you will\",\n",
    "#\"you're\": \"you are\", \"you've\": \"you have\"\n",
    "#}\n",
    "#\n",
    "#contraction_re = re.compile('(%s)' % '|'.join(contraction_dict.keys()))\n",
    "#def expand_contractions(s, contraction_dict=contraction_dict):\n",
    "#     def replace(match):\n",
    "#         return contraction_dict[match.group(0)]\n",
    "#     return contraction_re.sub(replace, s)\n",
    "#    \n",
    "#for i in range(0,len(converted_review)):\n",
    "#    converted_review[i] = expand_contractions(converted_review[i])"
   ]
  },
  {
   "cell_type": "markdown",
   "metadata": {},
   "source": [
    "#### 3) Removing Special Characters\n",
    "Often punctuation or special characters do not have much significance when we analyze the text and utilize it for extracting features or information based on NLP and ML."
   ]
  },
  {
   "cell_type": "code",
   "execution_count": 14,
   "metadata": {},
   "outputs": [],
   "source": [
    "#def remove_special_characters(sentence, keep_apostrophes=False):\n",
    "#    sentence = sentence.strip()\n",
    "#    if keep_apostrophes:\n",
    "#        PATTERN = r'[!|?|$|&|*|%|@|(|)|~|#|^|-|_|+|=]' # add other characters here to remove them\n",
    "#        filtered_sentence = re.sub(PATTERN, r'', sentence)\n",
    "#    else:\n",
    "#        PATTERN = r'[^a-zA-Z0-9 ]' # only extract alpha-numeric characters\n",
    "#        filtered_sentence = re.sub(PATTERN, r'', sentence)\n",
    "#    return filtered_sentence\n",
    "#\n",
    "#converted_review = [remove_special_characters(sentence) for sentence in converted_review]"
   ]
  },
  {
   "cell_type": "markdown",
   "metadata": {},
   "source": [
    "#### 4) Lemmatization\n",
    "Lemmatization is very time-consuming process. For the simplicity, we skip lemmatization. In fact, TF-IDF model turned out to be pretty good without lemmatization."
   ]
  },
  {
   "cell_type": "code",
   "execution_count": 16,
   "metadata": {},
   "outputs": [],
   "source": [
    "#from nltk.stem import WordNetLemmatizer\n",
    "#from nltk import pos_tag\n",
    "#from nltk.corpus import wordnet as wn\n",
    "#nltk.download(['averaged_perceptron_tagger','universal_tagset','wordnet'])\n",
    "\n",
    "#wnl = WordNetLemmatizer()\n",
    "\n",
    "#def tokenize_text(text):\n",
    "#    tokens = nltk.word_tokenize(text) \n",
    "#    tokens = [token.strip() for token in tokens]\n",
    "#    return tokens\n",
    "\n",
    "### Annotate text tokens with POS tags\n",
    "#def pos_tag_text(text):\n",
    "    \n",
    "#    def penn_to_wn_tags(pos_tag):\n",
    "#        if pos_tag.startswith('J'):\n",
    "#            return wn.ADJ\n",
    "#        elif pos_tag.startswith('V'):\n",
    "#            return wn.VERB\n",
    "#        elif pos_tag.startswith('N'):\n",
    "#            return wn.NOUN\n",
    "#        elif pos_tag.startswith('R'):\n",
    "#            return wn.ADV\n",
    "#        else:\n",
    "#            return None\n",
    "\n",
    "#    tagged_text = pos_tag(text)\n",
    "#    tagged_lower_text = [(word.lower(), penn_to_wn_tags(pos_tag)) for word, pos_tag in tagged_text]\n",
    "#    return tagged_lower_text\n",
    "\n",
    "### lemmatize text based on POS tags \n",
    "#def lemmatize_text(text):\n",
    "#    text = tokenize_text(text)\n",
    "#    pos_tagged_text = pos_tag_text(text)\n",
    "#    lemmatized_tokens = [wnl.lemmatize(word, pos_tag) if pos_tag\n",
    "#                         else word                     \n",
    "#                         for word, pos_tag in pos_tagged_text]\n",
    "#    lemmatized_text = ' '.join(lemmatized_tokens)\n",
    "#    return lemmatized_text\n",
    "\n",
    "#converted_review = [lemmatize_text(sentence) for sentence in converted_review]"
   ]
  },
  {
   "cell_type": "markdown",
   "metadata": {},
   "source": [
    "Now we add a new column *converted_review* to the train data. Then we pickle *Yelp_review_train* dataset."
   ]
  },
  {
   "cell_type": "code",
   "execution_count": 15,
   "metadata": {},
   "outputs": [
    {
     "data": {
      "text/html": [
       "<div>\n",
       "<style scoped>\n",
       "    .dataframe tbody tr th:only-of-type {\n",
       "        vertical-align: middle;\n",
       "    }\n",
       "\n",
       "    .dataframe tbody tr th {\n",
       "        vertical-align: top;\n",
       "    }\n",
       "\n",
       "    .dataframe thead th {\n",
       "        text-align: right;\n",
       "    }\n",
       "</style>\n",
       "<table border=\"1\" class=\"dataframe\">\n",
       "  <thead>\n",
       "    <tr style=\"text-align: right;\">\n",
       "      <th></th>\n",
       "      <th>review</th>\n",
       "      <th>rating</th>\n",
       "      <th>sentiment</th>\n",
       "      <th>converted_review</th>\n",
       "    </tr>\n",
       "  </thead>\n",
       "  <tbody>\n",
       "    <tr>\n",
       "      <th>0</th>\n",
       "      <td>Me and my Wife wanted to try this place once, ...</td>\n",
       "      <td>2</td>\n",
       "      <td>0</td>\n",
       "      <td>me and my wife wanted to try this place once i...</td>\n",
       "    </tr>\n",
       "    <tr>\n",
       "      <th>1</th>\n",
       "      <td>Best Mexican food ever! Has a very comforting ...</td>\n",
       "      <td>5</td>\n",
       "      <td>1</td>\n",
       "      <td>best mexican food ever has a very comforting e...</td>\n",
       "    </tr>\n",
       "    <tr>\n",
       "      <th>2</th>\n",
       "      <td>Want to thank Hong for her great customer serv...</td>\n",
       "      <td>5</td>\n",
       "      <td>1</td>\n",
       "      <td>want to thank hong for her great customer serv...</td>\n",
       "    </tr>\n",
       "    <tr>\n",
       "      <th>3</th>\n",
       "      <td>Absolutely delicious!\\nI am a big fan of afgha...</td>\n",
       "      <td>4</td>\n",
       "      <td>1</td>\n",
       "      <td>absolutely deliciousi am a big fan of afghani ...</td>\n",
       "    </tr>\n",
       "    <tr>\n",
       "      <th>4</th>\n",
       "      <td>Fast service, big portions, clean restaurant. ...</td>\n",
       "      <td>5</td>\n",
       "      <td>1</td>\n",
       "      <td>fast service big portions clean restaurant gre...</td>\n",
       "    </tr>\n",
       "    <tr>\n",
       "      <th>5</th>\n",
       "      <td>Nobu should add three letters to the end of it...</td>\n",
       "      <td>1</td>\n",
       "      <td>0</td>\n",
       "      <td>nobu should add three letters to the end of it...</td>\n",
       "    </tr>\n",
       "    <tr>\n",
       "      <th>6</th>\n",
       "      <td>The pictures don't do this place justice, the ...</td>\n",
       "      <td>5</td>\n",
       "      <td>1</td>\n",
       "      <td>the pictures do not do this place justice the ...</td>\n",
       "    </tr>\n",
       "    <tr>\n",
       "      <th>7</th>\n",
       "      <td>My family and I visit this restaurant often. T...</td>\n",
       "      <td>1</td>\n",
       "      <td>0</td>\n",
       "      <td>my family and i visit this restaurant often to...</td>\n",
       "    </tr>\n",
       "    <tr>\n",
       "      <th>8</th>\n",
       "      <td>Hands down, far and away, the best deli in Dan...</td>\n",
       "      <td>5</td>\n",
       "      <td>1</td>\n",
       "      <td>hands down far and away the best deli in dane ...</td>\n",
       "    </tr>\n",
       "    <tr>\n",
       "      <th>9</th>\n",
       "      <td>Disgusting, it started off with the lady worki...</td>\n",
       "      <td>1</td>\n",
       "      <td>0</td>\n",
       "      <td>disgusting it started off with the lady workin...</td>\n",
       "    </tr>\n",
       "  </tbody>\n",
       "</table>\n",
       "</div>"
      ],
      "text/plain": [
       "                                              review  rating  sentiment  \\\n",
       "0  Me and my Wife wanted to try this place once, ...       2          0   \n",
       "1  Best Mexican food ever! Has a very comforting ...       5          1   \n",
       "2  Want to thank Hong for her great customer serv...       5          1   \n",
       "3  Absolutely delicious!\\nI am a big fan of afgha...       4          1   \n",
       "4  Fast service, big portions, clean restaurant. ...       5          1   \n",
       "5  Nobu should add three letters to the end of it...       1          0   \n",
       "6  The pictures don't do this place justice, the ...       5          1   \n",
       "7  My family and I visit this restaurant often. T...       1          0   \n",
       "8  Hands down, far and away, the best deli in Dan...       5          1   \n",
       "9  Disgusting, it started off with the lady worki...       1          0   \n",
       "\n",
       "                                    converted_review  \n",
       "0  me and my wife wanted to try this place once i...  \n",
       "1  best mexican food ever has a very comforting e...  \n",
       "2  want to thank hong for her great customer serv...  \n",
       "3  absolutely deliciousi am a big fan of afghani ...  \n",
       "4  fast service big portions clean restaurant gre...  \n",
       "5  nobu should add three letters to the end of it...  \n",
       "6  the pictures do not do this place justice the ...  \n",
       "7  my family and i visit this restaurant often to...  \n",
       "8  hands down far and away the best deli in dane ...  \n",
       "9  disgusting it started off with the lady workin...  "
      ]
     },
     "execution_count": 15,
     "metadata": {},
     "output_type": "execute_result"
    }
   ],
   "source": [
    "#Yelp_review_train['converted_review'] = pd.Series(converted_review)\n",
    "\n",
    "#pickle.dump(Yelp_review_train, open('Yelp_review_train.pkl', 'wb'))\n",
    "Yelp_review_train = pickle.load(open('Yelp_review_train.pkl', 'rb'))\n",
    "Yelp_review_train.head(10)"
   ]
  },
  {
   "cell_type": "markdown",
   "metadata": {},
   "source": [
    "#### 4) Tokenization / Parameter Tuning\n",
    "We wanted to fine-tune parameters for *TfidfVectorizer* and *RandomForestClassifier*, but it just takes too much time, which causes kernel death. So, we skip this step."
   ]
  },
  {
   "cell_type": "code",
   "execution_count": 18,
   "metadata": {},
   "outputs": [],
   "source": [
    "#from sklearn.pipeline import Pipeline\n",
    "#from sklearn.model_selection import GridSearchCV\n",
    "#from sklearn.feature_extraction.text import TfidfVectorizer\n",
    "#from sklearn.ensemble import RandomForestClassifier\n",
    "\n",
    "#tfidf_vectorizer = TfidfVectorizer()\n",
    "#rf_classifier = RandomForestClassifier()\n",
    "\n",
    "# random forest classifier\n",
    "#pipeline = Pipeline([('vect', tfidf_vectorizer),('clf', rf_classifier)])\n",
    "#param_grid = [{\n",
    "#              'vect__analyzer': ['word'],\n",
    "#              'vect__max_df': [0.8,0.85,0.9],\n",
    "#              'vect__min_df': [0.01,0.05,0.1],\n",
    "#              'vect__stop_words': ['english'],\n",
    "#              'clf__n_estimators': [10,30,50]\n",
    "#               }\n",
    "#              ]\n",
    "#gridsearch = GridSearchCV(pipeline, param_grid, cv=5, scoring='f1_weighted', verbose=20)\n",
    "#gridresult = gridsearch.fit(Yelp_review_train['converted_review'], Yelp_review_train['sentiment'])\n",
    "#gridresult.best_params_\n",
    "#gridresult.best_score_"
   ]
  },
  {
   "cell_type": "markdown",
   "metadata": {},
   "source": [
    "We combine stopwords from both *sklearn.feature_extraction* and *nltk.corpus*."
   ]
  },
  {
   "cell_type": "code",
   "execution_count": 16,
   "metadata": {},
   "outputs": [
    {
     "name": "stdout",
     "output_type": "stream",
     "text": [
      "[nltk_data] Downloading package stopwords to\n",
      "[nltk_data]     /Users/emericszaboky/nltk_data...\n",
      "[nltk_data]   Package stopwords is already up-to-date!\n"
     ]
    }
   ],
   "source": [
    "# construct stop_words_set (sklearn built-in list + nltk list)\n",
    "import nltk\n",
    "nltk.download('stopwords')\n",
    "\n",
    "from sklearn.feature_extraction import stop_words\n",
    "from nltk.corpus import stopwords\n",
    "\n",
    "stop_words_set = list(list(stop_words.ENGLISH_STOP_WORDS) + stopwords.words('english'))\n",
    "stop_words_set = list(np.unique(stop_words_set))"
   ]
  },
  {
   "cell_type": "markdown",
   "metadata": {},
   "source": [
    "By using TfidfVectorizer fucntion, we extract a TF-IDF sparse matrix. We use the stopwords set created above, and tune *max_df* and *min_df* parameters to cut off too (in)frequent terms. We chose *max_df = 0.8* and *min_df = 0.01* based on a few trials on a separate environment where kernel does not die. We pickled *Yelp_tfidf_vect_fit* with these parameters."
   ]
  },
  {
   "cell_type": "code",
   "execution_count": 17,
   "metadata": {},
   "outputs": [
    {
     "data": {
      "text/html": [
       "<div>\n",
       "<style scoped>\n",
       "    .dataframe tbody tr th:only-of-type {\n",
       "        vertical-align: middle;\n",
       "    }\n",
       "\n",
       "    .dataframe tbody tr th {\n",
       "        vertical-align: top;\n",
       "    }\n",
       "\n",
       "    .dataframe thead th {\n",
       "        text-align: right;\n",
       "    }\n",
       "</style>\n",
       "<table border=\"1\" class=\"dataframe\">\n",
       "  <thead>\n",
       "    <tr style=\"text-align: right;\">\n",
       "      <th></th>\n",
       "      <th>0</th>\n",
       "      <th>1</th>\n",
       "      <th>2</th>\n",
       "      <th>3</th>\n",
       "      <th>4</th>\n",
       "      <th>5</th>\n",
       "      <th>6</th>\n",
       "      <th>7</th>\n",
       "      <th>8</th>\n",
       "      <th>9</th>\n",
       "      <th>...</th>\n",
       "      <th>741</th>\n",
       "      <th>742</th>\n",
       "      <th>743</th>\n",
       "      <th>744</th>\n",
       "      <th>745</th>\n",
       "      <th>746</th>\n",
       "      <th>747</th>\n",
       "      <th>748</th>\n",
       "      <th>749</th>\n",
       "      <th>y</th>\n",
       "    </tr>\n",
       "  </thead>\n",
       "  <tbody>\n",
       "    <tr>\n",
       "      <th>0</th>\n",
       "      <td>0.0</td>\n",
       "      <td>0.0</td>\n",
       "      <td>0.0</td>\n",
       "      <td>0.0</td>\n",
       "      <td>0.0</td>\n",
       "      <td>0.0</td>\n",
       "      <td>0.0</td>\n",
       "      <td>0.0</td>\n",
       "      <td>0.0</td>\n",
       "      <td>0.000000</td>\n",
       "      <td>...</td>\n",
       "      <td>0.0</td>\n",
       "      <td>0.0</td>\n",
       "      <td>0.0</td>\n",
       "      <td>0.0</td>\n",
       "      <td>0.0</td>\n",
       "      <td>0.0</td>\n",
       "      <td>0.0</td>\n",
       "      <td>0.0</td>\n",
       "      <td>0.0</td>\n",
       "      <td>0</td>\n",
       "    </tr>\n",
       "    <tr>\n",
       "      <th>1</th>\n",
       "      <td>0.0</td>\n",
       "      <td>0.0</td>\n",
       "      <td>0.0</td>\n",
       "      <td>0.0</td>\n",
       "      <td>0.0</td>\n",
       "      <td>0.0</td>\n",
       "      <td>0.0</td>\n",
       "      <td>0.0</td>\n",
       "      <td>0.0</td>\n",
       "      <td>0.000000</td>\n",
       "      <td>...</td>\n",
       "      <td>0.0</td>\n",
       "      <td>0.0</td>\n",
       "      <td>0.0</td>\n",
       "      <td>0.0</td>\n",
       "      <td>0.0</td>\n",
       "      <td>0.0</td>\n",
       "      <td>0.0</td>\n",
       "      <td>0.0</td>\n",
       "      <td>0.0</td>\n",
       "      <td>1</td>\n",
       "    </tr>\n",
       "    <tr>\n",
       "      <th>2</th>\n",
       "      <td>0.0</td>\n",
       "      <td>0.0</td>\n",
       "      <td>0.0</td>\n",
       "      <td>0.0</td>\n",
       "      <td>0.0</td>\n",
       "      <td>0.0</td>\n",
       "      <td>0.0</td>\n",
       "      <td>0.0</td>\n",
       "      <td>0.0</td>\n",
       "      <td>0.000000</td>\n",
       "      <td>...</td>\n",
       "      <td>0.0</td>\n",
       "      <td>0.0</td>\n",
       "      <td>0.0</td>\n",
       "      <td>0.0</td>\n",
       "      <td>0.0</td>\n",
       "      <td>0.0</td>\n",
       "      <td>0.0</td>\n",
       "      <td>0.0</td>\n",
       "      <td>0.0</td>\n",
       "      <td>1</td>\n",
       "    </tr>\n",
       "    <tr>\n",
       "      <th>3</th>\n",
       "      <td>0.0</td>\n",
       "      <td>0.0</td>\n",
       "      <td>0.0</td>\n",
       "      <td>0.0</td>\n",
       "      <td>0.0</td>\n",
       "      <td>0.0</td>\n",
       "      <td>0.0</td>\n",
       "      <td>0.0</td>\n",
       "      <td>0.0</td>\n",
       "      <td>0.126703</td>\n",
       "      <td>...</td>\n",
       "      <td>0.0</td>\n",
       "      <td>0.0</td>\n",
       "      <td>0.0</td>\n",
       "      <td>0.0</td>\n",
       "      <td>0.0</td>\n",
       "      <td>0.0</td>\n",
       "      <td>0.0</td>\n",
       "      <td>0.0</td>\n",
       "      <td>0.0</td>\n",
       "      <td>1</td>\n",
       "    </tr>\n",
       "    <tr>\n",
       "      <th>4</th>\n",
       "      <td>0.0</td>\n",
       "      <td>0.0</td>\n",
       "      <td>0.0</td>\n",
       "      <td>0.0</td>\n",
       "      <td>0.0</td>\n",
       "      <td>0.0</td>\n",
       "      <td>0.0</td>\n",
       "      <td>0.0</td>\n",
       "      <td>0.0</td>\n",
       "      <td>0.000000</td>\n",
       "      <td>...</td>\n",
       "      <td>0.0</td>\n",
       "      <td>0.0</td>\n",
       "      <td>0.0</td>\n",
       "      <td>0.0</td>\n",
       "      <td>0.0</td>\n",
       "      <td>0.0</td>\n",
       "      <td>0.0</td>\n",
       "      <td>0.0</td>\n",
       "      <td>0.0</td>\n",
       "      <td>1</td>\n",
       "    </tr>\n",
       "    <tr>\n",
       "      <th>5</th>\n",
       "      <td>0.0</td>\n",
       "      <td>0.0</td>\n",
       "      <td>0.0</td>\n",
       "      <td>0.0</td>\n",
       "      <td>0.0</td>\n",
       "      <td>0.0</td>\n",
       "      <td>0.0</td>\n",
       "      <td>0.0</td>\n",
       "      <td>0.0</td>\n",
       "      <td>0.000000</td>\n",
       "      <td>...</td>\n",
       "      <td>0.0</td>\n",
       "      <td>0.0</td>\n",
       "      <td>0.0</td>\n",
       "      <td>0.0</td>\n",
       "      <td>0.0</td>\n",
       "      <td>0.0</td>\n",
       "      <td>0.0</td>\n",
       "      <td>0.0</td>\n",
       "      <td>0.0</td>\n",
       "      <td>0</td>\n",
       "    </tr>\n",
       "    <tr>\n",
       "      <th>6</th>\n",
       "      <td>0.0</td>\n",
       "      <td>0.0</td>\n",
       "      <td>0.0</td>\n",
       "      <td>0.0</td>\n",
       "      <td>0.0</td>\n",
       "      <td>0.0</td>\n",
       "      <td>0.0</td>\n",
       "      <td>0.0</td>\n",
       "      <td>0.0</td>\n",
       "      <td>0.000000</td>\n",
       "      <td>...</td>\n",
       "      <td>0.0</td>\n",
       "      <td>0.0</td>\n",
       "      <td>0.0</td>\n",
       "      <td>0.0</td>\n",
       "      <td>0.0</td>\n",
       "      <td>0.0</td>\n",
       "      <td>0.0</td>\n",
       "      <td>0.0</td>\n",
       "      <td>0.0</td>\n",
       "      <td>1</td>\n",
       "    </tr>\n",
       "    <tr>\n",
       "      <th>7</th>\n",
       "      <td>0.0</td>\n",
       "      <td>0.0</td>\n",
       "      <td>0.0</td>\n",
       "      <td>0.0</td>\n",
       "      <td>0.0</td>\n",
       "      <td>0.0</td>\n",
       "      <td>0.0</td>\n",
       "      <td>0.0</td>\n",
       "      <td>0.0</td>\n",
       "      <td>0.000000</td>\n",
       "      <td>...</td>\n",
       "      <td>0.0</td>\n",
       "      <td>0.0</td>\n",
       "      <td>0.0</td>\n",
       "      <td>0.0</td>\n",
       "      <td>0.0</td>\n",
       "      <td>0.0</td>\n",
       "      <td>0.0</td>\n",
       "      <td>0.0</td>\n",
       "      <td>0.0</td>\n",
       "      <td>0</td>\n",
       "    </tr>\n",
       "    <tr>\n",
       "      <th>8</th>\n",
       "      <td>0.0</td>\n",
       "      <td>0.0</td>\n",
       "      <td>0.0</td>\n",
       "      <td>0.0</td>\n",
       "      <td>0.0</td>\n",
       "      <td>0.0</td>\n",
       "      <td>0.0</td>\n",
       "      <td>0.0</td>\n",
       "      <td>0.0</td>\n",
       "      <td>0.000000</td>\n",
       "      <td>...</td>\n",
       "      <td>0.0</td>\n",
       "      <td>0.0</td>\n",
       "      <td>0.0</td>\n",
       "      <td>0.0</td>\n",
       "      <td>0.0</td>\n",
       "      <td>0.0</td>\n",
       "      <td>0.0</td>\n",
       "      <td>0.0</td>\n",
       "      <td>0.0</td>\n",
       "      <td>1</td>\n",
       "    </tr>\n",
       "    <tr>\n",
       "      <th>9</th>\n",
       "      <td>0.0</td>\n",
       "      <td>0.0</td>\n",
       "      <td>0.0</td>\n",
       "      <td>0.0</td>\n",
       "      <td>0.0</td>\n",
       "      <td>0.0</td>\n",
       "      <td>0.0</td>\n",
       "      <td>0.0</td>\n",
       "      <td>0.0</td>\n",
       "      <td>0.000000</td>\n",
       "      <td>...</td>\n",
       "      <td>0.0</td>\n",
       "      <td>0.0</td>\n",
       "      <td>0.0</td>\n",
       "      <td>0.0</td>\n",
       "      <td>0.0</td>\n",
       "      <td>0.0</td>\n",
       "      <td>0.0</td>\n",
       "      <td>0.0</td>\n",
       "      <td>0.0</td>\n",
       "      <td>0</td>\n",
       "    </tr>\n",
       "  </tbody>\n",
       "</table>\n",
       "<p>10 rows × 751 columns</p>\n",
       "</div>"
      ],
      "text/plain": [
       "     0    1    2    3    4    5    6    7    8         9 ...  741  742  743  \\\n",
       "0  0.0  0.0  0.0  0.0  0.0  0.0  0.0  0.0  0.0  0.000000 ...  0.0  0.0  0.0   \n",
       "1  0.0  0.0  0.0  0.0  0.0  0.0  0.0  0.0  0.0  0.000000 ...  0.0  0.0  0.0   \n",
       "2  0.0  0.0  0.0  0.0  0.0  0.0  0.0  0.0  0.0  0.000000 ...  0.0  0.0  0.0   \n",
       "3  0.0  0.0  0.0  0.0  0.0  0.0  0.0  0.0  0.0  0.126703 ...  0.0  0.0  0.0   \n",
       "4  0.0  0.0  0.0  0.0  0.0  0.0  0.0  0.0  0.0  0.000000 ...  0.0  0.0  0.0   \n",
       "5  0.0  0.0  0.0  0.0  0.0  0.0  0.0  0.0  0.0  0.000000 ...  0.0  0.0  0.0   \n",
       "6  0.0  0.0  0.0  0.0  0.0  0.0  0.0  0.0  0.0  0.000000 ...  0.0  0.0  0.0   \n",
       "7  0.0  0.0  0.0  0.0  0.0  0.0  0.0  0.0  0.0  0.000000 ...  0.0  0.0  0.0   \n",
       "8  0.0  0.0  0.0  0.0  0.0  0.0  0.0  0.0  0.0  0.000000 ...  0.0  0.0  0.0   \n",
       "9  0.0  0.0  0.0  0.0  0.0  0.0  0.0  0.0  0.0  0.000000 ...  0.0  0.0  0.0   \n",
       "\n",
       "   744  745  746  747  748  749  y  \n",
       "0  0.0  0.0  0.0  0.0  0.0  0.0  0  \n",
       "1  0.0  0.0  0.0  0.0  0.0  0.0  1  \n",
       "2  0.0  0.0  0.0  0.0  0.0  0.0  1  \n",
       "3  0.0  0.0  0.0  0.0  0.0  0.0  1  \n",
       "4  0.0  0.0  0.0  0.0  0.0  0.0  1  \n",
       "5  0.0  0.0  0.0  0.0  0.0  0.0  0  \n",
       "6  0.0  0.0  0.0  0.0  0.0  0.0  1  \n",
       "7  0.0  0.0  0.0  0.0  0.0  0.0  0  \n",
       "8  0.0  0.0  0.0  0.0  0.0  0.0  1  \n",
       "9  0.0  0.0  0.0  0.0  0.0  0.0  0  \n",
       "\n",
       "[10 rows x 751 columns]"
      ]
     },
     "execution_count": 17,
     "metadata": {},
     "output_type": "execute_result"
    }
   ],
   "source": [
    "# construct TF-IDF Matrix with true label column\n",
    "from sklearn.feature_extraction.text import TfidfVectorizer\n",
    "\n",
    "tfidf_vectorizer = TfidfVectorizer(lowercase=True, analyzer='word', stop_words=stop_words_set, max_df=0.8, min_df=0.01)\n",
    "#Yelp_tfidf_vect_fit = tfidf_vectorizer.fit(Yelp_review_train['converted_review'])\n",
    "#pickle.dump(Yelp_tfidf_vect_fit, open('Yelp_tfidf_vect_fit.pkl', 'wb'))\n",
    "Yelp_tfidf_vect_fit = pickle.load(open('Yelp_tfidf_vect_fit.pkl', 'rb'))\n",
    "tfidf_sparse = Yelp_tfidf_vect_fit.transform(Yelp_review_train['converted_review'])\n",
    "tfidf_dense = tfidf_sparse.todense(order=None, out=None)\n",
    "tfidf_dense = pd.DataFrame(tfidf_dense)\n",
    "tfidf_dense['y'] = Yelp_review_train['sentiment']\n",
    "tfidf_dense.head(10)"
   ]
  },
  {
   "cell_type": "markdown",
   "metadata": {},
   "source": [
    "The following is the vocabulary list (predictors) that we use to predict the sentiment of reviews."
   ]
  },
  {
   "cell_type": "code",
   "execution_count": 18,
   "metadata": {},
   "outputs": [
    {
     "data": {
      "text/plain": [
       "array(['10', '12', '15', '20', '25', '30', '40', '45', 'able',\n",
       "       'absolutely', 'actually', 'add', 'added', 'ago', 'ahead',\n",
       "       'amazing', 'ambiance', 'apparently', 'appetizer', 'appetizers',\n",
       "       'area', 'arrived', 'asian', 'ask', 'asked', 'asking', 'ate',\n",
       "       'atmosphere', 'attention', 'attentive', 'attitude', 'authentic',\n",
       "       'available', 'average', 'avocado', 'avoid', 'away', 'awesome',\n",
       "       'awful', 'bacon', 'bad', 'baked', 'bar', 'barely', 'bartender',\n",
       "       'based', 'basically', 'bbq', 'beans', 'beautiful', 'beef', 'beer',\n",
       "       'beers', 'believe', 'best', 'better', 'big', 'birthday', 'bit',\n",
       "       'bite', 'black', 'bland', 'bottle', 'bowl', 'box', 'boyfriend',\n",
       "       'bread', 'breakfast', 'bring', 'broth', 'brought', 'brunch',\n",
       "       'buffet', 'bun', 'burger', 'burgers', 'burrito', 'business',\n",
       "       'busy', 'butter', 'buy', 'cafe', 'cake', 'called', 'came', 'card',\n",
       "       'care', 'case', 'cash', 'casual', 'certainly', 'chain', 'chance',\n",
       "       'change', 'changed', 'charge', 'charged', 'cheap', 'check',\n",
       "       'checked', 'cheese', 'chef', 'chicken', 'chili', 'chinese',\n",
       "       'chips', 'chocolate', 'choice', 'choices', 'choose', 'chose',\n",
       "       'city', 'clean', 'clearly', 'close', 'closed', 'cocktails',\n",
       "       'coffee', 'cold', 'combo', 'come', 'comes', 'comfortable',\n",
       "       'coming', 'completely', 'considering', 'cook', 'cooked', 'cool',\n",
       "       'corn', 'cost', 'counter', 'couple', 'course', 'crab', 'craving',\n",
       "       'crazy', 'cream', 'creamy', 'crispy', 'crowded', 'crust', 'cup',\n",
       "       'curry', 'customer', 'customers', 'cut', 'cute', 'dark', 'date',\n",
       "       'day', 'days', 'deal', 'decent', 'decided', 'decor', 'definitely',\n",
       "       'delicious', 'delivered', 'delivery', 'despite', 'dessert',\n",
       "       'desserts', 'die', 'different', 'dining', 'dinner', 'dip', 'dirty',\n",
       "       'disappointed', 'disappointing', 'disappointment', 'disgusting',\n",
       "       'dish', 'dishes', 'door', 'downtown', 'dressing', 'drink',\n",
       "       'drinks', 'drive', 'dry', 'early', 'easily', 'easy', 'eat',\n",
       "       'eaten', 'eating', 'egg', 'eggs', 'employees', 'end', 'ended',\n",
       "       'enjoy', 'enjoyed', 'entire', 'entree', 'entrees', 'especially',\n",
       "       'establishment', 'evening', 'exactly', 'excellent', 'excited',\n",
       "       'expect', 'expected', 'expecting', 'expensive', 'experience',\n",
       "       'extra', 'extremely', 'fact', 'fair', 'fairly', 'family', 'fan',\n",
       "       'fantastic', 'far', 'fast', 'favorite', 'feel', 'feeling', 'felt',\n",
       "       'filled', 'filling', 'finally', 'fine', 'finish', 'finished',\n",
       "       'fish', 'flavor', 'flavorful', 'flavors', 'floor', 'food',\n",
       "       'forever', 'forget', 'forgot', 'forward', 'free', 'french',\n",
       "       'fresh', 'friday', 'fried', 'friend', 'friendly', 'friends',\n",
       "       'fries', 'frozen', 'fun', 'game', 'garlic', 'gave', 'gem',\n",
       "       'generous', 'gets', 'getting', 'girl', 'given', 'giving', 'glad',\n",
       "       'glass', 'goes', 'going', 'gone', 'good', 'got', 'grab', 'greasy',\n",
       "       'great', 'green', 'greeted', 'grill', 'grilled', 'group', 'guess',\n",
       "       'guy', 'guys', 'half', 'hand', 'hands', 'happened', 'happy',\n",
       "       'hard', 'hate', 'head', 'healthy', 'hear', 'heard', 'help',\n",
       "       'helpful', 'high', 'highly', 'hit', 'home', 'homemade', 'honestly',\n",
       "       'hope', 'horrible', 'hostess', 'hot', 'hotel', 'hour', 'hours',\n",
       "       'house', 'huge', 'hungry', 'husband', 'ice', 'idea', 'immediately',\n",
       "       'impressed', 'included', 'including', 'incredible', 'ingredients',\n",
       "       'inside', 'instead', 'interesting', 'issue', 'italian', 'item',\n",
       "       'items', 'job', 'joint', 'juicy', 'kept', 'kids', 'kind',\n",
       "       'kitchen', 'knew', 'know', 'la', 'lack', 'lady', 'lamb', 'large',\n",
       "       'las', 'late', 'later', 'leave', 'leaving', 'left', 'let',\n",
       "       'lettuce', 'level', 'life', 'light', 'like', 'liked', 'limited',\n",
       "       'line', 'list', 'literally', 'little', 'live', 'lobster', 'local',\n",
       "       'located', 'location', 'lol', 'long', 'longer', 'look', 'looked',\n",
       "       'looking', 'looks', 'lot', 'lots', 'loud', 'love', 'loved',\n",
       "       'lovely', 'low', 'lunch', 'mac', 'main', 'make', 'makes', 'making',\n",
       "       'man', 'management', 'manager', 'maybe', 'meal', 'meals', 'mean',\n",
       "       'meat', 'meats', 'mediocre', 'medium', 'mention', 'menu',\n",
       "       'mexican', 'middle', 'min', 'mind', 'mins', 'minute', 'minutes',\n",
       "       'miss', 'mix', 'mixed', 'money', 'months', 'morning', 'mouth',\n",
       "       'moved', 'mushrooms', 'music', 'near', 'need', 'needed', 'needs',\n",
       "       'neighborhood', 'new', 'nice', 'night', 'noodle', 'noodles',\n",
       "       'normally', 'note', 'noticed', 'number', 'obviously', 'offer',\n",
       "       'offered', 'oh', 'oil', 'ok', 'okay', 'old', 'ones', 'onion',\n",
       "       'onions', 'open', 'opened', 'opinion', 'option', 'options',\n",
       "       'order', 'ordered', 'ordering', 'orders', 'outside', 'outstanding',\n",
       "       'overall', 'overpriced', 'owner', 'owners', 'packed', 'paid',\n",
       "       'pancakes', 'parking', 'party', 'past', 'pasta', 'patio', 'pay',\n",
       "       'paying', 'people', 'pepper', 'perfect', 'perfection', 'perfectly',\n",
       "       'person', 'pho', 'phoenix', 'phone', 'pick', 'pie', 'piece',\n",
       "       'pieces', 'pizza', 'pizzas', 'place', 'placed', 'places', 'plain',\n",
       "       'plate', 'plates', 'pleasant', 'plenty', 'plus', 'point', 'poor',\n",
       "       'pork', 'portion', 'portions', 'potato', 'potatoes', 'prepared',\n",
       "       'pretty', 'price', 'priced', 'prices', 'pricey', 'probably',\n",
       "       'problem', 'pulled', 'quality', 'quick', 'quickly', 'quite',\n",
       "       'rare', 'rating', 'read', 'ready', 'real', 'really', 'reason',\n",
       "       'reasonable', 'received', 'recently', 'recommend', 'recommended',\n",
       "       'red', 'regular', 'remember', 'reservation', 'reservations',\n",
       "       'rest', 'restaurant', 'restaurants', 'return', 'returning',\n",
       "       'review', 'reviews', 'rib', 'ribs', 'rice', 'right', 'roll',\n",
       "       'rolls', 'room', 'rude', 'run', 'sad', 'said', 'salad', 'salads',\n",
       "       'salmon', 'salsa', 'salt', 'salty', 'sandwich', 'sandwiches',\n",
       "       'sat', 'saturday', 'sauce', 'sauces', 'sausage', 'save', 'saw',\n",
       "       'say', 'saying', 'says', 'seafood', 'seasoned', 'seat', 'seated',\n",
       "       'seating', 'second', 'seen', 'selection', 'seriously', 'serve',\n",
       "       'served', 'server', 'servers', 'service', 'serving', 'set',\n",
       "       'share', 'shared', 'shop', 'short', 'shrimp', 'sides', 'sign',\n",
       "       'simple', 'simply', 'single', 'sit', 'sitting', 'size', 'slice',\n",
       "       'slices', 'slightly', 'slow', 'small', 'soft', 'soggy', 'solid',\n",
       "       'soon', 'sorry', 'sort', 'soup', 'sour', 'space', 'speak',\n",
       "       'special', 'specials', 'spend', 'spent', 'spice', 'spicy', 'split',\n",
       "       'spot', 'staff', 'stand', 'standard', 'star', 'stars', 'start',\n",
       "       'started', 'stay', 'steak', 'stop', 'stopped', 'store', 'street',\n",
       "       'strip', 'stuff', 'stuffed', 'style', 'sunday', 'super',\n",
       "       'supposed', 'sure', 'surprise', 'surprised', 'sushi', 'sweet',\n",
       "       'table', 'tables', 'taco', 'tacos', 'taken', 'takes', 'taking',\n",
       "       'talk', 'talking', 'taste', 'tasted', 'tastes', 'tasting', 'tasty',\n",
       "       'tea', 'tell', 'tender', 'terrible', 'texture', 'thai', 'thank',\n",
       "       'thanks', 'thing', 'things', 'think', 'thinking', 'thought',\n",
       "       'time', 'times', 'tiny', 'tip', 'toast', 'today', 'told', 'tomato',\n",
       "       'tonight', 'took', 'toppings', 'toronto', 'total', 'totally',\n",
       "       'town', 'traditional', 'treat', 'tried', 'trip', 'truly', 'try',\n",
       "       'trying', 'tuna', 'turned', 'twice', 'type', 'typical',\n",
       "       'understand', 'unfortunately', 'unique', 'unless', 'use', 'used',\n",
       "       'usual', 'usually', 'value', 'variety', 'vegas', 'vegetables',\n",
       "       'vegetarian', 'veggie', 'veggies', 'vibe', 'view', 'visit',\n",
       "       'visited', 'visiting', 'wait', 'waited', 'waiter', 'waiting',\n",
       "       'waitress', 'walk', 'walked', 'walking', 'wall', 'want', 'wanted',\n",
       "       'warm', 'waste', 'watch', 'water', 'way', 'week', 'weekend',\n",
       "       'weird', 'went', 'white', 'wife', 'wine', 'wings', 'wish',\n",
       "       'wonderful', 'work', 'working', 'world', 'worse', 'worst', 'worth',\n",
       "       'wow', 'write', 'wrong', 'year', 'years', 'yelp', 'yes', 'young',\n",
       "       'yum', 'yummy'], dtype='<U14')"
      ]
     },
     "execution_count": 18,
     "metadata": {},
     "output_type": "execute_result"
    }
   ],
   "source": [
    "np.sort(list(Yelp_tfidf_vect_fit.vocabulary_.keys()))"
   ]
  },
  {
   "cell_type": "markdown",
   "metadata": {},
   "source": [
    "We can also check the weights (\"importance\") of each word in the dictionary, but it is hard to see why these words are important in classifying sentiment. "
   ]
  },
  {
   "cell_type": "code",
   "execution_count": 19,
   "metadata": {},
   "outputs": [
    {
     "data": {
      "text/html": [
       "<div>\n",
       "<style scoped>\n",
       "    .dataframe tbody tr th:only-of-type {\n",
       "        vertical-align: middle;\n",
       "    }\n",
       "\n",
       "    .dataframe tbody tr th {\n",
       "        vertical-align: top;\n",
       "    }\n",
       "\n",
       "    .dataframe thead th {\n",
       "        text-align: right;\n",
       "    }\n",
       "</style>\n",
       "<table border=\"1\" class=\"dataframe\">\n",
       "  <thead>\n",
       "    <tr style=\"text-align: right;\">\n",
       "      <th></th>\n",
       "      <th>weights</th>\n",
       "    </tr>\n",
       "  </thead>\n",
       "  <tbody>\n",
       "    <tr>\n",
       "      <th>cash</th>\n",
       "      <td>5.604475</td>\n",
       "    </tr>\n",
       "    <tr>\n",
       "      <th>apparently</th>\n",
       "      <td>5.604475</td>\n",
       "    </tr>\n",
       "    <tr>\n",
       "      <th>surprise</th>\n",
       "      <td>5.599551</td>\n",
       "    </tr>\n",
       "    <tr>\n",
       "      <th>ahead</th>\n",
       "      <td>5.597098</td>\n",
       "    </tr>\n",
       "    <tr>\n",
       "      <th>delivered</th>\n",
       "      <td>5.596929</td>\n",
       "    </tr>\n",
       "    <tr>\n",
       "      <th>hate</th>\n",
       "      <td>5.593220</td>\n",
       "    </tr>\n",
       "    <tr>\n",
       "      <th>sort</th>\n",
       "      <td>5.593052</td>\n",
       "    </tr>\n",
       "    <tr>\n",
       "      <th>speak</th>\n",
       "      <td>5.592379</td>\n",
       "    </tr>\n",
       "    <tr>\n",
       "      <th>rating</th>\n",
       "      <td>5.591119</td>\n",
       "    </tr>\n",
       "    <tr>\n",
       "      <th>avocado</th>\n",
       "      <td>5.587263</td>\n",
       "    </tr>\n",
       "    <tr>\n",
       "      <th>despite</th>\n",
       "      <td>5.582507</td>\n",
       "    </tr>\n",
       "    <tr>\n",
       "      <th>plain</th>\n",
       "      <td>5.581425</td>\n",
       "    </tr>\n",
       "    <tr>\n",
       "      <th>leaving</th>\n",
       "      <td>5.580843</td>\n",
       "    </tr>\n",
       "    <tr>\n",
       "      <th>disgusting</th>\n",
       "      <td>5.580843</td>\n",
       "    </tr>\n",
       "    <tr>\n",
       "      <th>limited</th>\n",
       "      <td>5.575042</td>\n",
       "    </tr>\n",
       "  </tbody>\n",
       "</table>\n",
       "</div>"
      ],
      "text/plain": [
       "             weights\n",
       "cash        5.604475\n",
       "apparently  5.604475\n",
       "surprise    5.599551\n",
       "ahead       5.597098\n",
       "delivered   5.596929\n",
       "hate        5.593220\n",
       "sort        5.593052\n",
       "speak       5.592379\n",
       "rating      5.591119\n",
       "avocado     5.587263\n",
       "despite     5.582507\n",
       "plain       5.581425\n",
       "leaving     5.580843\n",
       "disgusting  5.580843\n",
       "limited     5.575042"
      ]
     },
     "execution_count": 19,
     "metadata": {},
     "output_type": "execute_result"
    }
   ],
   "source": [
    "term_weights = pd.DataFrame(Yelp_tfidf_vect_fit.idf_, np.sort(list(Yelp_tfidf_vect_fit.vocabulary_.keys())))\n",
    "term_weights = term_weights.rename(columns={0: 'weights'})\n",
    "top_term_weights = term_weights.sort_values(by=['weights'], ascending=False).head(15)\n",
    "bot_term_weights = term_weights.sort_values(by=['weights'], ascending=True).head(15)\n",
    "top_term_weights"
   ]
  },
  {
   "cell_type": "markdown",
   "metadata": {},
   "source": [
    "We implement a random forest machine learning algorithm on this *tfidf_dense* matrix. We use 5-fold cross validation to see if RandomForestClassifier with default parameter setting works well. This also takes a very long time, so we will not run it here, but the 5-fold cross validation average accuracy we obtained was 0.886 with 0.88610402,  0.88555484,  0.88674614,  0.8866316 ,  0.88601483 for each iteration."
   ]
  },
  {
   "cell_type": "code",
   "execution_count": 20,
   "metadata": {},
   "outputs": [],
   "source": [
    "### computation of 5-fold cross validation score\n",
    "from sklearn import model_selection\n",
    "from sklearn.model_selection import cross_val_score\n",
    "#kfold = model_selection.KFold(n_splits=5, random_state=1, shuffle=True) # 5 fold CV\n",
    "#modelCV = RandomForestClassifier()\n",
    "#scoring = 'accuracy'\n",
    "#tfidf_dense_X = tfidf_dense.iloc[:,:-1]\n",
    "#tfidf_dense_y = tfidf_dense.iloc[:,-1]\n",
    "#results = model_selection.cross_val_score(modelCV, tfidf_dense_X, tfidf_dense_y, cv=kfold, scoring=scoring)\n",
    "#print(\"5-fold cross validation average accuracy: %.3f\" % (results.mean()))"
   ]
  },
  {
   "cell_type": "markdown",
   "metadata": {},
   "source": [
    "We fit random forest classifier on train data. And again, we pickled this random forest fit as *Yelp_tfidf_rf_fit.pkl*."
   ]
  },
  {
   "cell_type": "code",
   "execution_count": 21,
   "metadata": {},
   "outputs": [],
   "source": [
    "from sklearn.ensemble import RandomForestClassifier\n",
    "from sklearn.model_selection import train_test_split\n",
    "\n",
    "rf_classifier = RandomForestClassifier()\n",
    "\n",
    "tfidf_dense_X = tfidf_dense.iloc[:,:-1]\n",
    "tfidf_dense_y = tfidf_dense.iloc[:,-1]\n",
    "\n",
    "np.random.seed(1)\n",
    "X_train, X_test, y_train, y_test = train_test_split(tfidf_dense_X, tfidf_dense_y, test_size=0.2)\n",
    "#Yelp_tfidf_rf_fit = rf_classifier.fit(X_train, y_train)\n",
    "#pickle.dump(Yelp_tfidf_rf_fit, open('Yelp_tfidf_rf_fit.pkl', 'wb'))\n",
    "Yelp_tfidf_rf_fit = pickle.load(open('Yelp_tfidf_rf_fit.pkl', 'rb'))"
   ]
  },
  {
   "cell_type": "markdown",
   "metadata": {},
   "source": [
    "Let's compute some basic scores."
   ]
  },
  {
   "cell_type": "code",
   "execution_count": 22,
   "metadata": {},
   "outputs": [
    {
     "data": {
      "text/plain": [
       "0.11129325504455903"
      ]
     },
     "execution_count": 22,
     "metadata": {},
     "output_type": "execute_result"
    }
   ],
   "source": [
    "# misclassification rate\n",
    "len(np.where(y_test != Yelp_tfidf_rf_fit.predict(X_test))[0]) / len(y_test)"
   ]
  },
  {
   "cell_type": "code",
   "execution_count": 23,
   "metadata": {},
   "outputs": [
    {
     "data": {
      "text/plain": [
       "0.888706744955441"
      ]
     },
     "execution_count": 23,
     "metadata": {},
     "output_type": "execute_result"
    }
   ],
   "source": [
    "# mean accuracy of the model\n",
    "Yelp_tfidf_rf_fit.score(X_test, y_test)"
   ]
  },
  {
   "cell_type": "code",
   "execution_count": 24,
   "metadata": {},
   "outputs": [
    {
     "data": {
      "image/png": "[encoded data removed]",
      "text/plain": [
       "<matplotlib.figure.Figure at 0x1a139bed68>"
      ]
     },
     "metadata": {},
     "output_type": "display_data"
    }
   ],
   "source": [
    "# ROC curve\n",
    "from sklearn import metrics\n",
    "prob_value = Yelp_tfidf_rf_fit.predict_proba(X_test)[:,1]\n",
    "fpr, tpr, thresholds = metrics.roc_curve(y_test, prob_value)\n",
    "plt.plot(fpr, tpr, color='darkorange')\n",
    "plt.plot([0,1], [0,1], color='navy', linestyle='--')\n",
    "plt.suptitle('ROC Curve')\n",
    "plt.xlabel('False Positive Rate')\n",
    "plt.ylabel('True Positive Rate')\n",
    "plt.show()"
   ]
  },
  {
   "cell_type": "code",
   "execution_count": 25,
   "metadata": {},
   "outputs": [
    {
     "data": {
      "text/plain": [
       "0.8836601521441947"
      ]
     },
     "execution_count": 25,
     "metadata": {},
     "output_type": "execute_result"
    }
   ],
   "source": [
    "# AUC\n",
    "from sklearn.metrics import roc_auc_score\n",
    "roc_auc_score(y_test, Yelp_tfidf_rf_fit.predict(X_test))"
   ]
  },
  {
   "cell_type": "code",
   "execution_count": 26,
   "metadata": {},
   "outputs": [
    {
     "data": {
      "text/plain": [
       "0.8888654312395818"
      ]
     },
     "execution_count": 26,
     "metadata": {},
     "output_type": "execute_result"
    }
   ],
   "source": [
    "# F1 score\n",
    "from sklearn.metrics import f1_score\n",
    "f1_score(y_test, Yelp_tfidf_rf_fit.predict(X_test), average='weighted')"
   ]
  },
  {
   "cell_type": "markdown",
   "metadata": {},
   "source": [
    "Now we apply our model to the test set. Again, we use pickle."
   ]
  },
  {
   "cell_type": "code",
   "execution_count": 27,
   "metadata": {},
   "outputs": [],
   "source": [
    "# transform text data in test set\n",
    "#Yelp_review_test['converted_review'] = Yelp_review_test['review'].str.lower()\n",
    "#converted_review = list(Yelp_review_test['converted_review'])\n",
    "#converted_review = [remove_special_characters(sentence) for sentence in converted_review]\n",
    "#Yelp_review_test['converted_review'] = pd.Series(converted_review)\n",
    "\n",
    "#pickle.dump(Yelp_review_test, open('Yelp_review_test.pkl', 'wb'))\n",
    "Yelp_review_test = pickle.load(open('Yelp_review_test.pkl', 'rb'))"
   ]
  },
  {
   "cell_type": "code",
   "execution_count": 28,
   "metadata": {},
   "outputs": [],
   "source": [
    "# construct TF-IDF matrix with true label column\n",
    "tfidf_sparse = Yelp_tfidf_vect_fit.transform(Yelp_review_test['converted_review'])\n",
    "tfidf_dense = tfidf_sparse.todense(order=None, out=None)\n",
    "tfidf_dense = pd.DataFrame(tfidf_dense)\n",
    "tfidf_dense['y'] = Yelp_review_test['sentiment']"
   ]
  },
  {
   "cell_type": "code",
   "execution_count": 29,
   "metadata": {},
   "outputs": [
    {
     "data": {
      "text/plain": [
       "0.11209554077207899"
      ]
     },
     "execution_count": 29,
     "metadata": {},
     "output_type": "execute_result"
    }
   ],
   "source": [
    "# misclassification rate\n",
    "X_test = tfidf_dense.iloc[:,:-1]\n",
    "y_test = tfidf_dense.iloc[:,-1]\n",
    "len(np.where(y_test != Yelp_tfidf_rf_fit.predict(X_test))[0]) / len(y_test)"
   ]
  },
  {
   "cell_type": "code",
   "execution_count": 30,
   "metadata": {},
   "outputs": [
    {
     "data": {
      "text/plain": [
       "0.887904459227921"
      ]
     },
     "execution_count": 30,
     "metadata": {},
     "output_type": "execute_result"
    }
   ],
   "source": [
    "# mean accuracy of the model\n",
    "Yelp_tfidf_rf_fit.score(X_test, y_test)"
   ]
  },
  {
   "cell_type": "code",
   "execution_count": 31,
   "metadata": {},
   "outputs": [
    {
     "data": {
      "image/png": "[encoded data removed]",
      "text/plain": [
       "<matplotlib.figure.Figure at 0x1a2922df28>"
      ]
     },
     "metadata": {},
     "output_type": "display_data"
    }
   ],
   "source": [
    "# ROC curve\n",
    "prob_value = Yelp_tfidf_rf_fit.predict_proba(X_test)[:,1]\n",
    "fpr, tpr, thresholds = metrics.roc_curve(y_test, prob_value)\n",
    "plt.plot(fpr, tpr, color='darkorange')\n",
    "plt.plot([0,1], [0,1], color='navy', linestyle='--')\n",
    "plt.suptitle('Yelp Review ROC Curve (TF-IDF)')\n",
    "plt.xlabel('False Positive Rate')\n",
    "plt.ylabel('True Positive Rate')\n",
    "plt.show()"
   ]
  },
  {
   "cell_type": "code",
   "execution_count": 32,
   "metadata": {},
   "outputs": [
    {
     "data": {
      "text/plain": [
       "0.88263261072467"
      ]
     },
     "execution_count": 32,
     "metadata": {},
     "output_type": "execute_result"
    }
   ],
   "source": [
    "# AUC\n",
    "roc_auc_score(y_test, Yelp_tfidf_rf_fit.predict(X_test))"
   ]
  },
  {
   "cell_type": "code",
   "execution_count": 33,
   "metadata": {},
   "outputs": [
    {
     "data": {
      "text/plain": [
       "0.8880565951422523"
      ]
     },
     "execution_count": 33,
     "metadata": {},
     "output_type": "execute_result"
    }
   ],
   "source": [
    "# F1 score\n",
    "f1_score(y_test, Yelp_tfidf_rf_fit.predict(X_test), average='weighted')"
   ]
  },
  {
   "cell_type": "markdown",
   "metadata": {},
   "source": [
    "### 1.1 Further Investigation on TF-IDF Model\n",
    "Since random forest classifier is a sort of black-box model, it is not easy to dig deeper inside the model. We choose to try topic modeling on misclassified (false positive and false negative separately) reviews. Firstly, we pickle false positive and false negative reviews into *review_fp* and *review_fn*."
   ]
  },
  {
   "cell_type": "code",
   "execution_count": 34,
   "metadata": {},
   "outputs": [],
   "source": [
    "misclass_indices = np.where(y_test != Yelp_tfidf_rf_fit.predict(X_test))[0]\n",
    "\n",
    "review_misclass_indices = y_test.index[misclass_indices].tolist()\n",
    "review_misclass = Yelp_review_test.iloc[review_misclass_indices]\n",
    "\n",
    "review_fp = review_misclass[review_misclass['sentiment'] == 0]\n",
    "review_fn = review_misclass[review_misclass['sentiment'] == 1]"
   ]
  },
  {
   "cell_type": "markdown",
   "metadata": {},
   "source": [
    "### 1.1.1 False Positive\n",
    "We look into randomly picked 2000 reviews instead of the entire false positive reviews for simplicity."
   ]
  },
  {
   "cell_type": "code",
   "execution_count": 35,
   "metadata": {},
   "outputs": [],
   "source": [
    "tmp_indices = review_fp.index.tolist()\n",
    "np.random.seed(1)\n",
    "np.random.shuffle(tmp_indices)\n",
    "\n",
    "tmp_indices = tmp_indices[0:2000]\n",
    "sub_review = review_fp.loc[tmp_indices,:].reset_index(drop=True)"
   ]
  },
  {
   "cell_type": "code",
   "execution_count": 36,
   "metadata": {},
   "outputs": [],
   "source": [
    "#! wget https://raw.githubusercontent.com/dipanjanS/text-analytics-with-python/master/Chapter-4/feature_extractors.py"
   ]
  },
  {
   "cell_type": "markdown",
   "metadata": {},
   "source": [
    "The following code is to get the matrix X that will be used for non-negative matrix factorization."
   ]
  },
  {
   "cell_type": "code",
   "execution_count": 37,
   "metadata": {},
   "outputs": [
    {
     "name": "stdout",
     "output_type": "stream",
     "text": [
      "[nltk_data] Downloading package punkt to\n",
      "[nltk_data]     /Users/emericszaboky/nltk_data...\n",
      "[nltk_data]   Package punkt is already up-to-date!\n"
     ]
    }
   ],
   "source": [
    "nltk.download('punkt')\n",
    "\n",
    "def tokenize_text(text):\n",
    "    tokens = nltk.word_tokenize(text) \n",
    "    tokens = [token.strip() for token in tokens]\n",
    "    return tokens\n",
    "\n",
    "from sklearn.feature_extraction.stop_words import ENGLISH_STOP_WORDS\n",
    "from nltk.corpus import stopwords\n",
    "\n",
    "stop_words_set = list(list(ENGLISH_STOP_WORDS) + stopwords.words('english'))\n",
    "stop_words_set = list(np.unique(stop_words_set))\n",
    "\n",
    "def remove_stopwords(text,stopword_list):\n",
    "    tokens = tokenize_text(text)\n",
    "    filtered_tokens = [token for token in tokens if token not in stopword_list]\n",
    "    filtered_text = ' '.join(filtered_tokens)    \n",
    "    return filtered_text\n",
    "\n",
    "text = [remove_stopwords(rev, stop_words_set) for rev in sub_review['converted_review']]\n",
    "\n",
    "from feature_extractors import tfidf_transformer\n",
    "from feature_extractors import bow_extractor    \n",
    "\n",
    "def tf_idf(corpus):\n",
    "    # Bag of words construction\n",
    "    bow_vectorizer, bow_features = bow_extractor(corpus=corpus)\n",
    "    # feature names\n",
    "    feature_names = bow_vectorizer.get_feature_names()\n",
    "    # TF-IDF    \n",
    "    tfidf_trans, tdidf_features = tfidf_transformer(bow_features)\n",
    "    tdidf_features = np.round(tdidf_features.todense(),2)\n",
    "    return((tdidf_features, feature_names))\n",
    "\n",
    "tdidf_features,feature_names = tf_idf(text)\n",
    "\n",
    "X = tdidf_features.T"
   ]
  },
  {
   "cell_type": "markdown",
   "metadata": {},
   "source": [
    "For non-negative matrix factorization, we choose r to be 10."
   ]
  },
  {
   "cell_type": "code",
   "execution_count": 38,
   "metadata": {},
   "outputs": [
    {
     "name": "stdout",
     "output_type": "stream",
     "text": [
      "# Topic 0\n",
      "food 1.066081825588413\n",
      "service 0.49925823066758734\n",
      "good 0.4877379443716262\n",
      "great 0.4230215181296991\n",
      "staff 0.20460309375244307\n",
      "friendly 0.17054883198290918\n",
      "better 0.13440489814553155\n",
      "restaurant 0.13420149948212026\n",
      "price 0.12840112451387978\n",
      "atmosphere 0.12800513573903327\n",
      "\n",
      "\n",
      "# Topic 1\n",
      "pizza 1.709761501703577\n",
      "crust 0.22727112067242072\n",
      "sauce 0.1815319197699793\n",
      "cheese 0.17731664462731106\n",
      "toppings 0.17515073768884246\n",
      "like 0.1298292512873122\n",
      "slice 0.12824749687858575\n",
      "dough 0.12149996547107188\n",
      "pepperoni 0.11905042708400833\n",
      "wings 0.11896575703537891\n",
      "\n",
      "\n",
      "# Topic 2\n",
      "chicken 1.199311407479641\n",
      "sauce 0.5724694771693698\n",
      "fried 0.36446244508213715\n",
      "wings 0.2949682452136524\n",
      "ordered 0.287116439016356\n",
      "pork 0.2832953953083347\n",
      "taste 0.2749997795414955\n",
      "rice 0.2654996609909071\n",
      "soup 0.25429783953938245\n",
      "meat 0.25376289199250385\n",
      "\n",
      "\n",
      "# Topic 3\n",
      "place 1.29478370362165\n",
      "like 0.3216713419056933\n",
      "really 0.22641948483580515\n",
      "dont 0.20656905636011716\n",
      "great 0.2034310538957205\n",
      "eat 0.19309074530074397\n",
      "breakfast 0.17492111078930608\n",
      "try 0.16877949393709274\n",
      "im 0.15744504743313012\n",
      "people 0.15460407797222167\n",
      "\n",
      "\n",
      "# Topic 4\n",
      "time 1.131443004792543\n",
      "location 0.4867323069797191\n",
      "order 0.40985927436743325\n",
      "ive 0.39223464891904836\n",
      "long 0.3517850733420848\n",
      "love 0.3301502734652341\n",
      "wait 0.32043768317674226\n",
      "times 0.28437059477761634\n",
      "im 0.2030177855616396\n",
      "customer 0.1869424501389344\n",
      "\n",
      "\n",
      "# Topic 5\n",
      "burger 1.1698609785649585\n",
      "fries 0.6037370399964622\n",
      "burgers 0.2782251976877877\n",
      "bun 0.19397350989555132\n",
      "onion 0.15518012562743963\n",
      "cheese 0.13068439952199418\n",
      "come 0.12079270794013287\n",
      "order 0.11763379541171042\n",
      "good 0.1101581905107918\n",
      "best 0.10689736564217868\n",
      "\n",
      "\n",
      "# Topic 6\n",
      "bar 0.464632236071139\n",
      "table 0.43047070194957765\n",
      "ordered 0.3501579362778066\n",
      "didnt 0.32500404418848206\n",
      "like 0.3164345775979132\n",
      "came 0.3106206385835636\n",
      "restaurant 0.30469163755374384\n",
      "went 0.2702737353205879\n",
      "salad 0.2606593603390217\n",
      "server 0.25925518424651245\n",
      "\n",
      "\n",
      "# Topic 7\n",
      "sushi 1.1370899661923726\n",
      "fish 0.2966595511367606\n",
      "rolls 0.26953542227159005\n",
      "fresh 0.23230998295512018\n",
      "roll 0.22492946492405486\n",
      "quality 0.2033311600586388\n",
      "tuna 0.1423125414262598\n",
      "better 0.13252760316272666\n",
      "buffet 0.12455193532119684\n",
      "didnt 0.11793433241954486\n",
      "\n",
      "\n",
      "# Topic 8\n",
      "le 0.5348884956871899\n",
      "et 0.5212299034872911\n",
      "pas 0.46963432515857395\n",
      "la 0.41403907478461305\n",
      "pour 0.34383989723390385\n",
      "nous 0.28763652145493973\n",
      "du 0.27263514348905366\n",
      "est 0.2679106646093642\n",
      "que 0.25668118959614417\n",
      "une 0.2334443431008038\n",
      "\n",
      "\n",
      "# Topic 9\n",
      "tacos 0.8934715107760544\n",
      "taco 0.5680130016712345\n",
      "salsa 0.3918133184705123\n",
      "fish 0.3384227586428741\n",
      "chips 0.30447976375144764\n",
      "beans 0.28727475205863057\n",
      "burrito 0.2849591065970007\n",
      "steak 0.2763221860708778\n",
      "good 0.23998043190284363\n",
      "flavor 0.23808591510170368\n",
      "\n",
      "\n"
     ]
    },
    {
     "name": "stderr",
     "output_type": "stream",
     "text": [
      "/anaconda3/lib/python3.6/site-packages/ipykernel_launcher.py:15: RuntimeWarning: invalid value encountered in true_divide\n",
      "  from ipykernel import kernelapp as app\n"
     ]
    }
   ],
   "source": [
    "# Non-negative Matrix Factorization\n",
    "def non_negative_marix_decomp(n_components,train_data):\n",
    "    import sklearn.decomposition as skld\n",
    "    model = skld.NMF(n_components=n_components, \n",
    "                     init='nndsvda', max_iter=500, \n",
    "                     random_state=0)\n",
    "    W = model.fit_transform(train_data)\n",
    "    H = model.components_\n",
    "    nmf = (W,H)\n",
    "    return(nmf)\n",
    "\n",
    "r = 10\n",
    "W_topic10,H_topic10 = \\\n",
    "    non_negative_marix_decomp(n_components = r, train_data = X) \n",
    "\n",
    "H_topic10 /= H_topic10.sum(0)\n",
    "\n",
    "num_top_words = 10\n",
    "num_topics = 10\n",
    "word_topic = W_topic10\n",
    "fontsize_base = 15\n",
    "\n",
    "for t in range(0, num_topics):\n",
    "    top_words_idx = np.argsort(word_topic[:,t])[::-1]  # descending order\n",
    "    top_words_idx = top_words_idx[:num_top_words]\n",
    "    top_words = [feature_names[k] for k in top_words_idx]\n",
    "    top_words_shares = word_topic[top_words_idx, t]\n",
    "    print('# Topic', t)\n",
    "    for i, (word, share) in enumerate(zip(top_words, top_words_shares)):\n",
    "        print(word, share)\n",
    "    print('\\n')"
   ]
  },
  {
   "cell_type": "markdown",
   "metadata": {},
   "source": [
    "Most of the topics are related to the type of restaurants, but if we look at *Topic 0*, *Topic 3*, *Topic 7*, and *Topic 9*, they include positive words such as *good*, *great*, *better*, *quality*, *fresh*. This might be an indicator of misclassification, but we can't say for sure since negation (not, don't etc.) can flip the sentiment."
   ]
  },
  {
   "cell_type": "markdown",
   "metadata": {},
   "source": [
    "### 1.1.2 False Negative\n",
    "We repeat the procedure above for false negative reviews."
   ]
  },
  {
   "cell_type": "code",
   "execution_count": 39,
   "metadata": {},
   "outputs": [
    {
     "name": "stdout",
     "output_type": "stream",
     "text": [
      "# Topic 0\n",
      "table 0.25433325212419444\n",
      "restaurant 0.2528171162287662\n",
      "came 0.2456164567406311\n",
      "bar 0.2366673311218002\n",
      "ordered 0.2260807524167055\n",
      "server 0.21894224840759446\n",
      "drinks 0.20661108170277104\n",
      "great 0.18970144813546103\n",
      "asked 0.18836769745380078\n",
      "didnt 0.18629341335732172\n",
      "\n",
      "\n",
      "# Topic 1\n",
      "pizza 1.780274403616758\n",
      "crust 0.24336272910801945\n",
      "slice 0.194316333475038\n",
      "cheese 0.15219955791727927\n",
      "pizzas 0.1453377500591485\n",
      "good 0.13722956260923083\n",
      "sauce 0.10786798684977239\n",
      "order 0.09772462316600841\n",
      "new 0.09319480214206301\n",
      "time 0.09073402260454079\n",
      "\n",
      "\n",
      "# Topic 2\n",
      "chicken 0.942027290780795\n",
      "rice 0.5282997995446332\n",
      "fried 0.4846513595199624\n",
      "spicy 0.412751960108937\n",
      "ordered 0.27182110057738784\n",
      "soup 0.26915219793700246\n",
      "sauce 0.24753075496527877\n",
      "good 0.22649208683921604\n",
      "lunch 0.21655444687994765\n",
      "hot 0.20654045314988195\n",
      "\n",
      "\n",
      "# Topic 3\n",
      "pho 1.1947873939175477\n",
      "spring 0.23324383653808484\n",
      "broth 0.22054649555248926\n",
      "rolls 0.1572734157481466\n",
      "soup 0.15649445761388708\n",
      "pork 0.12500591131946698\n",
      "vietnamese 0.11703231769270422\n",
      "places 0.11580286105908888\n",
      "restaurant 0.10941899254130115\n",
      "noodles 0.10600491825353897\n",
      "\n",
      "\n",
      "# Topic 4\n",
      "sushi 1.1436865236469511\n",
      "roll 0.32793833596143845\n",
      "rolls 0.26022156338885477\n",
      "fish 0.2087416100487793\n",
      "sashimi 0.15731646302028054\n",
      "quality 0.11567421223146389\n",
      "tuna 0.11314913806217307\n",
      "fresh 0.11057196372407965\n",
      "salmon 0.10074959008196036\n",
      "best 0.09666651361031543\n",
      "\n",
      "\n",
      "# Topic 5\n",
      "burger 0.9672560625254978\n",
      "fries 0.7046824665498442\n",
      "burgers 0.24451101610898401\n",
      "like 0.2172856707607109\n",
      "good 0.2095272127097353\n",
      "cheese 0.16576317239514435\n",
      "ordered 0.13065920427036684\n",
      "got 0.12982840937670118\n",
      "really 0.12946418526549147\n",
      "sandwich 0.12431559128327448\n",
      "\n",
      "\n",
      "# Topic 6\n",
      "place 1.3811441754595024\n",
      "dont 0.3882375795268415\n",
      "like 0.37049031103615676\n",
      "better 0.3200862119240459\n",
      "ive 0.2962814020845853\n",
      "people 0.2344758485126787\n",
      "times 0.22454757662740968\n",
      "thai 0.21693162352006892\n",
      "really 0.2153559481937578\n",
      "come 0.20583675249424863\n",
      "\n",
      "\n",
      "# Topic 7\n",
      "buffet 1.266602871353002\n",
      "line 0.2475293747021355\n",
      "buffets 0.2466365232114524\n",
      "crab 0.2244610448544222\n",
      "vegas 0.21893043962031733\n",
      "better 0.20165988780736677\n",
      "wynn 0.18055355554682137\n",
      "bellagio 0.17812901511403303\n",
      "seafood 0.1698575132211605\n",
      "legs 0.15492130306024599\n",
      "\n",
      "\n",
      "# Topic 8\n",
      "order 0.5946533683890319\n",
      "wait 0.5093203303104312\n",
      "minutes 0.504159168629245\n",
      "time 0.46925749090956087\n",
      "food 0.3187075308175468\n",
      "took 0.2798830033420386\n",
      "long 0.2538842683379144\n",
      "waited 0.24758759808571035\n",
      "got 0.24246880280176558\n",
      "line 0.22953984598690555\n",
      "\n",
      "\n",
      "# Topic 9\n",
      "food 1.026677835933969\n",
      "good 0.8581875026082721\n",
      "service 0.7738601580939677\n",
      "prices 0.27583688945170254\n",
      "great 0.2704427537330273\n",
      "really 0.25165411322939757\n",
      "bad 0.24080696131123638\n",
      "pretty 0.1909390412879069\n",
      "mexican 0.17947732853714535\n",
      "atmosphere 0.16921397273950564\n",
      "\n",
      "\n"
     ]
    }
   ],
   "source": [
    "tmp_indices = review_fn.index.tolist()\n",
    "np.random.seed(1)\n",
    "np.random.shuffle(tmp_indices)\n",
    "\n",
    "tmp_indices = tmp_indices[0:2000]\n",
    "sub_review = review_fn.loc[tmp_indices,:].reset_index(drop=True)\n",
    "\n",
    "text = [remove_stopwords(rev, stop_words_set) for rev in sub_review['converted_review']]\n",
    "tdidf_features,feature_names = tf_idf(text)\n",
    "X = tdidf_features.T\n",
    "\n",
    "r = 10\n",
    "W_topic10,H_topic10 = \\\n",
    "    non_negative_marix_decomp(n_components = r, train_data = X) \n",
    "\n",
    "H_topic10 /= H_topic10.sum(0)\n",
    "\n",
    "num_top_words = 10\n",
    "num_topics = 10\n",
    "word_topic = W_topic10\n",
    "fontsize_base = 15# / np.max(word_topic) # font size for word with largest share in corpus\n",
    "\n",
    "for t in range(0, num_topics):\n",
    "    top_words_idx = np.argsort(word_topic[:,t])[::-1]  # descending order\n",
    "    top_words_idx = top_words_idx[:num_top_words]\n",
    "    top_words = [feature_names[k] for k in top_words_idx]\n",
    "    top_words_shares = word_topic[top_words_idx, t]\n",
    "    print('# Topic', t)\n",
    "    for i, (word, share) in enumerate(zip(top_words, top_words_shares)):\n",
    "        print(word, share)\n",
    "    print('\\n')"
   ]
  },
  {
   "cell_type": "markdown",
   "metadata": {},
   "source": [
    "In false negative reviews, it's even less clear. All the topics have positive words except \"didn't\" from *Topic 0*. This is not really helpful since it does not show any clue why these reviews were classified as negative. Clearly, it is not easy to break __TF-IDF Model__ down and investigate on what could possibly attribute misclassification."
   ]
  },
  {
   "cell_type": "markdown",
   "metadata": {
    "collapsed": true
   },
   "source": [
    "### 2. Parsimonious Rule-Based Model Approach\n",
    "Traditional machine learning algorithms take a lot of computational power for training data or parameter tuning. __Parsimonious Rule-Based Model__ is very different from TF-IDF matrix approach in many ways. First of all, it uses a gold-standard sentiment lexicon built from existing human-validated sentiment lexicons and evaluating the impact of grammatical/syntactical rules. Also, it uses data-driven iterative inductive coding analysis to identify generalizable heuristics for assessing sentiment in text. Thus, it requires no training data, which implies it is computationally effcient, yet the performance we obtained was not too far off from our __TF-IDF__ model."
   ]
  },
  {
   "cell_type": "code",
   "execution_count": 39,
   "metadata": {},
   "outputs": [],
   "source": [
    "VADER_Yelp_review = Yelp_review_test.copy()"
   ]
  },
  {
   "cell_type": "code",
   "execution_count": 40,
   "metadata": {},
   "outputs": [],
   "source": [
    "from vaderSentiment.vaderSentiment import SentimentIntensityAnalyzer\n",
    "analyzer = SentimentIntensityAnalyzer()\n",
    "#def sentiment_analyzer(x):\n",
    "#    x = analyzer.polarity_scores(x).get('compound')\n",
    "#    return x\n",
    "#VADER_Yelp_review['polarity_score'] = np.vectorize(sentiment_analyzer)(VADER_Yelp_review['review'])"
   ]
  },
  {
   "cell_type": "code",
   "execution_count": 41,
   "metadata": {},
   "outputs": [],
   "source": [
    "#def normalize(x):\n",
    "#    x = (x+1)/2\n",
    "#    return x\n",
    "#VADER_Yelp_review['normalized_polarity_score'] = np.vectorize(normalize)(VADER_Yelp_review['polarity_score'])\n",
    "#\n",
    "#def VADER_sentiment(x):\n",
    "#    if x > 0.5:\n",
    "#        y = 1\n",
    "#    elif x == 0.5:\n",
    "#        if np.random.uniform(0,1) >= 0.5:\n",
    "#            y = 1\n",
    "#        else:\n",
    "#            y = 0\n",
    "#    else:\n",
    "#        y = 0\n",
    "#    return y\n",
    "#VADER_Yelp_review['predicted_sentiment'] = np.vectorize(VADER_sentiment)(VADER_Yelp_review['normalized_polarity_score'])"
   ]
  },
  {
   "cell_type": "code",
   "execution_count": 42,
   "metadata": {},
   "outputs": [
    {
     "data": {
      "text/html": [
       "<div>\n",
       "<style scoped>\n",
       "    .dataframe tbody tr th:only-of-type {\n",
       "        vertical-align: middle;\n",
       "    }\n",
       "\n",
       "    .dataframe tbody tr th {\n",
       "        vertical-align: top;\n",
       "    }\n",
       "\n",
       "    .dataframe thead th {\n",
       "        text-align: right;\n",
       "    }\n",
       "</style>\n",
       "<table border=\"1\" class=\"dataframe\">\n",
       "  <thead>\n",
       "    <tr style=\"text-align: right;\">\n",
       "      <th></th>\n",
       "      <th>review</th>\n",
       "      <th>rating</th>\n",
       "      <th>sentiment</th>\n",
       "      <th>converted_review</th>\n",
       "      <th>polarity_score</th>\n",
       "      <th>normalized_polarity_score</th>\n",
       "      <th>predicted_sentiment</th>\n",
       "    </tr>\n",
       "  </thead>\n",
       "  <tbody>\n",
       "    <tr>\n",
       "      <th>0</th>\n",
       "      <td>Walked here from staying at the Trump Towers a...</td>\n",
       "      <td>4</td>\n",
       "      <td>1</td>\n",
       "      <td>walked here from staying at the trump towers a...</td>\n",
       "      <td>0.8758</td>\n",
       "      <td>0.93790</td>\n",
       "      <td>1</td>\n",
       "    </tr>\n",
       "    <tr>\n",
       "      <th>1</th>\n",
       "      <td>I loved watching Koi Poke come to life.  The d...</td>\n",
       "      <td>5</td>\n",
       "      <td>1</td>\n",
       "      <td>i loved watching koi poke come to life  the de...</td>\n",
       "      <td>0.9813</td>\n",
       "      <td>0.99065</td>\n",
       "      <td>1</td>\n",
       "    </tr>\n",
       "    <tr>\n",
       "      <th>2</th>\n",
       "      <td>We have been coming here since they opened and...</td>\n",
       "      <td>5</td>\n",
       "      <td>1</td>\n",
       "      <td>we have been coming here since they opened and...</td>\n",
       "      <td>0.9971</td>\n",
       "      <td>0.99855</td>\n",
       "      <td>1</td>\n",
       "    </tr>\n",
       "    <tr>\n",
       "      <th>3</th>\n",
       "      <td>Oh Scott!! When is the last time you did quali...</td>\n",
       "      <td>2</td>\n",
       "      <td>0</td>\n",
       "      <td>oh scott when is the last time you did quality...</td>\n",
       "      <td>-0.9222</td>\n",
       "      <td>0.03890</td>\n",
       "      <td>0</td>\n",
       "    </tr>\n",
       "    <tr>\n",
       "      <th>4</th>\n",
       "      <td>I went here with a large group for a friend's ...</td>\n",
       "      <td>4</td>\n",
       "      <td>1</td>\n",
       "      <td>i went here with a large group for a friends b...</td>\n",
       "      <td>0.9907</td>\n",
       "      <td>0.99535</td>\n",
       "      <td>1</td>\n",
       "    </tr>\n",
       "    <tr>\n",
       "      <th>5</th>\n",
       "      <td>One star for conceive and well cooked veggies....</td>\n",
       "      <td>1</td>\n",
       "      <td>0</td>\n",
       "      <td>one star for conceive and well cooked veggies ...</td>\n",
       "      <td>-0.9879</td>\n",
       "      <td>0.00605</td>\n",
       "      <td>0</td>\n",
       "    </tr>\n",
       "    <tr>\n",
       "      <th>6</th>\n",
       "      <td>This is all around less than mediocre Mexican ...</td>\n",
       "      <td>1</td>\n",
       "      <td>0</td>\n",
       "      <td>this is all around less than mediocre mexican ...</td>\n",
       "      <td>0.7362</td>\n",
       "      <td>0.86810</td>\n",
       "      <td>1</td>\n",
       "    </tr>\n",
       "    <tr>\n",
       "      <th>7</th>\n",
       "      <td>My family loves this place. Everyone gets thei...</td>\n",
       "      <td>5</td>\n",
       "      <td>1</td>\n",
       "      <td>my family loves this place everyone gets their...</td>\n",
       "      <td>0.9245</td>\n",
       "      <td>0.96225</td>\n",
       "      <td>1</td>\n",
       "    </tr>\n",
       "    <tr>\n",
       "      <th>8</th>\n",
       "      <td>Where do I begin, already having a bad hotel s...</td>\n",
       "      <td>2</td>\n",
       "      <td>0</td>\n",
       "      <td>where do i begin already having a bad hotel st...</td>\n",
       "      <td>-0.5946</td>\n",
       "      <td>0.20270</td>\n",
       "      <td>0</td>\n",
       "    </tr>\n",
       "    <tr>\n",
       "      <th>9</th>\n",
       "      <td>The place is awesome, bartenders are amazing. ...</td>\n",
       "      <td>5</td>\n",
       "      <td>1</td>\n",
       "      <td>the place is awesome bartenders are amazing hi...</td>\n",
       "      <td>0.9500</td>\n",
       "      <td>0.97500</td>\n",
       "      <td>1</td>\n",
       "    </tr>\n",
       "  </tbody>\n",
       "</table>\n",
       "</div>"
      ],
      "text/plain": [
       "                                              review  rating  sentiment  \\\n",
       "0  Walked here from staying at the Trump Towers a...       4          1   \n",
       "1  I loved watching Koi Poke come to life.  The d...       5          1   \n",
       "2  We have been coming here since they opened and...       5          1   \n",
       "3  Oh Scott!! When is the last time you did quali...       2          0   \n",
       "4  I went here with a large group for a friend's ...       4          1   \n",
       "5  One star for conceive and well cooked veggies....       1          0   \n",
       "6  This is all around less than mediocre Mexican ...       1          0   \n",
       "7  My family loves this place. Everyone gets thei...       5          1   \n",
       "8  Where do I begin, already having a bad hotel s...       2          0   \n",
       "9  The place is awesome, bartenders are amazing. ...       5          1   \n",
       "\n",
       "                                    converted_review  polarity_score  \\\n",
       "0  walked here from staying at the trump towers a...          0.8758   \n",
       "1  i loved watching koi poke come to life  the de...          0.9813   \n",
       "2  we have been coming here since they opened and...          0.9971   \n",
       "3  oh scott when is the last time you did quality...         -0.9222   \n",
       "4  i went here with a large group for a friends b...          0.9907   \n",
       "5  one star for conceive and well cooked veggies ...         -0.9879   \n",
       "6  this is all around less than mediocre mexican ...          0.7362   \n",
       "7  my family loves this place everyone gets their...          0.9245   \n",
       "8  where do i begin already having a bad hotel st...         -0.5946   \n",
       "9  the place is awesome bartenders are amazing hi...          0.9500   \n",
       "\n",
       "   normalized_polarity_score  predicted_sentiment  \n",
       "0                    0.93790                    1  \n",
       "1                    0.99065                    1  \n",
       "2                    0.99855                    1  \n",
       "3                    0.03890                    0  \n",
       "4                    0.99535                    1  \n",
       "5                    0.00605                    0  \n",
       "6                    0.86810                    1  \n",
       "7                    0.96225                    1  \n",
       "8                    0.20270                    0  \n",
       "9                    0.97500                    1  "
      ]
     },
     "execution_count": 42,
     "metadata": {},
     "output_type": "execute_result"
    }
   ],
   "source": [
    "#pickle.dump(VADER_Yelp_review, open('VADER_Yelp_review.pkl', 'wb'))\n",
    "VADER_Yelp_review = pickle.load(open('VADER_Yelp_review.pkl', 'rb'))\n",
    "VADER_Yelp_review.head(10)"
   ]
  },
  {
   "cell_type": "code",
   "execution_count": 43,
   "metadata": {},
   "outputs": [
    {
     "data": {
      "text/plain": [
       "0.21331807297042282"
      ]
     },
     "execution_count": 43,
     "metadata": {},
     "output_type": "execute_result"
    }
   ],
   "source": [
    "# misclassification rate\n",
    "len(np.where(VADER_Yelp_review['sentiment'] != VADER_Yelp_review['predicted_sentiment'])[0]) / len(VADER_Yelp_review)"
   ]
  },
  {
   "cell_type": "code",
   "execution_count": 44,
   "metadata": {},
   "outputs": [
    {
     "data": {
      "image/png": "[encoded data removed]",
      "text/plain": [
       "<matplotlib.figure.Figure at 0x1a28352d30>"
      ]
     },
     "metadata": {},
     "output_type": "display_data"
    }
   ],
   "source": [
    "# ROC curve\n",
    "prob_value = VADER_Yelp_review['normalized_polarity_score']\n",
    "fpr, tpr, thresholds = metrics.roc_curve(y_test, prob_value)\n",
    "plt.plot(fpr, tpr, color='darkorange')\n",
    "plt.plot([0,1], [0,1], color='navy', linestyle='--')\n",
    "plt.suptitle('Yelp Review ROC Curve (VADER)')\n",
    "plt.xlabel('False Positive Rate')\n",
    "plt.ylabel('True Positive Rate')\n",
    "plt.show()"
   ]
  },
  {
   "cell_type": "code",
   "execution_count": 45,
   "metadata": {},
   "outputs": [],
   "source": [
    "y_true = list(VADER_Yelp_review['sentiment'])\n",
    "y_pred = list(VADER_Yelp_review['predicted_sentiment'])"
   ]
  },
  {
   "cell_type": "code",
   "execution_count": 46,
   "metadata": {},
   "outputs": [
    {
     "data": {
      "text/plain": [
       "0.7269024881791688"
      ]
     },
     "execution_count": 46,
     "metadata": {},
     "output_type": "execute_result"
    }
   ],
   "source": [
    "# AUC\n",
    "roc_auc_score(y_true, y_pred)"
   ]
  },
  {
   "cell_type": "code",
   "execution_count": 47,
   "metadata": {},
   "outputs": [
    {
     "data": {
      "text/plain": [
       "0.7659532951243083"
      ]
     },
     "execution_count": 47,
     "metadata": {},
     "output_type": "execute_result"
    }
   ],
   "source": [
    "# F1 score\n",
    "f1_score(y_true, y_pred, average='weighted')"
   ]
  },
  {
   "cell_type": "markdown",
   "metadata": {},
   "source": [
    "We put scores of the two different models into a single table."
   ]
  },
  {
   "cell_type": "markdown",
   "metadata": {},
   "source": [
    "<br>\n",
    "\n",
    "|          |  Yelp Review (TF-IDF)  | Yelp Review (VADER) |\n",
    "|:-------------:|:-------------:|:----------------:|\n",
    "|   error rate  |     0.112     |      0.213       |\n",
    "|      AUC      |     0.883     |      0.727       |\n",
    "| F1 (weighted) |     0.888     |      0.766       |\n",
    "<br>\n",
    "<br>"
   ]
  },
  {
   "cell_type": "markdown",
   "metadata": {},
   "source": [
    "Clearly, __TF-IDF__ model is better in every aspect in terms of scores. But still we have to admit that the computational efficiency of __Parsimonious Rule-Based Model__ is much better than __TF-IDF__."
   ]
  },
  {
   "cell_type": "markdown",
   "metadata": {},
   "source": [
    "### 2.1 Further Investigation on Parsimonious Rule-Based Model"
   ]
  },
  {
   "cell_type": "markdown",
   "metadata": {},
   "source": [
    "So far, we've obtained some scores to compare each model. This time, we look into more details about each misclassified review, more specifically, *badly* misclassified reviews."
   ]
  },
  {
   "cell_type": "code",
   "execution_count": 48,
   "metadata": {},
   "outputs": [
    {
     "data": {
      "text/html": [
       "<div>\n",
       "<style scoped>\n",
       "    .dataframe tbody tr th:only-of-type {\n",
       "        vertical-align: middle;\n",
       "    }\n",
       "\n",
       "    .dataframe tbody tr th {\n",
       "        vertical-align: top;\n",
       "    }\n",
       "\n",
       "    .dataframe thead th {\n",
       "        text-align: right;\n",
       "    }\n",
       "</style>\n",
       "<table border=\"1\" class=\"dataframe\">\n",
       "  <thead>\n",
       "    <tr style=\"text-align: right;\">\n",
       "      <th></th>\n",
       "      <th>review</th>\n",
       "      <th>rating</th>\n",
       "      <th>sentiment</th>\n",
       "      <th>converted_review</th>\n",
       "      <th>polarity_score</th>\n",
       "      <th>normalized_polarity_score</th>\n",
       "      <th>predicted_sentiment</th>\n",
       "    </tr>\n",
       "  </thead>\n",
       "  <tbody>\n",
       "    <tr>\n",
       "      <th>92</th>\n",
       "      <td>This is a first and hopefully the last single ...</td>\n",
       "      <td>1</td>\n",
       "      <td>0</td>\n",
       "      <td>this is a first and hopefully the last single ...</td>\n",
       "      <td>0.9812</td>\n",
       "      <td>0.99060</td>\n",
       "      <td>1</td>\n",
       "    </tr>\n",
       "    <tr>\n",
       "      <th>100</th>\n",
       "      <td>IMHO, this used to be one of my favorite steak...</td>\n",
       "      <td>1</td>\n",
       "      <td>0</td>\n",
       "      <td>imho this used to be one of my favorite steak ...</td>\n",
       "      <td>0.9503</td>\n",
       "      <td>0.97515</td>\n",
       "      <td>1</td>\n",
       "    </tr>\n",
       "    <tr>\n",
       "      <th>124</th>\n",
       "      <td>They have two managers working today and the o...</td>\n",
       "      <td>1</td>\n",
       "      <td>0</td>\n",
       "      <td>they have two managers working today and the o...</td>\n",
       "      <td>0.9096</td>\n",
       "      <td>0.95480</td>\n",
       "      <td>1</td>\n",
       "    </tr>\n",
       "    <tr>\n",
       "      <th>171</th>\n",
       "      <td>I saw this place on the food networks with guy...</td>\n",
       "      <td>1</td>\n",
       "      <td>0</td>\n",
       "      <td>i saw this place on the food networks with guy...</td>\n",
       "      <td>0.9852</td>\n",
       "      <td>0.99260</td>\n",
       "      <td>1</td>\n",
       "    </tr>\n",
       "    <tr>\n",
       "      <th>188</th>\n",
       "      <td>This is concerning Caraoke only. I got there 9...</td>\n",
       "      <td>1</td>\n",
       "      <td>0</td>\n",
       "      <td>this is concerning caraoke only i got there 93...</td>\n",
       "      <td>0.9020</td>\n",
       "      <td>0.95100</td>\n",
       "      <td>1</td>\n",
       "    </tr>\n",
       "    <tr>\n",
       "      <th>192</th>\n",
       "      <td>Went to Uno for lunch on a work day.  I have b...</td>\n",
       "      <td>1</td>\n",
       "      <td>0</td>\n",
       "      <td>went to uno for lunch on a work day  i have be...</td>\n",
       "      <td>0.9740</td>\n",
       "      <td>0.98700</td>\n",
       "      <td>1</td>\n",
       "    </tr>\n",
       "    <tr>\n",
       "      <th>212</th>\n",
       "      <td>Well it starts off with  an 8 pm reservation  ...</td>\n",
       "      <td>1</td>\n",
       "      <td>0</td>\n",
       "      <td>well it starts off with  an 8 pm reservation  ...</td>\n",
       "      <td>0.9724</td>\n",
       "      <td>0.98620</td>\n",
       "      <td>1</td>\n",
       "    </tr>\n",
       "    <tr>\n",
       "      <th>229</th>\n",
       "      <td>Wow, what a disappointment.  This is rated the...</td>\n",
       "      <td>1</td>\n",
       "      <td>0</td>\n",
       "      <td>wow what a disappointment  this is rated the 3...</td>\n",
       "      <td>0.9846</td>\n",
       "      <td>0.99230</td>\n",
       "      <td>1</td>\n",
       "    </tr>\n",
       "    <tr>\n",
       "      <th>241</th>\n",
       "      <td>A little background information: we went on Su...</td>\n",
       "      <td>1</td>\n",
       "      <td>0</td>\n",
       "      <td>a little background information we went on sun...</td>\n",
       "      <td>0.9832</td>\n",
       "      <td>0.99160</td>\n",
       "      <td>1</td>\n",
       "    </tr>\n",
       "    <tr>\n",
       "      <th>457</th>\n",
       "      <td>Great if you are into drunk MILFs! Hang on to ...</td>\n",
       "      <td>1</td>\n",
       "      <td>0</td>\n",
       "      <td>great if you are into drunk milfs hang on to t...</td>\n",
       "      <td>0.9151</td>\n",
       "      <td>0.95755</td>\n",
       "      <td>1</td>\n",
       "    </tr>\n",
       "  </tbody>\n",
       "</table>\n",
       "</div>"
      ],
      "text/plain": [
       "                                                review  rating  sentiment  \\\n",
       "92   This is a first and hopefully the last single ...       1          0   \n",
       "100  IMHO, this used to be one of my favorite steak...       1          0   \n",
       "124  They have two managers working today and the o...       1          0   \n",
       "171  I saw this place on the food networks with guy...       1          0   \n",
       "188  This is concerning Caraoke only. I got there 9...       1          0   \n",
       "192  Went to Uno for lunch on a work day.  I have b...       1          0   \n",
       "212  Well it starts off with  an 8 pm reservation  ...       1          0   \n",
       "229  Wow, what a disappointment.  This is rated the...       1          0   \n",
       "241  A little background information: we went on Su...       1          0   \n",
       "457  Great if you are into drunk MILFs! Hang on to ...       1          0   \n",
       "\n",
       "                                      converted_review  polarity_score  \\\n",
       "92   this is a first and hopefully the last single ...          0.9812   \n",
       "100  imho this used to be one of my favorite steak ...          0.9503   \n",
       "124  they have two managers working today and the o...          0.9096   \n",
       "171  i saw this place on the food networks with guy...          0.9852   \n",
       "188  this is concerning caraoke only i got there 93...          0.9020   \n",
       "192  went to uno for lunch on a work day  i have be...          0.9740   \n",
       "212  well it starts off with  an 8 pm reservation  ...          0.9724   \n",
       "229  wow what a disappointment  this is rated the 3...          0.9846   \n",
       "241  a little background information we went on sun...          0.9832   \n",
       "457  great if you are into drunk milfs hang on to t...          0.9151   \n",
       "\n",
       "     normalized_polarity_score  predicted_sentiment  \n",
       "92                     0.99060                    1  \n",
       "100                    0.97515                    1  \n",
       "124                    0.95480                    1  \n",
       "171                    0.99260                    1  \n",
       "188                    0.95100                    1  \n",
       "192                    0.98700                    1  \n",
       "212                    0.98620                    1  \n",
       "229                    0.99230                    1  \n",
       "241                    0.99160                    1  \n",
       "457                    0.95755                    1  "
      ]
     },
     "execution_count": 48,
     "metadata": {},
     "output_type": "execute_result"
    }
   ],
   "source": [
    "misclassified_Yelp_review = VADER_Yelp_review[VADER_Yelp_review['sentiment'] != VADER_Yelp_review['predicted_sentiment']]\n",
    "badly_misclassified_Yelp_review = misclassified_Yelp_review[misclassified_Yelp_review['rating'] == 1]\n",
    "badly_misclassified_Yelp_review = badly_misclassified_Yelp_review[badly_misclassified_Yelp_review['normalized_polarity_score'] > 0.95]\n",
    "badly_misclassified_Yelp_review.head(10)"
   ]
  },
  {
   "cell_type": "markdown",
   "metadata": {},
   "source": [
    "We can see that these reviews are not just misclassified, but their polarity scores are extremely high while the correspoding reviews are very negative. Let's take a closer look at a couple of reviews that are *badly* misclassfied."
   ]
  },
  {
   "cell_type": "markdown",
   "metadata": {},
   "source": [
    "__Example 1__"
   ]
  },
  {
   "cell_type": "code",
   "execution_count": 50,
   "metadata": {},
   "outputs": [
    {
     "data": {
      "text/plain": [
       "\"IMHO, this used to be one of my favorite steak houses. Now the food hardly merits the price, it's just bland. What does it say when a restaurant selling a $54 steak puts a bottle of steak sauce on your table?? Isn't that supposed to be sac-religious as a good steak shouldn't need sauce. The service leaves much to be desired as well- slow and forgetful. Save yourself the experience. Try Gallagher's in NYNY, I've been to the Vegas and original one in NY one and have never been disappointed.\""
      ]
     },
     "execution_count": 50,
     "metadata": {},
     "output_type": "execute_result"
    }
   ],
   "source": [
    "badly_misclassified_Yelp_review.iloc[1,0]"
   ]
  },
  {
   "cell_type": "markdown",
   "metadata": {},
   "source": [
    "Observations:\n",
    "<br>\n",
    "1. The reviewer recommended a different restaurant instead of the one he/she is reviewing and showed positive sentiment on it.\n",
    "2. Used a rhetorical question instead of showing direct negative sentiment.\n",
    "3. Terms like \"slow\", \"forgetful\" were present but outsentimented by stronger positive terms such as \"one of my favorite\", \"never been disappointed\""
   ]
  },
  {
   "cell_type": "code",
   "execution_count": 51,
   "metadata": {},
   "outputs": [],
   "source": [
    "sentence1 = 'IMHO, this used to be one of my favorite steak houses.'\n",
    "sentence2 = 'Now the food hardly merits the price, it\\'s just bland.'\n",
    "sentence3 = 'What does it say when a restaurant selling a $54 steak puts a bottle of steak sauce on your table?? Isn\\'t that supposed to be sac-religious as a good steak shouldn\\'t need sauce.'\n",
    "sentence4 = 'The service leaves much to be desired as well- slow and forgetful.'\n",
    "sentence5 = 'Save yourself the experience.'\n",
    "sentence6 = 'Try Gallagher\\'s in NYNY, I\\'ve been to the Vegas and original one in NY one and have never been disappointed.'"
   ]
  },
  {
   "cell_type": "code",
   "execution_count": 52,
   "metadata": {},
   "outputs": [
    {
     "data": {
      "text/plain": [
       "{'compound': 0.4588, 'neg': 0.0, 'neu': 0.769, 'pos': 0.231}"
      ]
     },
     "execution_count": 52,
     "metadata": {},
     "output_type": "execute_result"
    }
   ],
   "source": [
    "analyzer.polarity_scores(sentence1)"
   ]
  },
  {
   "cell_type": "code",
   "execution_count": 53,
   "metadata": {},
   "outputs": [
    {
     "data": {
      "text/plain": [
       "{'compound': 0.3415, 'neg': 0.0, 'neu': 0.789, 'pos': 0.211}"
      ]
     },
     "execution_count": 53,
     "metadata": {},
     "output_type": "execute_result"
    }
   ],
   "source": [
    "analyzer.polarity_scores(sentence2)"
   ]
  },
  {
   "cell_type": "code",
   "execution_count": 54,
   "metadata": {},
   "outputs": [
    {
     "data": {
      "text/plain": [
       "{'compound': 0.504, 'neg': 0.0, 'neu': 0.896, 'pos': 0.104}"
      ]
     },
     "execution_count": 54,
     "metadata": {},
     "output_type": "execute_result"
    }
   ],
   "source": [
    "analyzer.polarity_scores(sentence3)"
   ]
  },
  {
   "cell_type": "code",
   "execution_count": 55,
   "metadata": {},
   "outputs": [
    {
     "data": {
      "text/plain": [
       "{'compound': 0.2732, 'neg': 0.137, 'neu': 0.588, 'pos': 0.275}"
      ]
     },
     "execution_count": 55,
     "metadata": {},
     "output_type": "execute_result"
    }
   ],
   "source": [
    "analyzer.polarity_scores(sentence4)"
   ]
  },
  {
   "cell_type": "code",
   "execution_count": 56,
   "metadata": {},
   "outputs": [
    {
     "data": {
      "text/plain": [
       "{'compound': 0.4939, 'neg': 0.0, 'neu': 0.484, 'pos': 0.516}"
      ]
     },
     "execution_count": 56,
     "metadata": {},
     "output_type": "execute_result"
    }
   ],
   "source": [
    "analyzer.polarity_scores(sentence5)"
   ]
  },
  {
   "cell_type": "code",
   "execution_count": 57,
   "metadata": {},
   "outputs": [
    {
     "data": {
      "text/plain": [
       "{'compound': 0.5932, 'neg': 0.0, 'neu': 0.788, 'pos': 0.212}"
      ]
     },
     "execution_count": 57,
     "metadata": {},
     "output_type": "execute_result"
    }
   ],
   "source": [
    "analyzer.polarity_scores(sentence6)"
   ]
  },
  {
   "cell_type": "markdown",
   "metadata": {},
   "source": [
    "__Example 2__"
   ]
  },
  {
   "cell_type": "code",
   "execution_count": 58,
   "metadata": {},
   "outputs": [
    {
     "data": {
      "text/plain": [
       "'They have two managers working today and the operation is a complete disaster. Both of them were working on the back handling the drive thru order and almost no one was helping out in the front desk. One guy next to me waited over 10 minutes for just a cup of coffee. One teenager was cleaning the same table for 10 minutes while chitchatting with his friends at a table. I am surprised the manager has not said something. Other tables were not picked up or cleaned with newspapers all over the place. Now The same kid I saw is in the front of the store hanging out with his friends instead of working. Wow! Just wow!'"
      ]
     },
     "execution_count": 58,
     "metadata": {},
     "output_type": "execute_result"
    }
   ],
   "source": [
    "badly_misclassified_Yelp_review.iloc[2,0]"
   ]
  },
  {
   "cell_type": "markdown",
   "metadata": {},
   "source": [
    "Observations:\n",
    "<br>\n",
    "1. Used indirect/situational/contextual expressions to show negative sentiment (sentence 4,6,7) \n",
    "2. Misinterpreted the reviewer's sarcasm (sentence 8)"
   ]
  },
  {
   "cell_type": "code",
   "execution_count": 59,
   "metadata": {},
   "outputs": [],
   "source": [
    "sentence1 = 'They have two managers working today and the operation is a complete disaster.'\n",
    "sentence2 = 'Both of them were working on the back handling the drive thru order and almost no one was helping out in the front desk.'\n",
    "sentence3 = 'One guy next to me waited over 10 minutes for just a cup of coffee.'\n",
    "sentence4 = 'One teenager was cleaning the same table for 10 minutes while chitchatting with his friends at a table.'\n",
    "sentence5 = 'I am surprised the manager has not said something.'\n",
    "sentence6 = 'Other tables were not picked up or cleaned with newspapers all over the place.'\n",
    "sentence7 = 'Now The same kid I saw is in the front of the store hanging out with his friends instead of working.'\n",
    "sentence8 = 'Wow! Just wow!'"
   ]
  },
  {
   "cell_type": "code",
   "execution_count": 60,
   "metadata": {},
   "outputs": [
    {
     "data": {
      "text/plain": [
       "{'compound': -0.6249, 'neg': 0.272, 'neu': 0.728, 'pos': 0.0}"
      ]
     },
     "execution_count": 60,
     "metadata": {},
     "output_type": "execute_result"
    }
   ],
   "source": [
    "analyzer.polarity_scores(sentence1)"
   ]
  },
  {
   "cell_type": "code",
   "execution_count": 61,
   "metadata": {},
   "outputs": [
    {
     "data": {
      "text/plain": [
       "{'compound': 0.0754, 'neg': 0.073, 'neu': 0.843, 'pos': 0.084}"
      ]
     },
     "execution_count": 61,
     "metadata": {},
     "output_type": "execute_result"
    }
   ],
   "source": [
    "analyzer.polarity_scores(sentence2)"
   ]
  },
  {
   "cell_type": "code",
   "execution_count": 62,
   "metadata": {},
   "outputs": [
    {
     "data": {
      "text/plain": [
       "{'compound': 0.0, 'neg': 0.0, 'neu': 1.0, 'pos': 0.0}"
      ]
     },
     "execution_count": 62,
     "metadata": {},
     "output_type": "execute_result"
    }
   ],
   "source": [
    "analyzer.polarity_scores(sentence3)"
   ]
  },
  {
   "cell_type": "code",
   "execution_count": 63,
   "metadata": {},
   "outputs": [
    {
     "data": {
      "text/plain": [
       "{'compound': 0.4767, 'neg': 0.0, 'neu': 0.838, 'pos': 0.162}"
      ]
     },
     "execution_count": 63,
     "metadata": {},
     "output_type": "execute_result"
    }
   ],
   "source": [
    "analyzer.polarity_scores(sentence4)"
   ]
  },
  {
   "cell_type": "code",
   "execution_count": 64,
   "metadata": {},
   "outputs": [
    {
     "data": {
      "text/plain": [
       "{'compound': 0.2263, 'neg': 0.0, 'neu': 0.787, 'pos': 0.213}"
      ]
     },
     "execution_count": 64,
     "metadata": {},
     "output_type": "execute_result"
    }
   ],
   "source": [
    "analyzer.polarity_scores(sentence5)"
   ]
  },
  {
   "cell_type": "code",
   "execution_count": 65,
   "metadata": {},
   "outputs": [
    {
     "data": {
      "text/plain": [
       "{'compound': 0.0, 'neg': 0.0, 'neu': 1.0, 'pos': 0.0}"
      ]
     },
     "execution_count": 65,
     "metadata": {},
     "output_type": "execute_result"
    }
   ],
   "source": [
    "analyzer.polarity_scores(sentence6)"
   ]
  },
  {
   "cell_type": "code",
   "execution_count": 66,
   "metadata": {},
   "outputs": [
    {
     "data": {
      "text/plain": [
       "{'compound': 0.4767, 'neg': 0.0, 'neu': 0.86, 'pos': 0.14}"
      ]
     },
     "execution_count": 66,
     "metadata": {},
     "output_type": "execute_result"
    }
   ],
   "source": [
    "analyzer.polarity_scores(sentence7)"
   ]
  },
  {
   "cell_type": "code",
   "execution_count": 67,
   "metadata": {},
   "outputs": [
    {
     "data": {
      "text/plain": [
       "{'compound': 0.8475, 'neg': 0.0, 'neu': 0.109, 'pos': 0.891}"
      ]
     },
     "execution_count": 67,
     "metadata": {},
     "output_type": "execute_result"
    }
   ],
   "source": [
    "analyzer.polarity_scores(sentence8)"
   ]
  },
  {
   "cell_type": "markdown",
   "metadata": {},
   "source": [
    "__Example 3__"
   ]
  },
  {
   "cell_type": "code",
   "execution_count": 68,
   "metadata": {},
   "outputs": [
    {
     "data": {
      "text/plain": [
       "\"I saw this place on the food networks with guy fieri and thought I would give it a chance. It's about 20 min from the strip but thought it would be worth the drive. When you pull up the place smells amazing I was excited to try everything. The staff was super nice and courteous so my 1 star is on the food the staff gets 5. \\n   I ordered the tri tip, ribs , pulled pork , chicken and a couple sides. I was expecting fall off the bone quality ribs with tons of flavor but what I got was a dry rib that wasn't good at all. The tri tip was tender but lacked flavor, pulled pork was my favorite and the cornbread. I don't know if guy fieri got there best ribs that day but mine didn't look or taste good.\""
      ]
     },
     "execution_count": 68,
     "metadata": {},
     "output_type": "execute_result"
    }
   ],
   "source": [
    "badly_misclassified_Yelp_review.iloc[3,0]"
   ]
  },
  {
   "cell_type": "markdown",
   "metadata": {},
   "source": [
    "Observations:\n",
    "<br>\n",
    "<br>\n",
    "This reviewer is a terrible reviwer. His experience is actually pretty positive except for the fact that he had bad ribs. This is supposed to be at least 3 star review in our opinion."
   ]
  },
  {
   "cell_type": "markdown",
   "metadata": {},
   "source": [
    "## Video Game Review Dataset for Sentiment Analysis\n",
    "\n",
    "Now we move onto a different dataset, i.e. __video game review__ dataset. The purpose is that we want to see how each model works on domain-specific dataset. In __video game review__, people use much more specific and technical vocabulary to describe their opinion. We'd like to see how this change will affect our two different models.\n",
    "\n",
    "### Data Collection\n",
    "\n",
    "We found a website that has many different datasets including __video game review__, which we wanted to try our models on. So we reached out to Julian McAuley, Assistant Professor @ Computer Science Department of UCSD to get permission to use the data. This file is also in json format. We repeat the similar procedure as previous."
   ]
  },
  {
   "cell_type": "code",
   "execution_count": 49,
   "metadata": {},
   "outputs": [],
   "source": [
    "with open('reviews_Video_Games.json', 'rb') as f:\n",
    "    data = f.readlines()\n",
    "    \n",
    "columns = list(json.loads(data[0]).keys())\n",
    "rows = []\n",
    "for i in range(0,len(data)):\n",
    "    rows.append(list(json.loads(data[i]).values()))\n",
    "data = pd.DataFrame(rows, columns=columns)\n",
    "data = data[['reviewText','overall']]\n",
    "\n",
    "video_game_review = data.rename(index=str, columns={'reviewText': 'review', 'overall': 'rating'})\n",
    "\n",
    "video_game_review1 = video_game_review[video_game_review['rating'] == 1]\n",
    "video_game_review2 = video_game_review[video_game_review['rating'] == 2]\n",
    "video_game_review3 = video_game_review[video_game_review['rating'] == 3]\n",
    "video_game_review4 = video_game_review[video_game_review['rating'] == 4]\n",
    "video_game_review5 = video_game_review[video_game_review['rating'] == 5]\n",
    "video_game_review = pd.concat([video_game_review1,video_game_review2,video_game_review3,\n",
    "                               video_game_review4,video_game_review5])"
   ]
  },
  {
   "cell_type": "code",
   "execution_count": null,
   "metadata": {},
   "outputs": [],
   "source": [
    "# visualization code inactive - needs debugging - not crucial to remainder of project\n",
    "#n, bins, patches = plt.hist(video_game_review['rating'], align='left',\n",
    "#                            range=[0.5, 5.5], facecolor='blue', alpha=0.8)\n",
    "#\n",
    "#plt.xlabel('rating')\n",
    "#plt.ylabel('frequency')\n",
    "#plt.title('Video Game Review Rate Distribution')\n",
    "#plt.grid(True)\n",
    "#\n",
    "#plt.show()"
   ]
  },
  {
   "cell_type": "code",
   "execution_count": 50,
   "metadata": {},
   "outputs": [],
   "source": [
    "video_game_review = video_game_review[video_game_review['rating'] != 3]"
   ]
  },
  {
   "cell_type": "code",
   "execution_count": 51,
   "metadata": {},
   "outputs": [],
   "source": [
    "def sentiment_classifier(x):\n",
    "    if x == 4 or x == 5:\n",
    "        y = 1\n",
    "    else:\n",
    "        y = 0\n",
    "    return y\n",
    "video_game_review['sentiment'] = np.vectorize(sentiment_classifier)(video_game_review['rating'])"
   ]
  },
  {
   "cell_type": "markdown",
   "metadata": {},
   "source": [
    "### 1. TF_IDF Matrix Approach\n",
    "Again, the process is similar to the previous one."
   ]
  },
  {
   "cell_type": "code",
   "execution_count": 52,
   "metadata": {},
   "outputs": [
    {
     "data": {
      "image/png": "[encoded data removed]",
      "text/plain": [
       "<matplotlib.figure.Figure at 0x1b2c7fba20>"
      ]
     },
     "metadata": {},
     "output_type": "display_data"
    }
   ],
   "source": [
    "x = [1,2]\n",
    "y = [video_game_review[(video_game_review['sentiment'] == 0)].count()[0],\n",
    "     (len(video_game_review)-video_game_review[(video_game_review['sentiment'] == 0)].count()[0])]\n",
    "\n",
    "labels = list(np.unique(video_game_review['sentiment']))\n",
    "\n",
    "plt.bar(x, y, align='center')\n",
    "plt.xticks(x, labels)\n",
    "plt.xlabel('sentiment')\n",
    "plt.ylabel('frequency')\n",
    "plt.title('Video Game Review Sentiment Distribution')\n",
    "plt.grid(True)\n",
    "plt.show()"
   ]
  },
  {
   "cell_type": "markdown",
   "metadata": {},
   "source": [
    "This time, instead of undersampling, we use oversampling from the minority class. The reason is that we wanted the amount of __video game review__ to be as similar as that of __Yelp review__ for a fair comparison. In fact, __Yelp review__ data was a bit larger, so we choose to oversample for __video game review__ data. Here, to prevent overfitting, we first separate data into positive and negative sentiment. Then we obtain 20% of each sentiment to set aside test dataset."
   ]
  },
  {
   "cell_type": "code",
   "execution_count": 53,
   "metadata": {},
   "outputs": [],
   "source": [
    "# train / test set split to prevent overfitting\n",
    "video_game_review_pos = video_game_review[video_game_review['sentiment'] == 1]\n",
    "video_game_review_neg = video_game_review[video_game_review['sentiment'] == 0]\n",
    "video_game_review_pos = video_game_review_pos.reset_index(drop=True)\n",
    "video_game_review_neg = video_game_review_neg.reset_index(drop=True)\n",
    "\n",
    "np.random.seed(1)\n",
    "indices = video_game_review_pos.index.tolist()\n",
    "np.random.shuffle(indices)\n",
    "\n",
    "train_indices = indices[:int(len(video_game_review_pos)*0.8)]\n",
    "test_indices = indices[int(len(video_game_review_pos)*0.8):]\n",
    "\n",
    "video_game_review_pos_train = video_game_review_pos.iloc[train_indices,:].reset_index(drop=True)\n",
    "video_game_review_pos_test = video_game_review_pos.iloc[test_indices,:].reset_index(drop=True)\n",
    "\n",
    "np.random.seed(1)\n",
    "indices = video_game_review_neg.index.tolist()\n",
    "np.random.shuffle(indices)\n",
    "\n",
    "train_indices = indices[:int(len(video_game_review_neg)*0.8)]\n",
    "test_indices = indices[int(len(video_game_review_neg)*0.8):]\n",
    "\n",
    "video_game_review_neg_train = video_game_review_neg.iloc[train_indices,:].reset_index(drop=True)\n",
    "video_game_review_neg_test = video_game_review_neg.iloc[test_indices,:].reset_index(drop=True)\n",
    "\n",
    "video_game_review_train = pd.concat([video_game_review_neg_train, video_game_review_pos_train]).reset_index(drop=True)\n",
    "video_game_review_test = pd.concat([video_game_review_neg_test, video_game_review_pos_test]).reset_index(drop=True)"
   ]
  },
  {
   "cell_type": "markdown",
   "metadata": {},
   "source": [
    "Oversample negative sentiment from train data."
   ]
  },
  {
   "cell_type": "code",
   "execution_count": 54,
   "metadata": {},
   "outputs": [
    {
     "data": {
      "image/png": "[encoded data removed]",
      "text/plain": [
       "<matplotlib.figure.Figure at 0x1b4cf0ecc0>"
      ]
     },
     "metadata": {},
     "output_type": "display_data"
    }
   ],
   "source": [
    "# oversampling negative sentiment from train data\n",
    "video_game_review_train_pos = video_game_review_train[video_game_review_train['sentiment'] == 1]\n",
    "video_game_review_train_neg = video_game_review_train[video_game_review_train['sentiment'] == 0]\n",
    "\n",
    "video_game_review_train_neg2 = video_game_review_train_neg.copy()\n",
    "video_game_review_train_neg3 = video_game_review_train_neg.copy()\n",
    "video_game_review_train_neg = pd.concat([video_game_review_train_neg,\n",
    "                                         video_game_review_train_neg2,\n",
    "                                         video_game_review_train_neg3]).reset_index(drop=True)\n",
    "\n",
    "video_game_review_train = pd.concat([video_game_review_train_neg, video_game_review_train_pos]).reset_index(drop=True)\n",
    "\n",
    "x = [1,2]\n",
    "y = [video_game_review_train[(video_game_review_train['sentiment'] == 0)].count()[0],\n",
    "     (len(video_game_review_train)-video_game_review_train[(video_game_review_train['sentiment'] == 0)].count()[0])]\n",
    "\n",
    "labels = list(np.unique(video_game_review_train['sentiment']))\n",
    "\n",
    "plt.bar(x, y, align='center')\n",
    "plt.xticks(x, labels)\n",
    "plt.xlabel('sentiment')\n",
    "plt.ylabel('frequency')\n",
    "plt.title('Video Game Review (Train) Sentiment Distribution')\n",
    "plt.grid(True)\n",
    "plt.show()"
   ]
  },
  {
   "cell_type": "markdown",
   "metadata": {},
   "source": [
    "The proportion looks much better now. We continue the pre-processing just like before."
   ]
  },
  {
   "cell_type": "code",
   "execution_count": 55,
   "metadata": {},
   "outputs": [
    {
     "data": {
      "text/html": [
       "<div>\n",
       "<style scoped>\n",
       "    .dataframe tbody tr th:only-of-type {\n",
       "        vertical-align: middle;\n",
       "    }\n",
       "\n",
       "    .dataframe tbody tr th {\n",
       "        vertical-align: top;\n",
       "    }\n",
       "\n",
       "    .dataframe thead th {\n",
       "        text-align: right;\n",
       "    }\n",
       "</style>\n",
       "<table border=\"1\" class=\"dataframe\">\n",
       "  <thead>\n",
       "    <tr style=\"text-align: right;\">\n",
       "      <th></th>\n",
       "      <th>review</th>\n",
       "      <th>rating</th>\n",
       "      <th>sentiment</th>\n",
       "      <th>converted_review</th>\n",
       "    </tr>\n",
       "  </thead>\n",
       "  <tbody>\n",
       "    <tr>\n",
       "      <th>0</th>\n",
       "      <td>Graphics are of poor quality and the games are...</td>\n",
       "      <td>1</td>\n",
       "      <td>0</td>\n",
       "      <td>graphics are of poor quality and the games are...</td>\n",
       "    </tr>\n",
       "    <tr>\n",
       "      <th>1</th>\n",
       "      <td>I have played ALL the NFS games since PS1. I h...</td>\n",
       "      <td>1</td>\n",
       "      <td>0</td>\n",
       "      <td>i have played all the nfs games since ps1 i ha...</td>\n",
       "    </tr>\n",
       "    <tr>\n",
       "      <th>2</th>\n",
       "      <td>All I wanted was a stand along game like Civ 3...</td>\n",
       "      <td>1</td>\n",
       "      <td>0</td>\n",
       "      <td>all i wanted was a stand along game like civ 3...</td>\n",
       "    </tr>\n",
       "    <tr>\n",
       "      <th>3</th>\n",
       "      <td>game not here scratched so bad it said no game...</td>\n",
       "      <td>1</td>\n",
       "      <td>0</td>\n",
       "      <td>game not here scratched so bad it said no game...</td>\n",
       "    </tr>\n",
       "    <tr>\n",
       "      <th>4</th>\n",
       "      <td>This game has stripped out so much of what the...</td>\n",
       "      <td>1</td>\n",
       "      <td>0</td>\n",
       "      <td>this game has stripped out so much of what the...</td>\n",
       "    </tr>\n",
       "    <tr>\n",
       "      <th>5</th>\n",
       "      <td>I'm not sure how the other workout games for K...</td>\n",
       "      <td>1</td>\n",
       "      <td>0</td>\n",
       "      <td>i am not sure how the other workout games for ...</td>\n",
       "    </tr>\n",
       "    <tr>\n",
       "      <th>6</th>\n",
       "      <td>I couldn't see the purpose in Rhem 1 so I gues...</td>\n",
       "      <td>1</td>\n",
       "      <td>0</td>\n",
       "      <td>i could not see the purpose in rhem 1 so i gue...</td>\n",
       "    </tr>\n",
       "    <tr>\n",
       "      <th>7</th>\n",
       "      <td>This game is terrible!  NBA Live 97, 98, 99......</td>\n",
       "      <td>2</td>\n",
       "      <td>0</td>\n",
       "      <td>this game is terrible  nba live 97 98 99 ea sp...</td>\n",
       "    </tr>\n",
       "    <tr>\n",
       "      <th>8</th>\n",
       "      <td>Bottom line is game cube and xbox are better. ...</td>\n",
       "      <td>1</td>\n",
       "      <td>0</td>\n",
       "      <td>bottom line is game cube and xbox are better 1...</td>\n",
       "    </tr>\n",
       "    <tr>\n",
       "      <th>9</th>\n",
       "      <td>When it has came down to rechargeable battery ...</td>\n",
       "      <td>2</td>\n",
       "      <td>0</td>\n",
       "      <td>when it has came down to rechargeable battery ...</td>\n",
       "    </tr>\n",
       "  </tbody>\n",
       "</table>\n",
       "</div>"
      ],
      "text/plain": [
       "                                              review rating  sentiment  \\\n",
       "0  Graphics are of poor quality and the games are...      1          0   \n",
       "1  I have played ALL the NFS games since PS1. I h...      1          0   \n",
       "2  All I wanted was a stand along game like Civ 3...      1          0   \n",
       "3  game not here scratched so bad it said no game...      1          0   \n",
       "4  This game has stripped out so much of what the...      1          0   \n",
       "5  I'm not sure how the other workout games for K...      1          0   \n",
       "6  I couldn't see the purpose in Rhem 1 so I gues...      1          0   \n",
       "7  This game is terrible!  NBA Live 97, 98, 99......      2          0   \n",
       "8  Bottom line is game cube and xbox are better. ...      1          0   \n",
       "9  When it has came down to rechargeable battery ...      2          0   \n",
       "\n",
       "                                    converted_review  \n",
       "0  graphics are of poor quality and the games are...  \n",
       "1  i have played all the nfs games since ps1 i ha...  \n",
       "2  all i wanted was a stand along game like civ 3...  \n",
       "3  game not here scratched so bad it said no game...  \n",
       "4  this game has stripped out so much of what the...  \n",
       "5  i am not sure how the other workout games for ...  \n",
       "6  i could not see the purpose in rhem 1 so i gue...  \n",
       "7  this game is terrible  nba live 97 98 99 ea sp...  \n",
       "8  bottom line is game cube and xbox are better 1...  \n",
       "9  when it has came down to rechargeable battery ...  "
      ]
     },
     "execution_count": 55,
     "metadata": {},
     "output_type": "execute_result"
    }
   ],
   "source": [
    "### case conversion\n",
    "#video_game_review_train['converted_review'] = video_game_review_train['review'].str.lower()\n",
    "#converted_review = list(video_game_review_train['converted_review'])\n",
    "\n",
    "### expanding contractions\n",
    "#contraction_re = re.compile('(%s)' % '|'.join(contraction_dict.keys()))\n",
    "#def expand_contractions(s, contraction_dict=contraction_dict):\n",
    "#     def replace(match):\n",
    "#         return contraction_dict[match.group(0)]\n",
    "#     return contraction_re.sub(replace, s)\n",
    "\n",
    "#for i in range(0,len(converted_review)):\n",
    "#    converted_review[i] = expand_contractions(converted_review[i])\n",
    "\n",
    "### removing special characters\n",
    "#converted_review = [remove_special_characters(sentence) for sentence in converted_review]\n",
    "\n",
    "#video_game_review_train['converted_review'] = pd.Series(converted_review)\n",
    "\n",
    "#pickle.dump(video_game_review_train, open('video_game_review_train.pkl', 'wb'))\n",
    "video_game_review_train = pickle.load(open('video_game_review_train.pkl', 'rb'))\n",
    "video_game_review_train.head(10)"
   ]
  },
  {
   "cell_type": "markdown",
   "metadata": {},
   "source": [
    "Tokenize and get tf-idf dictionary."
   ]
  },
  {
   "cell_type": "code",
   "execution_count": 56,
   "metadata": {},
   "outputs": [
    {
     "data": {
      "text/html": [
       "<div>\n",
       "<style scoped>\n",
       "    .dataframe tbody tr th:only-of-type {\n",
       "        vertical-align: middle;\n",
       "    }\n",
       "\n",
       "    .dataframe tbody tr th {\n",
       "        vertical-align: top;\n",
       "    }\n",
       "\n",
       "    .dataframe thead th {\n",
       "        text-align: right;\n",
       "    }\n",
       "</style>\n",
       "<table border=\"1\" class=\"dataframe\">\n",
       "  <thead>\n",
       "    <tr style=\"text-align: right;\">\n",
       "      <th></th>\n",
       "      <th>0</th>\n",
       "      <th>1</th>\n",
       "      <th>2</th>\n",
       "      <th>3</th>\n",
       "      <th>4</th>\n",
       "      <th>5</th>\n",
       "      <th>6</th>\n",
       "      <th>7</th>\n",
       "      <th>8</th>\n",
       "      <th>9</th>\n",
       "      <th>...</th>\n",
       "      <th>724</th>\n",
       "      <th>725</th>\n",
       "      <th>726</th>\n",
       "      <th>727</th>\n",
       "      <th>728</th>\n",
       "      <th>729</th>\n",
       "      <th>730</th>\n",
       "      <th>731</th>\n",
       "      <th>732</th>\n",
       "      <th>y</th>\n",
       "    </tr>\n",
       "  </thead>\n",
       "  <tbody>\n",
       "    <tr>\n",
       "      <th>0</th>\n",
       "      <td>0.0</td>\n",
       "      <td>0.000000</td>\n",
       "      <td>0.0</td>\n",
       "      <td>0.0</td>\n",
       "      <td>0.0</td>\n",
       "      <td>0.0</td>\n",
       "      <td>0.0</td>\n",
       "      <td>0.0</td>\n",
       "      <td>0.0</td>\n",
       "      <td>0.0</td>\n",
       "      <td>...</td>\n",
       "      <td>0.000000</td>\n",
       "      <td>0.000000</td>\n",
       "      <td>0.0</td>\n",
       "      <td>0.0</td>\n",
       "      <td>0.0</td>\n",
       "      <td>0.000000</td>\n",
       "      <td>0.0</td>\n",
       "      <td>0.0</td>\n",
       "      <td>0.0</td>\n",
       "      <td>0</td>\n",
       "    </tr>\n",
       "    <tr>\n",
       "      <th>1</th>\n",
       "      <td>0.0</td>\n",
       "      <td>0.000000</td>\n",
       "      <td>0.0</td>\n",
       "      <td>0.0</td>\n",
       "      <td>0.0</td>\n",
       "      <td>0.0</td>\n",
       "      <td>0.0</td>\n",
       "      <td>0.0</td>\n",
       "      <td>0.0</td>\n",
       "      <td>0.0</td>\n",
       "      <td>...</td>\n",
       "      <td>0.000000</td>\n",
       "      <td>0.000000</td>\n",
       "      <td>0.0</td>\n",
       "      <td>0.0</td>\n",
       "      <td>0.0</td>\n",
       "      <td>0.000000</td>\n",
       "      <td>0.0</td>\n",
       "      <td>0.0</td>\n",
       "      <td>0.0</td>\n",
       "      <td>0</td>\n",
       "    </tr>\n",
       "    <tr>\n",
       "      <th>2</th>\n",
       "      <td>0.0</td>\n",
       "      <td>0.000000</td>\n",
       "      <td>0.0</td>\n",
       "      <td>0.0</td>\n",
       "      <td>0.0</td>\n",
       "      <td>0.0</td>\n",
       "      <td>0.0</td>\n",
       "      <td>0.0</td>\n",
       "      <td>0.0</td>\n",
       "      <td>0.0</td>\n",
       "      <td>...</td>\n",
       "      <td>0.000000</td>\n",
       "      <td>0.000000</td>\n",
       "      <td>0.0</td>\n",
       "      <td>0.0</td>\n",
       "      <td>0.0</td>\n",
       "      <td>0.000000</td>\n",
       "      <td>0.0</td>\n",
       "      <td>0.0</td>\n",
       "      <td>0.0</td>\n",
       "      <td>0</td>\n",
       "    </tr>\n",
       "    <tr>\n",
       "      <th>3</th>\n",
       "      <td>0.0</td>\n",
       "      <td>0.000000</td>\n",
       "      <td>0.0</td>\n",
       "      <td>0.0</td>\n",
       "      <td>0.0</td>\n",
       "      <td>0.0</td>\n",
       "      <td>0.0</td>\n",
       "      <td>0.0</td>\n",
       "      <td>0.0</td>\n",
       "      <td>0.0</td>\n",
       "      <td>...</td>\n",
       "      <td>0.000000</td>\n",
       "      <td>0.000000</td>\n",
       "      <td>0.0</td>\n",
       "      <td>0.0</td>\n",
       "      <td>0.0</td>\n",
       "      <td>0.000000</td>\n",
       "      <td>0.0</td>\n",
       "      <td>0.0</td>\n",
       "      <td>0.0</td>\n",
       "      <td>0</td>\n",
       "    </tr>\n",
       "    <tr>\n",
       "      <th>4</th>\n",
       "      <td>0.0</td>\n",
       "      <td>0.000000</td>\n",
       "      <td>0.0</td>\n",
       "      <td>0.0</td>\n",
       "      <td>0.0</td>\n",
       "      <td>0.0</td>\n",
       "      <td>0.0</td>\n",
       "      <td>0.0</td>\n",
       "      <td>0.0</td>\n",
       "      <td>0.0</td>\n",
       "      <td>...</td>\n",
       "      <td>0.000000</td>\n",
       "      <td>0.000000</td>\n",
       "      <td>0.0</td>\n",
       "      <td>0.0</td>\n",
       "      <td>0.0</td>\n",
       "      <td>0.000000</td>\n",
       "      <td>0.0</td>\n",
       "      <td>0.0</td>\n",
       "      <td>0.0</td>\n",
       "      <td>0</td>\n",
       "    </tr>\n",
       "    <tr>\n",
       "      <th>5</th>\n",
       "      <td>0.0</td>\n",
       "      <td>0.277651</td>\n",
       "      <td>0.0</td>\n",
       "      <td>0.0</td>\n",
       "      <td>0.0</td>\n",
       "      <td>0.0</td>\n",
       "      <td>0.0</td>\n",
       "      <td>0.0</td>\n",
       "      <td>0.0</td>\n",
       "      <td>0.0</td>\n",
       "      <td>...</td>\n",
       "      <td>0.000000</td>\n",
       "      <td>0.000000</td>\n",
       "      <td>0.0</td>\n",
       "      <td>0.0</td>\n",
       "      <td>0.0</td>\n",
       "      <td>0.000000</td>\n",
       "      <td>0.0</td>\n",
       "      <td>0.0</td>\n",
       "      <td>0.0</td>\n",
       "      <td>0</td>\n",
       "    </tr>\n",
       "    <tr>\n",
       "      <th>6</th>\n",
       "      <td>0.0</td>\n",
       "      <td>0.000000</td>\n",
       "      <td>0.0</td>\n",
       "      <td>0.0</td>\n",
       "      <td>0.0</td>\n",
       "      <td>0.0</td>\n",
       "      <td>0.0</td>\n",
       "      <td>0.0</td>\n",
       "      <td>0.0</td>\n",
       "      <td>0.0</td>\n",
       "      <td>...</td>\n",
       "      <td>0.000000</td>\n",
       "      <td>0.000000</td>\n",
       "      <td>0.0</td>\n",
       "      <td>0.0</td>\n",
       "      <td>0.0</td>\n",
       "      <td>0.000000</td>\n",
       "      <td>0.0</td>\n",
       "      <td>0.0</td>\n",
       "      <td>0.0</td>\n",
       "      <td>0</td>\n",
       "    </tr>\n",
       "    <tr>\n",
       "      <th>7</th>\n",
       "      <td>0.0</td>\n",
       "      <td>0.000000</td>\n",
       "      <td>0.0</td>\n",
       "      <td>0.0</td>\n",
       "      <td>0.0</td>\n",
       "      <td>0.0</td>\n",
       "      <td>0.0</td>\n",
       "      <td>0.0</td>\n",
       "      <td>0.0</td>\n",
       "      <td>0.0</td>\n",
       "      <td>...</td>\n",
       "      <td>0.000000</td>\n",
       "      <td>0.000000</td>\n",
       "      <td>0.0</td>\n",
       "      <td>0.0</td>\n",
       "      <td>0.0</td>\n",
       "      <td>0.000000</td>\n",
       "      <td>0.0</td>\n",
       "      <td>0.0</td>\n",
       "      <td>0.0</td>\n",
       "      <td>0</td>\n",
       "    </tr>\n",
       "    <tr>\n",
       "      <th>8</th>\n",
       "      <td>0.0</td>\n",
       "      <td>0.118212</td>\n",
       "      <td>0.0</td>\n",
       "      <td>0.0</td>\n",
       "      <td>0.0</td>\n",
       "      <td>0.0</td>\n",
       "      <td>0.0</td>\n",
       "      <td>0.0</td>\n",
       "      <td>0.0</td>\n",
       "      <td>0.0</td>\n",
       "      <td>...</td>\n",
       "      <td>0.000000</td>\n",
       "      <td>0.000000</td>\n",
       "      <td>0.0</td>\n",
       "      <td>0.0</td>\n",
       "      <td>0.0</td>\n",
       "      <td>0.688316</td>\n",
       "      <td>0.0</td>\n",
       "      <td>0.0</td>\n",
       "      <td>0.0</td>\n",
       "      <td>0</td>\n",
       "    </tr>\n",
       "    <tr>\n",
       "      <th>9</th>\n",
       "      <td>0.0</td>\n",
       "      <td>0.000000</td>\n",
       "      <td>0.0</td>\n",
       "      <td>0.0</td>\n",
       "      <td>0.0</td>\n",
       "      <td>0.0</td>\n",
       "      <td>0.0</td>\n",
       "      <td>0.0</td>\n",
       "      <td>0.0</td>\n",
       "      <td>0.0</td>\n",
       "      <td>...</td>\n",
       "      <td>0.209861</td>\n",
       "      <td>0.387136</td>\n",
       "      <td>0.0</td>\n",
       "      <td>0.0</td>\n",
       "      <td>0.0</td>\n",
       "      <td>0.000000</td>\n",
       "      <td>0.0</td>\n",
       "      <td>0.0</td>\n",
       "      <td>0.0</td>\n",
       "      <td>0</td>\n",
       "    </tr>\n",
       "  </tbody>\n",
       "</table>\n",
       "<p>10 rows × 734 columns</p>\n",
       "</div>"
      ],
      "text/plain": [
       "     0         1    2    3    4    5    6    7    8    9 ...       724  \\\n",
       "0  0.0  0.000000  0.0  0.0  0.0  0.0  0.0  0.0  0.0  0.0 ...  0.000000   \n",
       "1  0.0  0.000000  0.0  0.0  0.0  0.0  0.0  0.0  0.0  0.0 ...  0.000000   \n",
       "2  0.0  0.000000  0.0  0.0  0.0  0.0  0.0  0.0  0.0  0.0 ...  0.000000   \n",
       "3  0.0  0.000000  0.0  0.0  0.0  0.0  0.0  0.0  0.0  0.0 ...  0.000000   \n",
       "4  0.0  0.000000  0.0  0.0  0.0  0.0  0.0  0.0  0.0  0.0 ...  0.000000   \n",
       "5  0.0  0.277651  0.0  0.0  0.0  0.0  0.0  0.0  0.0  0.0 ...  0.000000   \n",
       "6  0.0  0.000000  0.0  0.0  0.0  0.0  0.0  0.0  0.0  0.0 ...  0.000000   \n",
       "7  0.0  0.000000  0.0  0.0  0.0  0.0  0.0  0.0  0.0  0.0 ...  0.000000   \n",
       "8  0.0  0.118212  0.0  0.0  0.0  0.0  0.0  0.0  0.0  0.0 ...  0.000000   \n",
       "9  0.0  0.000000  0.0  0.0  0.0  0.0  0.0  0.0  0.0  0.0 ...  0.209861   \n",
       "\n",
       "        725  726  727  728       729  730  731  732  y  \n",
       "0  0.000000  0.0  0.0  0.0  0.000000  0.0  0.0  0.0  0  \n",
       "1  0.000000  0.0  0.0  0.0  0.000000  0.0  0.0  0.0  0  \n",
       "2  0.000000  0.0  0.0  0.0  0.000000  0.0  0.0  0.0  0  \n",
       "3  0.000000  0.0  0.0  0.0  0.000000  0.0  0.0  0.0  0  \n",
       "4  0.000000  0.0  0.0  0.0  0.000000  0.0  0.0  0.0  0  \n",
       "5  0.000000  0.0  0.0  0.0  0.000000  0.0  0.0  0.0  0  \n",
       "6  0.000000  0.0  0.0  0.0  0.000000  0.0  0.0  0.0  0  \n",
       "7  0.000000  0.0  0.0  0.0  0.000000  0.0  0.0  0.0  0  \n",
       "8  0.000000  0.0  0.0  0.0  0.688316  0.0  0.0  0.0  0  \n",
       "9  0.387136  0.0  0.0  0.0  0.000000  0.0  0.0  0.0  0  \n",
       "\n",
       "[10 rows x 734 columns]"
      ]
     },
     "execution_count": 56,
     "metadata": {},
     "output_type": "execute_result"
    }
   ],
   "source": [
    "# construct TF-IDF Matrix with true label column\n",
    "tfidf_vectorizer = TfidfVectorizer(lowercase=True, analyzer='word', stop_words=stop_words_set, max_df=0.8, min_df=0.01)\n",
    "#video_game_tfidf_vect_fit = tfidf_vectorizer.fit(video_game_review_train['converted_review'])\n",
    "#pickle.dump(video_game_tfidf_vect_fit, open('video_game_tfidf_vect_fit.pkl', 'wb'))\n",
    "video_game_tfidf_vect_fit = pickle.load(open('video_game_tfidf_vect_fit.pkl', 'rb'))\n",
    "tfidf_sparse = video_game_tfidf_vect_fit.transform(video_game_review_train['converted_review'])\n",
    "tfidf_dense = tfidf_sparse.todense(order=None, out=None)\n",
    "tfidf_dense = pd.DataFrame(tfidf_dense)\n",
    "tfidf_dense['y'] = video_game_review_train['sentiment']\n",
    "tfidf_dense.head(10)"
   ]
  },
  {
   "cell_type": "code",
   "execution_count": 57,
   "metadata": {},
   "outputs": [
    {
     "data": {
      "text/plain": [
       "array(['10', '100', '12', '15', '20', '30', '360', '3d', '50', '60',\n",
       "       'ability', 'able', 'absolutely', 'acting', 'action', 'actual',\n",
       "       'actually', 'add', 'added', 'addition', 'adds', 'adventure', 'age',\n",
       "       'ago', 'ai', 'allow', 'allows', 'alot', 'amazing', 'amazon',\n",
       "       'annoying', 'anymore', 'arcade', 'area', 'areas', 'arrived', 'ask',\n",
       "       'aspect', 'attack', 'available', 'avoid', 'away', 'awesome',\n",
       "       'awful', 'bad', 'ball', 'based', 'basic', 'basically', 'batteries',\n",
       "       'battery', 'battle', 'battles', 'beat', 'beautiful', 'beginning',\n",
       "       'believe', 'best', 'better', 'big', 'biggest', 'bit', 'black',\n",
       "       'blast', 'blue', 'board', 'bored', 'boring', 'boss', 'bother',\n",
       "       'bought', 'box', 'brand', 'break', 'bring', 'broke', 'broken',\n",
       "       'bucks', 'bugs', 'build', 'button', 'buttons', 'buy', 'buying',\n",
       "       'cable', 'called', 'came', 'camera', 'campaign', 'car', 'card',\n",
       "       'care', 'cars', 'case', 'cause', 'cd', 'certain', 'certainly',\n",
       "       'challenge', 'challenging', 'chance', 'change', 'changed',\n",
       "       'changes', 'character', 'characters', 'charge', 'cheap', 'check',\n",
       "       'choice', 'choose', 'christmas', 'city', 'classic', 'clear',\n",
       "       'click', 'close', 'code', 'collection', 'color', 'combat', 'come',\n",
       "       'comes', 'comfortable', 'coming', 'company', 'compared',\n",
       "       'complaint', 'complete', 'completely', 'computer', 'condition',\n",
       "       'connection', 'considering', 'console', 'constantly', 'content',\n",
       "       'continue', 'control', 'controller', 'controllers', 'controls',\n",
       "       'cool', 'copy', 'cost', 'couple', 'course', 'cover', 'crap',\n",
       "       'create', 'customer', 'cut', 'damage', 'dark', 'daughter', 'day',\n",
       "       'days', 'dead', 'deal', 'decent', 'decided', 'definitely',\n",
       "       'design', 'designed', 'despite', 'developers', 'device', 'die',\n",
       "       'difference', 'different', 'difficult', 'difficulty',\n",
       "       'disappointed', 'disappointing', 'disappointment', 'disc',\n",
       "       'dollars', 'dont', 'download', 'downloaded', 'drive', 'ds', 'duty',\n",
       "       'ea', 'early', 'easier', 'easily', 'easy', 'edition', 'effect',\n",
       "       'effects', 'end', 'ended', 'ending', 'enemies', 'enemy', 'enjoy',\n",
       "       'enjoyable', 'enjoyed', 'entertaining', 'entire', 'especially',\n",
       "       'evil', 'exactly', 'example', 'excellent', 'excited', 'expansion',\n",
       "       'expect', 'expected', 'expecting', 'expensive', 'experience',\n",
       "       'extra', 'extremely', 'face', 'fact', 'fairly', 'family', 'fan',\n",
       "       'fans', 'fantastic', 'fantasy', 'far', 'fast', 'favorite',\n",
       "       'feature', 'features', 'feel', 'feeling', 'feels', 'felt', 'fight',\n",
       "       'fighting', 'figure', 'final', 'finally', 'fine', 'finish',\n",
       "       'finished', 'fit', 'fix', 'fixed', 'follow', 'force', 'forward',\n",
       "       'fps', 'franchise', 'free', 'friend', 'friends', 'frustrating',\n",
       "       'fully', 'fun', 'future', 'game', 'gameplay', 'gamer', 'gamers',\n",
       "       'games', 'gaming', 'gave', 'gets', 'getting', 'gift', 'given',\n",
       "       'gives', 'giving', 'glad', 'goes', 'going', 'gone', 'good', 'got',\n",
       "       'gotten', 'graphics', 'great', 'guess', 'gun', 'guns', 'guy',\n",
       "       'guys', 'half', 'halo', 'hand', 'hands', 'happen', 'happened',\n",
       "       'happens', 'happy', 'hard', 'harder', 'hate', 'head', 'headset',\n",
       "       'hear', 'heard', 'help', 'high', 'higher', 'highly', 'hit', 'hold',\n",
       "       'home', 'honestly', 'hope', 'hoping', 'horrible', 'hour', 'hours',\n",
       "       'house', 'huge', 'idea', 'im', 'immediately', 'important',\n",
       "       'impossible', 'improved', 'included', 'including', 'incredibly',\n",
       "       'inside', 'install', 'installed', 'instead', 'interesting',\n",
       "       'internet', 'issue', 'issues', 'item', 'items', 'job', 'jump',\n",
       "       'keeps', 'kept', 'key', 'keyboard', 'kids', 'kill', 'kind', 'knew',\n",
       "       'know', 'lack', 'large', 'later', 'learn', 'learning', 'leave',\n",
       "       'left', 'let', 'level', 'levels', 'life', 'light', 'like', 'liked',\n",
       "       'likes', 'limited', 'line', 'list', 'literally', 'little', 'live',\n",
       "       'load', 'long', 'longer', 'look', 'looked', 'looking', 'looks',\n",
       "       'lose', 'lost', 'lot', 'lots', 'love', 'loved', 'loves', 'low',\n",
       "       'machine', 'main', 'major', 'make', 'makes', 'making', 'man',\n",
       "       'map', 'maps', 'mario', 'market', 'match', 'matter', 'maybe',\n",
       "       'mean', 'means', 'memory', 'mention', 'menu', 'microsoft',\n",
       "       'middle', 'mind', 'minor', 'minutes', 'missing', 'mission',\n",
       "       'missions', 'mode', 'modes', 'money', 'month', 'months', 'mouse',\n",
       "       'moves', 'movie', 'movies', 'moving', 'multiplayer', 'multiple',\n",
       "       'music', 'near', 'nearly', 'need', 'needed', 'needs', 'new',\n",
       "       'nice', 'night', 'nintendo', 'normal', 'note', 'noticed', 'number',\n",
       "       'offer', 'oh', 'ok', 'okay', 'old', 'older', 'ones', 'online',\n",
       "       'open', 'opinion', 'option', 'options', 'order', 'ordered',\n",
       "       'original', 'overall', 'pack', 'package', 'paid', 'parts', 'party',\n",
       "       'pass', 'past', 'patch', 'pay', 'pc', 'people', 'perfect',\n",
       "       'perfectly', 'person', 'personally', 'pick', 'picture', 'piece',\n",
       "       'place', 'plastic', 'play', 'played', 'player', 'players',\n",
       "       'playing', 'plays', 'playstation', 'plenty', 'plot', 'plug',\n",
       "       'plus', 'point', 'points', 'poor', 'possible', 'power', 'press',\n",
       "       'pretty', 'previous', 'price', 'probably', 'problem', 'problems',\n",
       "       'product', 'products', 'program', 'progress', 'properly', 'ps2',\n",
       "       'ps3', 'psp', 'purchase', 'purchased', 'purchasing', 'puzzles',\n",
       "       'quality', 'quests', 'quick', 'quickly', 'quite', 'racing',\n",
       "       'random', 'rate', 'rating', 'read', 'reading', 'real', 'realistic',\n",
       "       'really', 'reason', 'received', 'recommend', 'recommended', 'red',\n",
       "       'refund', 'regular', 'release', 'released', 'remember', 'remote',\n",
       "       'repetitive', 'replacement', 'replay', 'required', 'requires',\n",
       "       'rest', 'return', 'review', 'reviews', 'right', 'room', 'rpg',\n",
       "       'run', 'running', 'runs', 'said', 'save', 'saw', 'say', 'saying',\n",
       "       'says', 'scenes', 'screen', 'second', 'seconds', 'seeing', 'seen',\n",
       "       'sell', 'seller', 'send', 'sense', 'sent', 'series', 'seriously',\n",
       "       'service', 'set', 'setting', 'settings', 'shipping', 'shoot',\n",
       "       'shooter', 'shooting', 'short', 'shot', 'shows', 'similar',\n",
       "       'simple', 'simply', 'sims', 'single', 'size', 'skill', 'skills',\n",
       "       'slightly', 'slow', 'small', 'smooth', 'software', 'sold', 'solid',\n",
       "       'somewhat', 'son', 'songs', 'sony', 'soon', 'sorry', 'sort',\n",
       "       'sound', 'sounds', 'space', 'special', 'speed', 'spend', 'spent',\n",
       "       'sports', 'stand', 'standard', 'star', 'stars', 'start', 'started',\n",
       "       'starts', 'stay', 'steam', 'step', 'stick', 'stop', 'stopped',\n",
       "       'store', 'story', 'storyline', 'straight', 'strategy', 'stuck',\n",
       "       'stuff', 'stupid', 'style', 'sucks', 'suggest', 'super', 'support',\n",
       "       'supposed', 'sure', 'switch', 'systems', 'taken', 'takes',\n",
       "       'taking', 'talk', 'talking', 'team', 'tell', 'terrible', 'thank',\n",
       "       'thanks', 'thats', 'thing', 'things', 'think', 'thinking',\n",
       "       'thought', 'throw', 'time', 'times', 'title', 'titles', 'today',\n",
       "       'told', 'tons', 'took', 'total', 'totally', 'touch', 'tried',\n",
       "       'trouble', 'true', 'truly', 'try', 'trying', 'turn', 'turned',\n",
       "       'turns', 'tv', 'twice', 'type', 'types', 'understand',\n",
       "       'unfortunately', 'unique', 'unit', 'unless', 'unlike', 'unlock',\n",
       "       'update', 'upgrade', 'usb', 'use', 'used', 'useless', 'uses',\n",
       "       'using', 'usually', 'value', 'variety', 'various', 'version',\n",
       "       'versions', 'video', 'voice', 'wait', 'waiting', 'want', 'wanted',\n",
       "       'wants', 'war', 'wars', 'waste', 'watch', 'watching', 'way',\n",
       "       'ways', 'weapon', 'weapons', 'week', 'weeks', 'went', 'wii', 'win',\n",
       "       'windows', 'wireless', 'wish', 'wonderful', 'work', 'worked',\n",
       "       'working', 'works', 'world', 'worse', 'worst', 'worth', 'wow',\n",
       "       'wrong', 'xbox', 'year', 'years', 'yes'], dtype='<U14')"
      ]
     },
     "execution_count": 57,
     "metadata": {},
     "output_type": "execute_result"
    }
   ],
   "source": [
    "np.sort(list(video_game_tfidf_vect_fit.vocabulary_.keys()))"
   ]
  },
  {
   "cell_type": "code",
   "execution_count": 58,
   "metadata": {},
   "outputs": [
    {
     "data": {
      "text/html": [
       "<div>\n",
       "<style scoped>\n",
       "    .dataframe tbody tr th:only-of-type {\n",
       "        vertical-align: middle;\n",
       "    }\n",
       "\n",
       "    .dataframe tbody tr th {\n",
       "        vertical-align: top;\n",
       "    }\n",
       "\n",
       "    .dataframe thead th {\n",
       "        text-align: right;\n",
       "    }\n",
       "</style>\n",
       "<table border=\"1\" class=\"dataframe\">\n",
       "  <thead>\n",
       "    <tr style=\"text-align: right;\">\n",
       "      <th></th>\n",
       "      <th>weights</th>\n",
       "    </tr>\n",
       "  </thead>\n",
       "  <tbody>\n",
       "    <tr>\n",
       "      <th>sold</th>\n",
       "      <td>5.603335</td>\n",
       "    </tr>\n",
       "    <tr>\n",
       "      <th>ball</th>\n",
       "      <td>5.603181</td>\n",
       "    </tr>\n",
       "    <tr>\n",
       "      <th>fully</th>\n",
       "      <td>5.601497</td>\n",
       "    </tr>\n",
       "    <tr>\n",
       "      <th>ask</th>\n",
       "      <td>5.600885</td>\n",
       "    </tr>\n",
       "    <tr>\n",
       "      <th>wars</th>\n",
       "      <td>5.600274</td>\n",
       "    </tr>\n",
       "    <tr>\n",
       "      <th>types</th>\n",
       "      <td>5.599357</td>\n",
       "    </tr>\n",
       "    <tr>\n",
       "      <th>damage</th>\n",
       "      <td>5.599204</td>\n",
       "    </tr>\n",
       "    <tr>\n",
       "      <th>replacement</th>\n",
       "      <td>5.594711</td>\n",
       "    </tr>\n",
       "    <tr>\n",
       "      <th>sorry</th>\n",
       "      <td>5.593496</td>\n",
       "    </tr>\n",
       "    <tr>\n",
       "      <th>awful</th>\n",
       "      <td>5.593421</td>\n",
       "    </tr>\n",
       "    <tr>\n",
       "      <th>quests</th>\n",
       "      <td>5.591753</td>\n",
       "    </tr>\n",
       "    <tr>\n",
       "      <th>cd</th>\n",
       "      <td>5.590465</td>\n",
       "    </tr>\n",
       "    <tr>\n",
       "      <th>incredibly</th>\n",
       "      <td>5.587670</td>\n",
       "    </tr>\n",
       "    <tr>\n",
       "      <th>step</th>\n",
       "      <td>5.585710</td>\n",
       "    </tr>\n",
       "    <tr>\n",
       "      <th>learning</th>\n",
       "      <td>5.585635</td>\n",
       "    </tr>\n",
       "  </tbody>\n",
       "</table>\n",
       "</div>"
      ],
      "text/plain": [
       "              weights\n",
       "sold         5.603335\n",
       "ball         5.603181\n",
       "fully        5.601497\n",
       "ask          5.600885\n",
       "wars         5.600274\n",
       "types        5.599357\n",
       "damage       5.599204\n",
       "replacement  5.594711\n",
       "sorry        5.593496\n",
       "awful        5.593421\n",
       "quests       5.591753\n",
       "cd           5.590465\n",
       "incredibly   5.587670\n",
       "step         5.585710\n",
       "learning     5.585635"
      ]
     },
     "execution_count": 58,
     "metadata": {},
     "output_type": "execute_result"
    }
   ],
   "source": [
    "term_weights = pd.DataFrame(video_game_tfidf_vect_fit.idf_, np.sort(list(video_game_tfidf_vect_fit.vocabulary_.keys())))\n",
    "term_weights = term_weights.rename(columns={0: 'weights'})\n",
    "term_weights.sort_values(by=['weights'], ascending=False).head(15)"
   ]
  },
  {
   "cell_type": "code",
   "execution_count": 59,
   "metadata": {},
   "outputs": [],
   "source": [
    "tfidf_dense_X = tfidf_dense.iloc[:,:-1]\n",
    "tfidf_dense_y = tfidf_dense.iloc[:,-1]\n",
    "\n",
    "np.random.seed(1)\n",
    "X_train, X_test, y_train, y_test = train_test_split(tfidf_dense_X, tfidf_dense_y, test_size=0.2)\n",
    "\n",
    "#video_game_tfidf_rf_fit = rf_classifier.fit(X_train, y_train)\n",
    "#pickle.dump(video_game_tfidf_rf_fit, open('video_game_tfidf_rf_fit.pkl', 'wb'))\n",
    "video_game_tfidf_rf_fit = pickle.load(open('video_game_tfidf_rf_fit.pkl', 'rb'))"
   ]
  },
  {
   "cell_type": "code",
   "execution_count": 60,
   "metadata": {},
   "outputs": [
    {
     "data": {
      "text/plain": [
       "0.06539799295152832"
      ]
     },
     "execution_count": 60,
     "metadata": {},
     "output_type": "execute_result"
    }
   ],
   "source": [
    "# misclassification rate\n",
    "len(np.where(y_test != video_game_tfidf_rf_fit.predict(X_test))[0]) / len(y_test)"
   ]
  },
  {
   "cell_type": "code",
   "execution_count": 61,
   "metadata": {},
   "outputs": [
    {
     "data": {
      "text/plain": [
       "0.9346020070484716"
      ]
     },
     "execution_count": 61,
     "metadata": {},
     "output_type": "execute_result"
    }
   ],
   "source": [
    "# mean accuracy of the model\n",
    "video_game_tfidf_rf_fit.score(X_test, y_test)"
   ]
  },
  {
   "cell_type": "code",
   "execution_count": 62,
   "metadata": {},
   "outputs": [
    {
     "data": {
      "image/png": "[encoded data removed]",
      "text/plain": [
       "<matplotlib.figure.Figure at 0x1b1b9404e0>"
      ]
     },
     "metadata": {},
     "output_type": "display_data"
    }
   ],
   "source": [
    "from sklearn import metrics\n",
    "prob_value = video_game_tfidf_rf_fit.predict_proba(X_test)[:,1]\n",
    "fpr, tpr, thresholds = metrics.roc_curve(y_test, prob_value)\n",
    "plt.plot(fpr, tpr, color='darkorange')\n",
    "plt.plot([0,1], [0,1], color='navy', linestyle='--')\n",
    "plt.suptitle('ROC Curve')\n",
    "plt.xlabel('False Positive Rate')\n",
    "plt.ylabel('True Positive Rate')\n",
    "plt.show()"
   ]
  },
  {
   "cell_type": "code",
   "execution_count": 63,
   "metadata": {},
   "outputs": [
    {
     "data": {
      "text/plain": [
       "0.9413228602165223"
      ]
     },
     "execution_count": 63,
     "metadata": {},
     "output_type": "execute_result"
    }
   ],
   "source": [
    "# AUC\n",
    "roc_auc_score(y_test, video_game_tfidf_rf_fit.predict(X_test))"
   ]
  },
  {
   "cell_type": "code",
   "execution_count": 64,
   "metadata": {},
   "outputs": [
    {
     "data": {
      "text/plain": [
       "0.9349880255644089"
      ]
     },
     "execution_count": 64,
     "metadata": {},
     "output_type": "execute_result"
    }
   ],
   "source": [
    "# F1 score\n",
    "f1_score(y_test, video_game_tfidf_rf_fit.predict(X_test), average='weighted')"
   ]
  },
  {
   "cell_type": "markdown",
   "metadata": {},
   "source": [
    "We apply the model to the test dataset and obtain various scores."
   ]
  },
  {
   "cell_type": "code",
   "execution_count": 65,
   "metadata": {},
   "outputs": [],
   "source": [
    "# transform text data in test set\n",
    "#video_game_review_test['converted_review'] = video_game_review_test['review'].str.lower()\n",
    "#converted_review = list(video_game_review_test['converted_review'])\n",
    "#converted_review = [remove_special_characters(sentence) for sentence in converted_review]\n",
    "#video_game_review_test['converted_review'] = pd.Series(converted_review)\n",
    "\n",
    "#pickle.dump(video_game_review_test, open('video_game_review_test.pkl', 'wb'))\n",
    "video_game_review_test = pickle.load(open('video_game_review_test.pkl', 'rb'))"
   ]
  },
  {
   "cell_type": "code",
   "execution_count": 66,
   "metadata": {},
   "outputs": [],
   "source": [
    "# construct TF-IDF Matrix with true label column\n",
    "tfidf_sparse = video_game_tfidf_vect_fit.transform(video_game_review_test['converted_review'])\n",
    "tfidf_dense = tfidf_sparse.todense(order=None, out=None)\n",
    "tfidf_dense = pd.DataFrame(tfidf_dense)\n",
    "tfidf_dense['y'] = video_game_review_test['sentiment']"
   ]
  },
  {
   "cell_type": "code",
   "execution_count": 67,
   "metadata": {},
   "outputs": [
    {
     "data": {
      "text/plain": [
       "0.13936535345329892"
      ]
     },
     "execution_count": 67,
     "metadata": {},
     "output_type": "execute_result"
    }
   ],
   "source": [
    "# misclassification rate\n",
    "X_test = tfidf_dense.iloc[:,:-1]\n",
    "y_test = tfidf_dense.iloc[:,-1]\n",
    "len(np.where(y_test != video_game_tfidf_rf_fit.predict(X_test))[0]) / len(y_test)"
   ]
  },
  {
   "cell_type": "code",
   "execution_count": 68,
   "metadata": {},
   "outputs": [
    {
     "data": {
      "image/png": "[encoded data removed]",
      "text/plain": [
       "<matplotlib.figure.Figure at 0x1ebcc85780>"
      ]
     },
     "metadata": {},
     "output_type": "display_data"
    }
   ],
   "source": [
    "prob_value = video_game_tfidf_rf_fit.predict_proba(X_test)[:,1]\n",
    "fpr, tpr, thresholds = metrics.roc_curve(y_test, prob_value)\n",
    "plt.plot(fpr, tpr, color='darkorange')\n",
    "plt.plot([0,1], [0,1], color='navy', linestyle='--')\n",
    "plt.suptitle('Video Game Review ROC Curve (TF-IDF)')\n",
    "plt.xlabel('False Positive Rate')\n",
    "plt.ylabel('True Positive Rate')\n",
    "plt.show()"
   ]
  },
  {
   "cell_type": "code",
   "execution_count": 69,
   "metadata": {},
   "outputs": [
    {
     "data": {
      "text/plain": [
       "0.802141701372415"
      ]
     },
     "execution_count": 69,
     "metadata": {},
     "output_type": "execute_result"
    }
   ],
   "source": [
    "# AUC\n",
    "roc_auc_score(y_test, video_game_tfidf_rf_fit.predict(X_test))"
   ]
  },
  {
   "cell_type": "code",
   "execution_count": 70,
   "metadata": {},
   "outputs": [
    {
     "data": {
      "text/plain": [
       "0.8639767593191527"
      ]
     },
     "execution_count": 70,
     "metadata": {},
     "output_type": "execute_result"
    }
   ],
   "source": [
    "# F1 score\n",
    "f1_score(y_test, video_game_tfidf_rf_fit.predict(X_test), average='weighted')"
   ]
  },
  {
   "cell_type": "markdown",
   "metadata": {},
   "source": [
    "### 2. Parsimonious Rule-Based Model Approach\n",
    "\n",
    "The following codes are exactly the same as our previous __Parsimonious Rule-Based Model__ for __Yelp review__ data."
   ]
  },
  {
   "cell_type": "code",
   "execution_count": 72,
   "metadata": {},
   "outputs": [],
   "source": [
    "VADER_video_game_review = video_game_review_test.copy()"
   ]
  },
  {
   "cell_type": "code",
   "execution_count": 73,
   "metadata": {},
   "outputs": [],
   "source": [
    "#from vaderSentiment.vaderSentiment import SentimentIntensityAnalyzer\n",
    "#analyzer = SentimentIntensityAnalyzer()\n",
    "#def sentiment_analyzer(x):\n",
    "#    x = analyzer.polarity_scores(x).get('compound')\n",
    "#    return x\n",
    "#VADER_video_game_review['polarity_score'] = np.vectorize(sentiment_analyzer)(VADER_video_game_review['review'])"
   ]
  },
  {
   "cell_type": "code",
   "execution_count": 74,
   "metadata": {},
   "outputs": [],
   "source": [
    "#def normalize(x):\n",
    "#    x = (x+1)/2\n",
    "#    return x\n",
    "#VADER_video_game_review['normalized_polarity_score'] = np.vectorize(normalize)(VADER_video_game_review['polarity_score'])"
   ]
  },
  {
   "cell_type": "code",
   "execution_count": 75,
   "metadata": {},
   "outputs": [],
   "source": [
    "#def VADER_sentiment(x):\n",
    "#    if x > 0.5:\n",
    "#        y = 1\n",
    "#    elif x == 0.5:\n",
    "#        if np.random.uniform(0,1) >= 0.5:\n",
    "#            y = 1\n",
    "#        else:\n",
    "#            y = 0\n",
    "#    else:\n",
    "#        y = 0\n",
    "#    return y\n",
    "#VADER_video_game_review['predicted_sentiment'] = np.vectorize(VADER_sentiment)(VADER_video_game_review['normalized_polarity_score'])"
   ]
  },
  {
   "cell_type": "code",
   "execution_count": 76,
   "metadata": {},
   "outputs": [
    {
     "data": {
      "text/html": [
       "<div>\n",
       "<style scoped>\n",
       "    .dataframe tbody tr th:only-of-type {\n",
       "        vertical-align: middle;\n",
       "    }\n",
       "\n",
       "    .dataframe tbody tr th {\n",
       "        vertical-align: top;\n",
       "    }\n",
       "\n",
       "    .dataframe thead th {\n",
       "        text-align: right;\n",
       "    }\n",
       "</style>\n",
       "<table border=\"1\" class=\"dataframe\">\n",
       "  <thead>\n",
       "    <tr style=\"text-align: right;\">\n",
       "      <th></th>\n",
       "      <th>review</th>\n",
       "      <th>rating</th>\n",
       "      <th>sentiment</th>\n",
       "      <th>converted_review</th>\n",
       "      <th>polarity_score</th>\n",
       "      <th>normalized_polarity_score</th>\n",
       "      <th>predicted_sentiment</th>\n",
       "    </tr>\n",
       "  </thead>\n",
       "  <tbody>\n",
       "    <tr>\n",
       "      <th>0</th>\n",
       "      <td>I want a strategy guide  tell me where i can a...</td>\n",
       "      <td>1</td>\n",
       "      <td>0</td>\n",
       "      <td>i want a strategy guide  tell me where i can a...</td>\n",
       "      <td>0.0772</td>\n",
       "      <td>0.53860</td>\n",
       "      <td>1</td>\n",
       "    </tr>\n",
       "    <tr>\n",
       "      <th>1</th>\n",
       "      <td>Awful. Do not buy, it's not worth the time or ...</td>\n",
       "      <td>1</td>\n",
       "      <td>0</td>\n",
       "      <td>awful do not buy its not worth the time or mon...</td>\n",
       "      <td>-0.2154</td>\n",
       "      <td>0.39230</td>\n",
       "      <td>0</td>\n",
       "    </tr>\n",
       "    <tr>\n",
       "      <th>2</th>\n",
       "      <td>Not sure what the target audience is for this ...</td>\n",
       "      <td>1</td>\n",
       "      <td>0</td>\n",
       "      <td>not sure what the target audience is for this ...</td>\n",
       "      <td>-0.0675</td>\n",
       "      <td>0.46625</td>\n",
       "      <td>0</td>\n",
       "    </tr>\n",
       "    <tr>\n",
       "      <th>3</th>\n",
       "      <td>The Xbox works (so far) but due to Xbox server...</td>\n",
       "      <td>1</td>\n",
       "      <td>0</td>\n",
       "      <td>the xbox works so far but due to xbox server i...</td>\n",
       "      <td>-0.5157</td>\n",
       "      <td>0.24215</td>\n",
       "      <td>0</td>\n",
       "    </tr>\n",
       "    <tr>\n",
       "      <th>4</th>\n",
       "      <td>I received the Tiger Woods PGA Tour 12: The Ma...</td>\n",
       "      <td>1</td>\n",
       "      <td>0</td>\n",
       "      <td>i received the tiger woods pga tour 12 the mas...</td>\n",
       "      <td>0.6696</td>\n",
       "      <td>0.83480</td>\n",
       "      <td>1</td>\n",
       "    </tr>\n",
       "    <tr>\n",
       "      <th>5</th>\n",
       "      <td>I didn't have a chance to play the game so tha...</td>\n",
       "      <td>1</td>\n",
       "      <td>0</td>\n",
       "      <td>i didnt have a chance to play the game so that...</td>\n",
       "      <td>-0.3669</td>\n",
       "      <td>0.31655</td>\n",
       "      <td>0</td>\n",
       "    </tr>\n",
       "    <tr>\n",
       "      <th>6</th>\n",
       "      <td>After 7 hours of trying to just install this g...</td>\n",
       "      <td>1</td>\n",
       "      <td>0</td>\n",
       "      <td>after 7 hours of trying to just install this g...</td>\n",
       "      <td>-0.1494</td>\n",
       "      <td>0.42530</td>\n",
       "      <td>0</td>\n",
       "    </tr>\n",
       "    <tr>\n",
       "      <th>7</th>\n",
       "      <td>Releasing this game at $59 / $49 price point s...</td>\n",
       "      <td>1</td>\n",
       "      <td>0</td>\n",
       "      <td>releasing this game at 59  49 price point shou...</td>\n",
       "      <td>-0.9435</td>\n",
       "      <td>0.02825</td>\n",
       "      <td>0</td>\n",
       "    </tr>\n",
       "    <tr>\n",
       "      <th>8</th>\n",
       "      <td>I purchased this product. Used it once, tried ...</td>\n",
       "      <td>1</td>\n",
       "      <td>0</td>\n",
       "      <td>i purchased this product used it once tried to...</td>\n",
       "      <td>-0.5244</td>\n",
       "      <td>0.23780</td>\n",
       "      <td>0</td>\n",
       "    </tr>\n",
       "    <tr>\n",
       "      <th>9</th>\n",
       "      <td>I was going blind playing this version of COD....</td>\n",
       "      <td>1</td>\n",
       "      <td>0</td>\n",
       "      <td>i was going blind playing this version of codo...</td>\n",
       "      <td>-0.7882</td>\n",
       "      <td>0.10590</td>\n",
       "      <td>0</td>\n",
       "    </tr>\n",
       "  </tbody>\n",
       "</table>\n",
       "</div>"
      ],
      "text/plain": [
       "                                              review rating  sentiment  \\\n",
       "0  I want a strategy guide  tell me where i can a...      1          0   \n",
       "1  Awful. Do not buy, it's not worth the time or ...      1          0   \n",
       "2  Not sure what the target audience is for this ...      1          0   \n",
       "3  The Xbox works (so far) but due to Xbox server...      1          0   \n",
       "4  I received the Tiger Woods PGA Tour 12: The Ma...      1          0   \n",
       "5  I didn't have a chance to play the game so tha...      1          0   \n",
       "6  After 7 hours of trying to just install this g...      1          0   \n",
       "7  Releasing this game at $59 / $49 price point s...      1          0   \n",
       "8  I purchased this product. Used it once, tried ...      1          0   \n",
       "9  I was going blind playing this version of COD....      1          0   \n",
       "\n",
       "                                    converted_review  polarity_score  \\\n",
       "0  i want a strategy guide  tell me where i can a...          0.0772   \n",
       "1  awful do not buy its not worth the time or mon...         -0.2154   \n",
       "2  not sure what the target audience is for this ...         -0.0675   \n",
       "3  the xbox works so far but due to xbox server i...         -0.5157   \n",
       "4  i received the tiger woods pga tour 12 the mas...          0.6696   \n",
       "5  i didnt have a chance to play the game so that...         -0.3669   \n",
       "6  after 7 hours of trying to just install this g...         -0.1494   \n",
       "7  releasing this game at 59  49 price point shou...         -0.9435   \n",
       "8  i purchased this product used it once tried to...         -0.5244   \n",
       "9  i was going blind playing this version of codo...         -0.7882   \n",
       "\n",
       "   normalized_polarity_score  predicted_sentiment  \n",
       "0                    0.53860                    1  \n",
       "1                    0.39230                    0  \n",
       "2                    0.46625                    0  \n",
       "3                    0.24215                    0  \n",
       "4                    0.83480                    1  \n",
       "5                    0.31655                    0  \n",
       "6                    0.42530                    0  \n",
       "7                    0.02825                    0  \n",
       "8                    0.23780                    0  \n",
       "9                    0.10590                    0  "
      ]
     },
     "execution_count": 76,
     "metadata": {},
     "output_type": "execute_result"
    }
   ],
   "source": [
    "#pickle.dump(VADER_video_game_review, open('VADER_video_game_review.pkl', 'wb'))\n",
    "VADER_video_game_review = pickle.load(open('VADER_video_game_review.pkl', 'rb'))\n",
    "VADER_video_game_review.head(10)"
   ]
  },
  {
   "cell_type": "code",
   "execution_count": 77,
   "metadata": {},
   "outputs": [
    {
     "data": {
      "text/plain": [
       "0.16342084781157096"
      ]
     },
     "execution_count": 77,
     "metadata": {},
     "output_type": "execute_result"
    }
   ],
   "source": [
    "# misclassification rate\n",
    "len(np.where(VADER_video_game_review['sentiment'] != VADER_video_game_review['predicted_sentiment'])[0]) / len(VADER_video_game_review)"
   ]
  },
  {
   "cell_type": "code",
   "execution_count": 78,
   "metadata": {},
   "outputs": [
    {
     "data": {
      "image/png": "[encoded data removed]",
      "text/plain": [
       "<matplotlib.figure.Figure at 0x1ec65a8cc0>"
      ]
     },
     "metadata": {},
     "output_type": "display_data"
    }
   ],
   "source": [
    "# ROC curve\n",
    "prob_value = VADER_video_game_review['normalized_polarity_score']\n",
    "fpr, tpr, thresholds = metrics.roc_curve(y_test, prob_value)\n",
    "plt.plot(fpr, tpr, color='darkorange')\n",
    "plt.plot([0,1], [0,1], color='navy', linestyle='--')\n",
    "plt.suptitle('Video Game Review ROC Curve (VADER)')\n",
    "plt.xlabel('False Positive Rate')\n",
    "plt.ylabel('True Positive Rate')\n",
    "plt.show()"
   ]
  },
  {
   "cell_type": "code",
   "execution_count": 79,
   "metadata": {},
   "outputs": [],
   "source": [
    "y_true = list(VADER_video_game_review['sentiment'])\n",
    "y_pred = list(VADER_video_game_review['predicted_sentiment'])"
   ]
  },
  {
   "cell_type": "code",
   "execution_count": 80,
   "metadata": {},
   "outputs": [
    {
     "data": {
      "text/plain": [
       "0.7020845949681173"
      ]
     },
     "execution_count": 80,
     "metadata": {},
     "output_type": "execute_result"
    }
   ],
   "source": [
    "# AUC score\n",
    "roc_auc_score(y_true, y_pred)"
   ]
  },
  {
   "cell_type": "code",
   "execution_count": 81,
   "metadata": {},
   "outputs": [
    {
     "data": {
      "text/plain": [
       "0.830061976659616"
      ]
     },
     "execution_count": 81,
     "metadata": {},
     "output_type": "execute_result"
    }
   ],
   "source": [
    "# F1 score\n",
    "f1_score(y_true, y_pred, average='weighted')"
   ]
  },
  {
   "cell_type": "markdown",
   "metadata": {},
   "source": [
    "The below is a table with scores. Again, __TF-IDF Model__ worked better than __Parsimonious Rule-Based Model__."
   ]
  },
  {
   "cell_type": "markdown",
   "metadata": {},
   "source": [
    "<br>\n",
    "\n",
    "|             |Video Game Review (TF-IDF)|Video Game Review (VADER)|\n",
    "|:-----------:|:------------------------:|:-----------------------:|\n",
    "|  error rate |           0.139          |          0.163          |\n",
    "|     AUC     |           0.802          |          0.702          |\n",
    "|F1 (weighted)|           0.864          |          0.830          |\n",
    "<br>\n",
    "<br>"
   ]
  },
  {
   "cell_type": "markdown",
   "metadata": {},
   "source": [
    "Let's put everything together and do final comparison between two models on two datasets."
   ]
  },
  {
   "cell_type": "markdown",
   "metadata": {},
   "source": [
    "<br>\n",
    "\n",
    "|              |Yelp Review (TF-IDF)|Yelp Review (VADER)|Video Game Review (TF-IDF)|Video Game Review (VADER)|\n",
    "|:------------:|:------------------:|:-----------------:|:------------------------:|:-----------------------:|\n",
    "|  error rate  |        0.112       |       0.213       |           0.139          |          0.163          |\n",
    "|      AUC     |        0.883       |       0.727       |           0.802          |          0.702          |\n",
    "| F1 (weighted)|        0.888       |       0.766       |           0.864          |          0.830          |\n",
    "<br>\n",
    "<br>"
   ]
  },
  {
   "cell_type": "markdown",
   "metadata": {},
   "source": [
    "## Conclusion\n",
    "\n",
    "First of all, an odd thing we notice is that the __Parsimonious Rule-Based Model__ actually performed better on __video game review__, which is unexpected. We thought it would not work as well as on __Yelp review__ since some of the game-related technical words such as *kill*, *die*, *destroy* could be used to express positive sentiment. In general, these words are supposed to be used to express negative sentiment. We think that the 5 general rules have a significant impact on its generalizability.\n",
    "<br>\n",
    "<br>\n",
    "__TF-IDF__ is currently considered one of the most standard approaches to text mining. The performance metric (even without fine-parameter-tuning) clearly showed why it is considered the industry standard. However, we emphasize the achievement of __Parsimonious Rule-Based Model__ by comparing it with disadvantages of __TF-IDF Model__.\n",
    "<br>\n",
    "<br>\n",
    "Disadvantages of __TF-IDF__ (Advantages of __Parsimonious Rule-Based Model__)\n",
    "<br>\n",
    "1. Does not take structure of words (grammar or idioms) into account.\n",
    "2. Hard to interpret (black-box).\n",
    "3. Scalability (fast enough to be used online with streaming data).\n",
    "4. Less of speed-performance tradeoff."
   ]
  },
  {
   "cell_type": "markdown",
   "metadata": {},
   "source": [
    "We, especially, want to emphasize the interpretability part. For further improvement, having an interpretable model is very important. Without interpretable models, if something goes wrong, we might have to start building a new model from scratch, which is definitely not desirable. Also, the computational aspect should be mentioned. Because of kernel death problem, we couldn't use *Pipeline* to fine-tune parameters of *TfidfVectorizer* and *RandomForestClassifier*. However, based on our experiment, the tuning would easily take multiple hours, while __Parsimonious Rule-Based Model__ took about 15 minutes for the entire process. While more and more sophisticated versions of machine learning algorithms are prevailing in data science, this is a great example where we can see the benefits of human-centric approach and the limitations of black-box machine learning approach."
   ]
  },
  {
   "cell_type": "markdown",
   "metadata": {},
   "source": [
    "-----------------------------------------------"
   ]
  },
  {
   "cell_type": "markdown",
   "metadata": {},
   "source": [
    "__Appendix (some examples of 5 generalizable heuristics)__\n",
    "<br>\n",
    "<br>\n",
    "We think that it's worth presenting some examples that show the strengths of __Parsimonious Rule-Based Model__. __TF-IDF Model__ wouldn't be able to pick up the differences between the following examples, while __Parsimonious Rule-Based Model__ can accurately catch and score the right sentiment measures."
   ]
  },
  {
   "cell_type": "markdown",
   "metadata": {},
   "source": [
    "It considers tri-gram preceding sentiment-laden lexical feature.\n",
    "<br>\n",
    "For example, __never been vs. never been this__ or __shit vs. the shit__"
   ]
  },
  {
   "cell_type": "code",
   "execution_count": 82,
   "metadata": {},
   "outputs": [
    {
     "data": {
      "text/plain": [
       "{'compound': -0.3412, 'neg': 0.325, 'neu': 0.675, 'pos': 0.0}"
      ]
     },
     "execution_count": 82,
     "metadata": {},
     "output_type": "execute_result"
    }
   ],
   "source": [
    "sentence = 'My life has never been good.'\n",
    "analyzer.polarity_scores(sentence)"
   ]
  },
  {
   "cell_type": "code",
   "execution_count": 83,
   "metadata": {},
   "outputs": [
    {
     "data": {
      "text/plain": [
       "{'compound': 0.5228, 'neg': 0.0, 'neu': 0.64, 'pos': 0.36}"
      ]
     },
     "execution_count": 83,
     "metadata": {},
     "output_type": "execute_result"
    }
   ],
   "source": [
    "sentence = 'My life has never been this good.'\n",
    "analyzer.polarity_scores(sentence)"
   ]
  },
  {
   "cell_type": "code",
   "execution_count": 84,
   "metadata": {},
   "outputs": [
    {
     "data": {
      "text/plain": [
       "{'compound': -0.6351, 'neg': 0.582, 'neu': 0.418, 'pos': 0.0}"
      ]
     },
     "execution_count": 84,
     "metadata": {},
     "output_type": "execute_result"
    }
   ],
   "source": [
    "sentence = 'PSTAT 234 is shit!!'\n",
    "analyzer.polarity_scores(sentence)"
   ]
  },
  {
   "cell_type": "code",
   "execution_count": 85,
   "metadata": {},
   "outputs": [
    {
     "data": {
      "text/plain": [
       "{'compound': 0.6792, 'neg': 0.0, 'neu': 0.466, 'pos': 0.534}"
      ]
     },
     "execution_count": 85,
     "metadata": {},
     "output_type": "execute_result"
    }
   ],
   "source": [
    "sentence = 'PSTAT 234 is the shit!!'\n",
    "analyzer.polarity_scores(sentence)"
   ]
  },
  {
   "cell_type": "markdown",
   "metadata": {},
   "source": [
    "It also considers different weights for pre-conjunction and post-conjunction."
   ]
  },
  {
   "cell_type": "code",
   "execution_count": 86,
   "metadata": {},
   "outputs": [
    {
     "data": {
      "text/plain": [
       "{'compound': -0.6542, 'neg': 0.438, 'neu': 0.377, 'pos': 0.185}"
      ]
     },
     "execution_count": 86,
     "metadata": {},
     "output_type": "execute_result"
    }
   ],
   "source": [
    "sentence = 'I loved the food, but I hated their staff.'\n",
    "analyzer.polarity_scores(sentence)"
   ]
  },
  {
   "cell_type": "code",
   "execution_count": 87,
   "metadata": {},
   "outputs": [
    {
     "data": {
      "text/plain": [
       "{'compound': 0.5789, 'neg': 0.201, 'neu': 0.386, 'pos': 0.413}"
      ]
     },
     "execution_count": 87,
     "metadata": {},
     "output_type": "execute_result"
    }
   ],
   "source": [
    "sentence = 'I hated their staff, but I loved the food.'\n",
    "analyzer.polarity_scores(sentence)"
   ]
  },
  {
   "cell_type": "markdown",
   "metadata": {},
   "source": [
    "__Reference__"
   ]
  },
  {
   "cell_type": "markdown",
   "metadata": {},
   "source": [
    "Special thanks to Julian McAuley, *Assistant Professor*, Computer Science Department @ UCSD\n",
    "<br>\n",
    "<br>\n",
    "R. He, J. McAuley. Modeling the visual evolution of fashion trends with one-class collaborative filtering. WWW, 2016.\n",
    "<br>\n",
    "J. McAuley, C. Targett, J. Shi, A. van den Hengel. Image-based recommendations on styles and substitutes. SIGIR, 2015.\n",
    "<br>\n",
    "Hutto, C.J. & Gilbert, Eric. (2015). VADER: A Parsimonious Rule-based Model for Sentiment Analysis of Social Media Text. Proceedings of the 8th International Conference on Weblogs and Social Media, ICWSM 2014. "
   ]
  }
 ],
 "metadata": {
  "kernelspec": {
   "display_name": "Python 3",
   "language": "python",
   "name": "python3"
  },
  "language_info": {
   "codemirror_mode": {
    "name": "ipython",
    "version": 3
   },
   "file_extension": ".py",
   "mimetype": "text/x-python",
   "name": "python",
   "nbconvert_exporter": "python",
   "pygments_lexer": "ipython3",
   "version": "3.6.4"
  }
 },
 "nbformat": 4,
 "nbformat_minor": 2
}
